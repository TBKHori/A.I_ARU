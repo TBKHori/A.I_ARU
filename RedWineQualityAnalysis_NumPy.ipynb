{
  "cells": [
    {
      "cell_type": "markdown",
      "metadata": {
        "id": "view-in-github",
        "colab_type": "text"
      },
      "source": [
        "<a href=\"https://colab.research.google.com/github/TBKHori/A.I_ARU/blob/main/RedWineQualityAnalysis_NumPy.ipynb\" target=\"_parent\"><img src=\"https://colab.research.google.com/assets/colab-badge.svg\" alt=\"Open In Colab\"/></a>"
      ]
    },
    {
      "cell_type": "code",
      "execution_count": null,
      "id": "23f5f483",
      "metadata": {
        "id": "23f5f483"
      },
      "outputs": [],
      "source": [
        "import numpy as np"
      ]
    },
    {
      "cell_type": "code",
      "execution_count": null,
      "id": "7bfae64a",
      "metadata": {
        "id": "7bfae64a",
        "outputId": "b1b9b952-d268-4e44-881d-d5d0a71435b1"
      },
      "outputs": [
        {
          "data": {
            "text/plain": [
              "array([[1.000e+00, 7.400e+00, 7.000e-01, ..., 5.600e-01, 9.400e+00,\n",
              "        5.000e+00],\n",
              "       [2.000e+00, 7.800e+00, 8.800e-01, ..., 6.800e-01, 9.800e+00,\n",
              "        5.000e+00],\n",
              "       [3.000e+00, 7.800e+00, 7.600e-01, ..., 6.500e-01, 9.800e+00,\n",
              "        5.000e+00],\n",
              "       ...,\n",
              "       [1.597e+03, 6.300e+00, 5.100e-01, ..., 7.500e-01, 1.100e+01,\n",
              "        6.000e+00],\n",
              "       [1.598e+03, 5.900e+00, 6.450e-01, ..., 7.100e-01, 1.020e+01,\n",
              "        5.000e+00],\n",
              "       [1.599e+03, 6.000e+00, 3.100e-01, ..., 6.600e-01, 1.100e+01,\n",
              "        6.000e+00]])"
            ]
          },
          "execution_count": 2,
          "metadata": {},
          "output_type": "execute_result"
        }
      ],
      "source": [
        "# Load the wineQuelityReds.csv file into a numpy array!\n",
        "warr = np.genfromtxt('wineQualityReds.csv',skip_header=1,delimiter=',')\n",
        "warr"
      ]
    },
    {
      "cell_type": "code",
      "execution_count": null,
      "id": "60f6e16b",
      "metadata": {
        "id": "60f6e16b",
        "outputId": "77f5da4c-96fd-47a4-8f44-b42e21755c1d"
      },
      "outputs": [
        {
          "data": {
            "text/plain": [
              "numpy.float64"
            ]
          },
          "execution_count": 6,
          "metadata": {},
          "output_type": "execute_result"
        }
      ],
      "source": [
        "# what datatype is this numpy array?\n",
        "# warr.dtype\n",
        "type(warr[0,0])"
      ]
    },
    {
      "cell_type": "code",
      "execution_count": null,
      "id": "f7986202",
      "metadata": {
        "id": "f7986202",
        "outputId": "d8c6e4a2-952b-4f1c-df11-f5ed2ceee831"
      },
      "outputs": [
        {
          "data": {
            "text/plain": [
              "(1599, 13)"
            ]
          },
          "execution_count": 9,
          "metadata": {},
          "output_type": "execute_result"
        }
      ],
      "source": [
        "# How many data points and features does this data contain?\n",
        "warr.shape"
      ]
    },
    {
      "cell_type": "code",
      "execution_count": null,
      "id": "7021c403",
      "metadata": {
        "id": "7021c403",
        "outputId": "a3a1f409-4a9a-4475-9e41-7b36066bc0cc"
      },
      "outputs": [
        {
          "data": {
            "text/plain": [
              "array([[1.000e+00, 7.400e+00, 7.000e-01, 0.000e+00, 1.900e+00, 7.600e-02,\n",
              "        1.100e+01, 3.400e+01, 9.978e-01, 3.510e+00, 5.600e-01, 9.400e+00,\n",
              "        5.000e+00],\n",
              "       [2.000e+00, 7.800e+00, 8.800e-01, 0.000e+00, 2.600e+00, 9.800e-02,\n",
              "        2.500e+01, 6.700e+01, 9.968e-01, 3.200e+00, 6.800e-01, 9.800e+00,\n",
              "        5.000e+00],\n",
              "       [3.000e+00, 7.800e+00, 7.600e-01, 4.000e-02, 2.300e+00, 9.200e-02,\n",
              "        1.500e+01, 5.400e+01, 9.970e-01, 3.260e+00, 6.500e-01, 9.800e+00,\n",
              "        5.000e+00],\n",
              "       [4.000e+00, 1.120e+01, 2.800e-01, 5.600e-01, 1.900e+00, 7.500e-02,\n",
              "        1.700e+01, 6.000e+01, 9.980e-01, 3.160e+00, 5.800e-01, 9.800e+00,\n",
              "        6.000e+00],\n",
              "       [5.000e+00, 7.400e+00, 7.000e-01, 0.000e+00, 1.900e+00, 7.600e-02,\n",
              "        1.100e+01, 3.400e+01, 9.978e-01, 3.510e+00, 5.600e-01, 9.400e+00,\n",
              "        5.000e+00],\n",
              "       [6.000e+00, 7.400e+00, 6.600e-01, 0.000e+00, 1.800e+00, 7.500e-02,\n",
              "        1.300e+01, 4.000e+01, 9.978e-01, 3.510e+00, 5.600e-01, 9.400e+00,\n",
              "        5.000e+00],\n",
              "       [7.000e+00, 7.900e+00, 6.000e-01, 6.000e-02, 1.600e+00, 6.900e-02,\n",
              "        1.500e+01, 5.900e+01, 9.964e-01, 3.300e+00, 4.600e-01, 9.400e+00,\n",
              "        5.000e+00],\n",
              "       [8.000e+00, 7.300e+00, 6.500e-01, 0.000e+00, 1.200e+00, 6.500e-02,\n",
              "        1.500e+01, 2.100e+01, 9.946e-01, 3.390e+00, 4.700e-01, 1.000e+01,\n",
              "        7.000e+00],\n",
              "       [9.000e+00, 7.800e+00, 5.800e-01, 2.000e-02, 2.000e+00, 7.300e-02,\n",
              "        9.000e+00, 1.800e+01, 9.968e-01, 3.360e+00, 5.700e-01, 9.500e+00,\n",
              "        7.000e+00],\n",
              "       [1.000e+01, 7.500e+00, 5.000e-01, 3.600e-01, 6.100e+00, 7.100e-02,\n",
              "        1.700e+01, 1.020e+02, 9.978e-01, 3.350e+00, 8.000e-01, 1.050e+01,\n",
              "        5.000e+00]])"
            ]
          },
          "execution_count": 10,
          "metadata": {},
          "output_type": "execute_result"
        }
      ],
      "source": [
        "# What are the features available?.\n",
        "warr[0:10, :]"
      ]
    },
    {
      "cell_type": "code",
      "execution_count": null,
      "id": "59ab5e45",
      "metadata": {
        "id": "59ab5e45",
        "outputId": "c9fe6f8d-32fb-4c35-e751-3401d8484790"
      },
      "outputs": [
        {
          "data": {
            "text/plain": [
              "array(['', 'fixed.acidity', 'volatile.acidity', 'citric.acid',\n",
              "       'residual.sugar', 'chlorides', 'free.sulfur.dioxide',\n",
              "       'total.sulfur.dioxide', 'density', 'pH', 'sulphates', 'alcohol',\n",
              "       'quality'], dtype='<U20')"
            ]
          },
          "execution_count": 14,
          "metadata": {},
          "output_type": "execute_result"
        }
      ],
      "source": [
        "# Create another array of feature names\n",
        "ft_name = np.genfromtxt('wineQualityReds.csv',skip_header=0,delimiter=',',dtype=str)[0]\n",
        "ft_name"
      ]
    },
    {
      "cell_type": "code",
      "execution_count": null,
      "id": "39156362",
      "metadata": {
        "id": "39156362",
        "outputId": "d19dcdef-205e-46a0-b69c-20f06daa4722"
      },
      "outputs": [
        {
          "data": {
            "text/plain": [
              "array([-2147483648,           1,           2, ...,        1597,\n",
              "              1598,        1599])"
            ]
          },
          "execution_count": 19,
          "metadata": {},
          "output_type": "execute_result"
        }
      ],
      "source": [
        "# Find the wine ids as integer\n",
        "warr[:,0].astype(int)"
      ]
    },
    {
      "cell_type": "code",
      "execution_count": null,
      "id": "167a818e",
      "metadata": {
        "id": "167a818e"
      },
      "outputs": [],
      "source": [
        "# Convert the whole array into integer datatype using astype()"
      ]
    }
  ],
  "metadata": {
    "kernelspec": {
      "display_name": "Python 3 (ipykernel)",
      "language": "python",
      "name": "python3"
    },
    "language_info": {
      "codemirror_mode": {
        "name": "ipython",
        "version": 3
      },
      "file_extension": ".py",
      "mimetype": "text/x-python",
      "name": "python",
      "nbconvert_exporter": "python",
      "pygments_lexer": "ipython3",
      "version": "3.9.7"
    },
    "colab": {
      "name": "RedWineQualityAnalysis_NumPy.ipynb",
      "provenance": [],
      "include_colab_link": true
    }
  },
  "nbformat": 4,
  "nbformat_minor": 5
}