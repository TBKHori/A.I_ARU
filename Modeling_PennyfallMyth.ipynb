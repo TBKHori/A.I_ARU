{
  "cells": [
    {
      "cell_type": "markdown",
      "metadata": {
        "id": "view-in-github",
        "colab_type": "text"
      },
      "source": [
        "<a href=\"https://colab.research.google.com/github/TBKHori/A.I_ARU/blob/main/Modeling_PennyfallMyth.ipynb\" target=\"_parent\"><img src=\"https://colab.research.google.com/assets/colab-badge.svg\" alt=\"Open In Colab\"/></a>"
      ]
    },
    {
      "cell_type": "markdown",
      "metadata": {
        "id": "6smOOpaMH81d"
      },
      "source": [
        "# Iterative Modeling Case Study\n",
        "This module is about modeling and simulation of physical systems. The following diagram shows what is meant by \"modeling\":"
      ]
    },
    {
      "cell_type": "code",
      "execution_count": null,
      "metadata": {
        "id": "mG1L_P1rH81k",
        "outputId": "c536ea1e-b8e7-49c9-bf82-46badac9e615"
      },
      "outputs": [
        {
          "ename": "FileNotFoundError",
          "evalue": "[Errno 2] No such file or directory: 'CMSPicture.png'",
          "output_type": "error",
          "traceback": [
            "\u001b[1;31m---------------------------------------------------------------------------\u001b[0m",
            "\u001b[1;31mFileNotFoundError\u001b[0m                         Traceback (most recent call last)",
            "\u001b[1;32m~\\AppData\\Local\\Temp/ipykernel_15892/1824379288.py\u001b[0m in \u001b[0;36m<module>\u001b[1;34m\u001b[0m\n\u001b[0;32m      1\u001b[0m \u001b[1;32mfrom\u001b[0m \u001b[0mIPython\u001b[0m\u001b[1;33m.\u001b[0m\u001b[0mdisplay\u001b[0m \u001b[1;32mimport\u001b[0m \u001b[0mImage\u001b[0m\u001b[1;33m\u001b[0m\u001b[1;33m\u001b[0m\u001b[0m\n\u001b[1;32m----> 2\u001b[1;33m \u001b[0mImage\u001b[0m\u001b[1;33m(\u001b[0m\u001b[0mfilename\u001b[0m\u001b[1;33m=\u001b[0m\u001b[1;34m\"CMSPicture.png\"\u001b[0m\u001b[1;33m)\u001b[0m\u001b[1;33m\u001b[0m\u001b[1;33m\u001b[0m\u001b[0m\n\u001b[0m",
            "\u001b[1;32m~\\anaconda3\\lib\\site-packages\\IPython\\core\\display.py\u001b[0m in \u001b[0;36m__init__\u001b[1;34m(self, data, url, filename, format, embed, width, height, retina, unconfined, metadata)\u001b[0m\n\u001b[0;32m   1229\u001b[0m         \u001b[0mself\u001b[0m\u001b[1;33m.\u001b[0m\u001b[0mretina\u001b[0m \u001b[1;33m=\u001b[0m \u001b[0mretina\u001b[0m\u001b[1;33m\u001b[0m\u001b[1;33m\u001b[0m\u001b[0m\n\u001b[0;32m   1230\u001b[0m         \u001b[0mself\u001b[0m\u001b[1;33m.\u001b[0m\u001b[0munconfined\u001b[0m \u001b[1;33m=\u001b[0m \u001b[0munconfined\u001b[0m\u001b[1;33m\u001b[0m\u001b[1;33m\u001b[0m\u001b[0m\n\u001b[1;32m-> 1231\u001b[1;33m         super(Image, self).__init__(data=data, url=url, filename=filename, \n\u001b[0m\u001b[0;32m   1232\u001b[0m                 metadata=metadata)\n\u001b[0;32m   1233\u001b[0m \u001b[1;33m\u001b[0m\u001b[0m\n",
            "\u001b[1;32m~\\anaconda3\\lib\\site-packages\\IPython\\core\\display.py\u001b[0m in \u001b[0;36m__init__\u001b[1;34m(self, data, url, filename, metadata)\u001b[0m\n\u001b[0;32m    635\u001b[0m             \u001b[0mself\u001b[0m\u001b[1;33m.\u001b[0m\u001b[0mmetadata\u001b[0m \u001b[1;33m=\u001b[0m \u001b[1;33m{\u001b[0m\u001b[1;33m}\u001b[0m\u001b[1;33m\u001b[0m\u001b[1;33m\u001b[0m\u001b[0m\n\u001b[0;32m    636\u001b[0m \u001b[1;33m\u001b[0m\u001b[0m\n\u001b[1;32m--> 637\u001b[1;33m         \u001b[0mself\u001b[0m\u001b[1;33m.\u001b[0m\u001b[0mreload\u001b[0m\u001b[1;33m(\u001b[0m\u001b[1;33m)\u001b[0m\u001b[1;33m\u001b[0m\u001b[1;33m\u001b[0m\u001b[0m\n\u001b[0m\u001b[0;32m    638\u001b[0m         \u001b[0mself\u001b[0m\u001b[1;33m.\u001b[0m\u001b[0m_check_data\u001b[0m\u001b[1;33m(\u001b[0m\u001b[1;33m)\u001b[0m\u001b[1;33m\u001b[0m\u001b[1;33m\u001b[0m\u001b[0m\n\u001b[0;32m    639\u001b[0m \u001b[1;33m\u001b[0m\u001b[0m\n",
            "\u001b[1;32m~\\anaconda3\\lib\\site-packages\\IPython\\core\\display.py\u001b[0m in \u001b[0;36mreload\u001b[1;34m(self)\u001b[0m\n\u001b[0;32m   1261\u001b[0m         \u001b[1;34m\"\"\"Reload the raw data from file or URL.\"\"\"\u001b[0m\u001b[1;33m\u001b[0m\u001b[1;33m\u001b[0m\u001b[0m\n\u001b[0;32m   1262\u001b[0m         \u001b[1;32mif\u001b[0m \u001b[0mself\u001b[0m\u001b[1;33m.\u001b[0m\u001b[0membed\u001b[0m\u001b[1;33m:\u001b[0m\u001b[1;33m\u001b[0m\u001b[1;33m\u001b[0m\u001b[0m\n\u001b[1;32m-> 1263\u001b[1;33m             \u001b[0msuper\u001b[0m\u001b[1;33m(\u001b[0m\u001b[0mImage\u001b[0m\u001b[1;33m,\u001b[0m\u001b[0mself\u001b[0m\u001b[1;33m)\u001b[0m\u001b[1;33m.\u001b[0m\u001b[0mreload\u001b[0m\u001b[1;33m(\u001b[0m\u001b[1;33m)\u001b[0m\u001b[1;33m\u001b[0m\u001b[1;33m\u001b[0m\u001b[0m\n\u001b[0m\u001b[0;32m   1264\u001b[0m             \u001b[1;32mif\u001b[0m \u001b[0mself\u001b[0m\u001b[1;33m.\u001b[0m\u001b[0mretina\u001b[0m\u001b[1;33m:\u001b[0m\u001b[1;33m\u001b[0m\u001b[1;33m\u001b[0m\u001b[0m\n\u001b[0;32m   1265\u001b[0m                 \u001b[0mself\u001b[0m\u001b[1;33m.\u001b[0m\u001b[0m_retina_shape\u001b[0m\u001b[1;33m(\u001b[0m\u001b[1;33m)\u001b[0m\u001b[1;33m\u001b[0m\u001b[1;33m\u001b[0m\u001b[0m\n",
            "\u001b[1;32m~\\anaconda3\\lib\\site-packages\\IPython\\core\\display.py\u001b[0m in \u001b[0;36mreload\u001b[1;34m(self)\u001b[0m\n\u001b[0;32m    660\u001b[0m         \u001b[1;34m\"\"\"Reload the raw data from file or URL.\"\"\"\u001b[0m\u001b[1;33m\u001b[0m\u001b[1;33m\u001b[0m\u001b[0m\n\u001b[0;32m    661\u001b[0m         \u001b[1;32mif\u001b[0m \u001b[0mself\u001b[0m\u001b[1;33m.\u001b[0m\u001b[0mfilename\u001b[0m \u001b[1;32mis\u001b[0m \u001b[1;32mnot\u001b[0m \u001b[1;32mNone\u001b[0m\u001b[1;33m:\u001b[0m\u001b[1;33m\u001b[0m\u001b[1;33m\u001b[0m\u001b[0m\n\u001b[1;32m--> 662\u001b[1;33m             \u001b[1;32mwith\u001b[0m \u001b[0mopen\u001b[0m\u001b[1;33m(\u001b[0m\u001b[0mself\u001b[0m\u001b[1;33m.\u001b[0m\u001b[0mfilename\u001b[0m\u001b[1;33m,\u001b[0m \u001b[0mself\u001b[0m\u001b[1;33m.\u001b[0m\u001b[0m_read_flags\u001b[0m\u001b[1;33m)\u001b[0m \u001b[1;32mas\u001b[0m \u001b[0mf\u001b[0m\u001b[1;33m:\u001b[0m\u001b[1;33m\u001b[0m\u001b[1;33m\u001b[0m\u001b[0m\n\u001b[0m\u001b[0;32m    663\u001b[0m                 \u001b[0mself\u001b[0m\u001b[1;33m.\u001b[0m\u001b[0mdata\u001b[0m \u001b[1;33m=\u001b[0m \u001b[0mf\u001b[0m\u001b[1;33m.\u001b[0m\u001b[0mread\u001b[0m\u001b[1;33m(\u001b[0m\u001b[1;33m)\u001b[0m\u001b[1;33m\u001b[0m\u001b[1;33m\u001b[0m\u001b[0m\n\u001b[0;32m    664\u001b[0m         \u001b[1;32melif\u001b[0m \u001b[0mself\u001b[0m\u001b[1;33m.\u001b[0m\u001b[0murl\u001b[0m \u001b[1;32mis\u001b[0m \u001b[1;32mnot\u001b[0m \u001b[1;32mNone\u001b[0m\u001b[1;33m:\u001b[0m\u001b[1;33m\u001b[0m\u001b[1;33m\u001b[0m\u001b[0m\n",
            "\u001b[1;31mFileNotFoundError\u001b[0m: [Errno 2] No such file or directory: 'CMSPicture.png'"
          ]
        }
      ],
      "source": [
        "from IPython.display import Image\n",
        "Image(filename=\"CMSPicture.png\")"
      ]
    },
    {
      "cell_type": "markdown",
      "metadata": {
        "id": "F0LpFwshH81m"
      },
      "source": [
        "\n",
        "Starting in the lower left, the system is something in the real world we are\n",
        "interested in. Often, it is something complicated, so we have to decide which\n",
        "details can be left out; removing details is called ***abstraction***.\n",
        "The result of abstraction is a model, which is a description of the system that\n",
        "includes only the features we think are essential. \n",
        "\n",
        "A ***model*** can be \n",
        "represented in the form of diagrams and equations, which can be used for mathematical\n",
        "analysis. It can also be implemented in the form of a computer program,\n",
        "which can run ***simulations***.\n",
        "The result of analysis and simulation might be a ***prediction*** about what the\n",
        "system will do, an explanation of why it behaves the way it does, or a design\n",
        "intended to achieve a purpose.\n",
        "We can validate predictions and test designs by taking measurements from\n",
        "the real world and comparing the data we get with the results from analysis\n",
        "and simulation.\n",
        "\n",
        "For any physical system, there are many possible models, each one including\n",
        "and excluding different features, or including different levels of detail. The\n",
        "goal of the modeling process is to find the model best suited to its purpose\n",
        "(prediction, explanation, or design).\n",
        "Sometimes the best model is the most detailed. If we include more features,\n",
        "the model is more realistic, and we expect its predictions to be more accurate.\n",
        "But often a simpler model is better. If we include only the essential features\n",
        "and leave out the rest, we get models that are easier to work with, and the\n",
        "explanations they provide can be clearer and more compelling.\n",
        "\n",
        "As an example, suppose someone asks you why the orbit of the Earth is \n",
        "elliptical. If you model the Earth and Sun as point masses (ignoring their actual\n",
        "size), compute the gravitational force between them using Newton's law of\n",
        "universal gravitation, and compute the resulting orbit using Newton's laws of\n",
        "motion, you can show that the result is an ellipse.\n",
        "\n",
        "Of course, the actual orbit of Earth is not a perfect ellipse, because of the\n",
        "gravitational forces of the Moon, Jupiter, and other objects in the solar system,\n",
        "and because Newton's laws of motion are only approximately true (they don't\n",
        "take into account relativistic effects).\n",
        "But adding these features to the model would not improve the explanation;\n",
        "more detail would only be a distraction from the fundamental cause. However,\n",
        "if the goal is to predict the position of the Earth with great precision, including\n",
        "more details might be necessary.\n",
        "\n",
        "Choosing the best model depends on what the model is for. It is usually a\n",
        "good idea to start with a simple model, even if it is likely to be too simple,\n",
        "and test whether it is good enough for its purpose. Then you can add features\n",
        "gradually, starting with the ones you expect to be most essential. This process\n",
        "is called ***iterative modeling***.\n",
        "Comparing results of successive models provides a form of internal \n",
        "validation, so you can catch conceptual, mathematical, and software errors. And by\n",
        "adding and removing features, you can tell which ones have the biggest effect\n",
        "on the results, and which can be ignored.\n",
        "Comparing results to data from the real world provides external validation,\n",
        "which is generally the strongest test."
      ]
    },
    {
      "cell_type": "markdown",
      "metadata": {
        "id": "EOyv7KKIH81o"
      },
      "source": [
        "## The falling penny myth Case Study\n",
        "\n",
        "Let's check out an example of how models are used. You might have heard that a\n",
        "penny dropped from the top of the Empire State Building would be going so\n",
        "fast when it hit the pavement that it would be embedded in the concrete; or\n",
        "if it hit a person, it would break their skull.\n",
        "We can test this myth by making and analyzing a model. To get started, we'll\n",
        "assume that the effect of air resistance is small. This will turn out to be a bad\n",
        "assumption as we work through it.\n",
        "\n"
      ]
    },
    {
      "cell_type": "code",
      "execution_count": null,
      "metadata": {
        "id": "KX57WqghH81o"
      },
      "outputs": [],
      "source": [
        "# Import and create all the units needed.\n",
        "# pip install pint module for using units below.. \n",
        "import numpy as np\n",
        "import pint\n",
        "ureg = pint.UnitRegistry()\n",
        "meter = ureg.meter\n",
        "second = ureg.second"
      ]
    },
    {
      "cell_type": "code",
      "execution_count": null,
      "metadata": {
        "id": "vbqAlhCcH81p",
        "outputId": "f375cf95-be37-48ca-e05b-f54d2be8481c"
      },
      "outputs": [
        {
          "name": "stdout",
          "output_type": "stream",
          "text": [
            "9.8 meter / second ** 2\n"
          ]
        }
      ],
      "source": [
        "# Create variable named a and give it the value of acceleration due to gravity.\n",
        "# CODE GOES HERE\n",
        "a = 9.8 * meter/second**2\n",
        "print(a)\n",
        "\n"
      ]
    },
    {
      "cell_type": "code",
      "execution_count": null,
      "metadata": {
        "id": "WL1yhDNtH81q",
        "outputId": "de4dd838-b398-4ae3-851c-b00f95b2f5c0"
      },
      "outputs": [
        {
          "data": {
            "text/html": [
              "9.8 meter/second<sup>2</sup>"
            ],
            "text/latex": [
              "$9.8\\ \\frac{\\mathrm{meter}}{\\mathrm{second}^{2}}$"
            ],
            "text/plain": [
              "9.8 <Unit('meter / second ** 2')>"
            ]
          },
          "execution_count": 6,
          "metadata": {},
          "output_type": "execute_result"
        }
      ],
      "source": [
        "# Create t and give it the value 4 seconds.\n",
        "# CODE GOES HERE\n",
        "a"
      ]
    },
    {
      "cell_type": "code",
      "execution_count": null,
      "metadata": {
        "id": "xWuiHEi9H81q",
        "outputId": "9b765d01-cd8b-4ee5-f558-ec19afe667f0"
      },
      "outputs": [
        {
          "name": "stdout",
          "output_type": "stream",
          "text": [
            "768.3200000000002 meter ** 2 / second ** 2\n"
          ]
        }
      ],
      "source": [
        "# Compute the distance a penny would fall after t seconds with constant \n",
        "# acceleration a. HINT: h = (at^2)/2\n",
        "# Notice that the units of the result are correct.\n",
        "# CODE GOES HERE\n",
        "t = 4 * second\n",
        "at = a * t\n",
        "h = (at**2)/2\n",
        "print (h)\n"
      ]
    },
    {
      "cell_type": "markdown",
      "metadata": {
        "id": "vSe8g-tLH81r"
      },
      "source": [
        "### Exercise: Compute the velocity of the penny after t seconds. Check that the units of the result are correct."
      ]
    },
    {
      "cell_type": "code",
      "execution_count": null,
      "metadata": {
        "id": "Jd3Dt0t5H81s",
        "outputId": "bfa0c57f-fd45-4394-f4d1-2ea53479bbb6"
      },
      "outputs": [
        {
          "name": "stdout",
          "output_type": "stream",
          "text": [
            "39.2 meter / second\n"
          ]
        }
      ],
      "source": [
        "# CODE GOES HERE\n",
        "# Velocity = Displacement / Time\n",
        "# Displacement => Change in position of an object in motion.\n",
        "# Displacement = Final postition - Initial posistion\n",
        "v = a * t\n",
        "print(v)"
      ]
    },
    {
      "cell_type": "markdown",
      "metadata": {
        "id": "ax6FmcoKH81s"
      },
      "source": [
        "### Exercise: Why would it be nonsensical to add a and t? What happens if you try?\n"
      ]
    },
    {
      "cell_type": "code",
      "execution_count": null,
      "metadata": {
        "id": "kQAp0ijJH81t",
        "outputId": "0aa51665-0360-40ca-f0f8-4b1e1f2ff238"
      },
      "outputs": [
        {
          "ename": "DimensionalityError",
          "evalue": "Cannot convert from 'meter / second ** 2' ([length] / [time] ** 2) to 'second' ([time])",
          "output_type": "error",
          "traceback": [
            "\u001b[1;31m---------------------------------------------------------------------------\u001b[0m",
            "\u001b[1;31mDimensionalityError\u001b[0m                       Traceback (most recent call last)",
            "\u001b[1;32m~\\AppData\\Local\\Temp/ipykernel_15892/1832249131.py\u001b[0m in \u001b[0;36m<module>\u001b[1;34m\u001b[0m\n\u001b[0;32m      1\u001b[0m \u001b[1;31m# CODE GOES HERE\u001b[0m\u001b[1;33m\u001b[0m\u001b[1;33m\u001b[0m\u001b[0m\n\u001b[1;32m----> 2\u001b[1;33m \u001b[0ma\u001b[0m \u001b[1;33m+\u001b[0m \u001b[0mt\u001b[0m\u001b[1;33m\u001b[0m\u001b[1;33m\u001b[0m\u001b[0m\n\u001b[0m\u001b[0;32m      3\u001b[0m \u001b[1;31m# They are diffrent quantities.\u001b[0m\u001b[1;33m\u001b[0m\u001b[1;33m\u001b[0m\u001b[0m\n\u001b[0;32m      4\u001b[0m \u001b[1;31m# t(Time) is a scalar quantity whilst a(Acceleration) is vector quantity\u001b[0m\u001b[1;33m\u001b[0m\u001b[1;33m\u001b[0m\u001b[0m\n",
            "\u001b[1;32m~\\anaconda3\\lib\\site-packages\\pint\\quantity.py\u001b[0m in \u001b[0;36m__add__\u001b[1;34m(self, other)\u001b[0m\n\u001b[0;32m   1148\u001b[0m             \u001b[1;32mreturn\u001b[0m \u001b[0mself\u001b[0m\u001b[1;33m.\u001b[0m\u001b[0mto_timedelta\u001b[0m\u001b[1;33m(\u001b[0m\u001b[1;33m)\u001b[0m \u001b[1;33m+\u001b[0m \u001b[0mother\u001b[0m\u001b[1;33m\u001b[0m\u001b[1;33m\u001b[0m\u001b[0m\n\u001b[0;32m   1149\u001b[0m         \u001b[1;32melse\u001b[0m\u001b[1;33m:\u001b[0m\u001b[1;33m\u001b[0m\u001b[1;33m\u001b[0m\u001b[0m\n\u001b[1;32m-> 1150\u001b[1;33m             \u001b[1;32mreturn\u001b[0m \u001b[0mself\u001b[0m\u001b[1;33m.\u001b[0m\u001b[0m_add_sub\u001b[0m\u001b[1;33m(\u001b[0m\u001b[0mother\u001b[0m\u001b[1;33m,\u001b[0m \u001b[0moperator\u001b[0m\u001b[1;33m.\u001b[0m\u001b[0madd\u001b[0m\u001b[1;33m)\u001b[0m\u001b[1;33m\u001b[0m\u001b[1;33m\u001b[0m\u001b[0m\n\u001b[0m\u001b[0;32m   1151\u001b[0m \u001b[1;33m\u001b[0m\u001b[0m\n\u001b[0;32m   1152\u001b[0m     \u001b[0m__radd__\u001b[0m \u001b[1;33m=\u001b[0m \u001b[0m__add__\u001b[0m\u001b[1;33m\u001b[0m\u001b[1;33m\u001b[0m\u001b[0m\n",
            "\u001b[1;32m~\\anaconda3\\lib\\site-packages\\pint\\quantity.py\u001b[0m in \u001b[0;36mwrapped\u001b[1;34m(self, *args, **kwargs)\u001b[0m\n\u001b[0;32m    138\u001b[0m         \u001b[1;32melif\u001b[0m \u001b[0misinstance\u001b[0m\u001b[1;33m(\u001b[0m\u001b[0mother\u001b[0m\u001b[1;33m,\u001b[0m \u001b[0mlist\u001b[0m\u001b[1;33m)\u001b[0m \u001b[1;32mand\u001b[0m \u001b[0mother\u001b[0m \u001b[1;32mand\u001b[0m \u001b[0misinstance\u001b[0m\u001b[1;33m(\u001b[0m\u001b[0mother\u001b[0m\u001b[1;33m[\u001b[0m\u001b[1;36m0\u001b[0m\u001b[1;33m]\u001b[0m\u001b[1;33m,\u001b[0m \u001b[0mtype\u001b[0m\u001b[1;33m(\u001b[0m\u001b[0mself\u001b[0m\u001b[1;33m)\u001b[0m\u001b[1;33m)\u001b[0m\u001b[1;33m:\u001b[0m\u001b[1;33m\u001b[0m\u001b[1;33m\u001b[0m\u001b[0m\n\u001b[0;32m    139\u001b[0m             \u001b[1;32mreturn\u001b[0m \u001b[0mNotImplemented\u001b[0m\u001b[1;33m\u001b[0m\u001b[1;33m\u001b[0m\u001b[0m\n\u001b[1;32m--> 140\u001b[1;33m         \u001b[1;32mreturn\u001b[0m \u001b[0mf\u001b[0m\u001b[1;33m(\u001b[0m\u001b[0mself\u001b[0m\u001b[1;33m,\u001b[0m \u001b[1;33m*\u001b[0m\u001b[0margs\u001b[0m\u001b[1;33m,\u001b[0m \u001b[1;33m**\u001b[0m\u001b[0mkwargs\u001b[0m\u001b[1;33m)\u001b[0m\u001b[1;33m\u001b[0m\u001b[1;33m\u001b[0m\u001b[0m\n\u001b[0m\u001b[0;32m    141\u001b[0m \u001b[1;33m\u001b[0m\u001b[0m\n\u001b[0;32m    142\u001b[0m     \u001b[1;32mreturn\u001b[0m \u001b[0mwrapped\u001b[0m\u001b[1;33m\u001b[0m\u001b[1;33m\u001b[0m\u001b[0m\n",
            "\u001b[1;32m~\\anaconda3\\lib\\site-packages\\pint\\quantity.py\u001b[0m in \u001b[0;36m_add_sub\u001b[1;34m(self, other, op)\u001b[0m\n\u001b[0;32m   1050\u001b[0m \u001b[1;33m\u001b[0m\u001b[0m\n\u001b[0;32m   1051\u001b[0m         \u001b[1;32mif\u001b[0m \u001b[1;32mnot\u001b[0m \u001b[0mself\u001b[0m\u001b[1;33m.\u001b[0m\u001b[0mdimensionality\u001b[0m \u001b[1;33m==\u001b[0m \u001b[0mother\u001b[0m\u001b[1;33m.\u001b[0m\u001b[0mdimensionality\u001b[0m\u001b[1;33m:\u001b[0m\u001b[1;33m\u001b[0m\u001b[1;33m\u001b[0m\u001b[0m\n\u001b[1;32m-> 1052\u001b[1;33m             raise DimensionalityError(\n\u001b[0m\u001b[0;32m   1053\u001b[0m                 \u001b[0mself\u001b[0m\u001b[1;33m.\u001b[0m\u001b[0m_units\u001b[0m\u001b[1;33m,\u001b[0m \u001b[0mother\u001b[0m\u001b[1;33m.\u001b[0m\u001b[0m_units\u001b[0m\u001b[1;33m,\u001b[0m \u001b[0mself\u001b[0m\u001b[1;33m.\u001b[0m\u001b[0mdimensionality\u001b[0m\u001b[1;33m,\u001b[0m \u001b[0mother\u001b[0m\u001b[1;33m.\u001b[0m\u001b[0mdimensionality\u001b[0m\u001b[1;33m\u001b[0m\u001b[1;33m\u001b[0m\u001b[0m\n\u001b[0;32m   1054\u001b[0m             )\n",
            "\u001b[1;31mDimensionalityError\u001b[0m: Cannot convert from 'meter / second ** 2' ([length] / [time] ** 2) to 'second' ([time])"
          ]
        }
      ],
      "source": [
        "# CODE GOES HERE\n",
        "a + t\n",
        "# They are diffrent quantities.\n",
        "# t(Time) is a scalar quantity whilst a(Acceleration) is vector quantity"
      ]
    },
    {
      "cell_type": "markdown",
      "metadata": {
        "id": "IyWdyFUCH81u"
      },
      "source": [
        "\n",
        "The error messages you get from Python are big and scary, but if you read them carefully, they contain a lot of useful information.\n",
        "\n",
        "Start from the bottom and read up.\n",
        "The last line usually tells you what type of error happened, and sometimes additional information.\n",
        "The previous lines are a \"traceback\" of what was happening when the error occurred. The first section of the traceback shows the code you wrote. The following sections are often from Python libraries.\n",
        "In this example, you should get a DimensionalityError, which is defined by Pint to indicate that you have violated a rules of dimensional analysis: you cannot add quantities with different dimensions.\n",
        "\n",
        "Before you go on, you might want to delete the erroneous code so the notebook can run without errors."
      ]
    },
    {
      "cell_type": "markdown",
      "metadata": {
        "id": "WsA6QPvXH81u"
      },
      "source": [
        "## Continue with the Penny dropping problem...\n",
        "\n",
        "## First model\n",
        "\n",
        "If air resistance is negligible, the primary force acting on the penny is gravity,\n",
        "which causes the penny to accelerate downward.\n",
        "\n",
        "If the initial velocity is 0, the velocity after t seconds is at, and the distance\n",
        "the penny has dropped is  $h = at^2/2$\n",
        "\n",
        "Using algebra, we can solve for t:\n",
        "$t = \\sqrt{2h/a}$\n",
        "\n",
        "Plugging in the acceleration of gravity, \n",
        "$a = 9.8m/s^2$, \n",
        "and the height of the Empire State Building, h = 381 m."
      ]
    },
    {
      "cell_type": "code",
      "execution_count": null,
      "metadata": {
        "id": "W7mbywq5H81u",
        "outputId": "105735b3-87b4-4724-c5d9-422230c3795e"
      },
      "outputs": [
        {
          "name": "stdout",
          "output_type": "stream",
          "text": [
            "It takes 8.817885349720552 second for Penny to reach the ground\n"
          ]
        }
      ],
      "source": [
        "# Find the time the Penny takes to reach the ground assuming this simple model. \n",
        "# Create variables and compute values and print result as shown below\n",
        "# CODE GOES HERE\n",
        "a = 9.8 \n",
        "h = 381 \n",
        "Time = np.sqrt(2*h/a) \n",
        "print('It takes ' + str(Time) + ' second for Penny to reach the ground')"
      ]
    },
    {
      "cell_type": "markdown",
      "metadata": {
        "id": "L4u6oZscH81v"
      },
      "source": [
        "we get t = 8.8 s. Then computing velocity, v = at"
      ]
    },
    {
      "cell_type": "code",
      "execution_count": null,
      "metadata": {
        "id": "ERbU8voOH81v",
        "outputId": "c7ce6422-5938-4e87-d9b5-2b8835ff8951"
      },
      "outputs": [
        {
          "name": "stdout",
          "output_type": "stream",
          "text": [
            "Pennys hits the ground with a velocity 86.41527642726142 meter / second and it sounds scary!\n"
          ]
        }
      ],
      "source": [
        "# Find the velocity of the Penny when it reaches the ground \n",
        "# assuming this simple model. \n",
        "# Create variables and compute values and print result as shown below\n",
        "# CODE GOES HERE\n",
        "v = a*Time\n",
        "print('Pennys hits the ground with a velocity ' + str(v) + ' meter / second and it sounds scary!')"
      ]
    },
    {
      "cell_type": "markdown",
      "metadata": {
        "id": "dYDY-cJRH81v"
      },
      "source": [
        "## Second Model \n",
        "\n",
        "Try second model, which assumes that acceleration is constant until the penny\n",
        "reaches terminal velocity. This model is also wrong, but it's better, and it's\n",
        "good enough to refute the myth.\n",
        "\n",
        "\n",
        "***Exercise:*** In reality, air resistance limits the velocity of the penny. At about 18 m/s, the force of air resistance equals the force of gravity and the penny stops accelerating.\n",
        "\n",
        "As a simplification, let's assume that the acceleration of the penny is a until the penny reaches 18 m/s, and then 0 afterwards. What is the total time for the penny to fall 381 m?\n",
        "\n",
        "You can break this question into three parts:\n",
        "\n",
        "1. How long until the penny reaches 18 m/s with constant acceleration a.\n",
        "\n",
        "2. How far would the penny fall during that time?\n",
        "\n",
        "3. How long to fall the remaining distance with constant velocity 18 m/s?\n",
        "\n",
        "Suggestion: Assign each intermediate result to a variable with a meaningful name. And assign units to all quantities!"
      ]
    },
    {
      "cell_type": "code",
      "execution_count": null,
      "metadata": {
        "id": "TGOKbdblH81w",
        "outputId": "63c47fca-5288-4f4b-b877-a40fa106c486"
      },
      "outputs": [
        {
          "name": "stdout",
          "output_type": "stream",
          "text": [
            "1.8367346938775508 seconds\n"
          ]
        }
      ],
      "source": [
        "# CODE GOES HERE\n",
        "# Velocity is limited to 18m/s by air resistence\n",
        "V = 18\n",
        "T1 = V/a\n",
        "print(str(T1) + ' seconds')"
      ]
    },
    {
      "cell_type": "code",
      "execution_count": null,
      "metadata": {
        "id": "ya986z-ZH81x",
        "outputId": "6fbd8799-cfea-493a-903d-38a8c619d1d9"
      },
      "outputs": [
        {
          "name": "stdout",
          "output_type": "stream",
          "text": [
            "16.530612244897956 meters\n"
          ]
        }
      ],
      "source": [
        "# CODE GOES HERE\n",
        "aT1 = a*(T1**2)\n",
        "H1 = 1/2*(aT1)\n",
        "print(str(H1) + ' meters')"
      ]
    },
    {
      "cell_type": "code",
      "execution_count": null,
      "metadata": {
        "id": "VsKAbVNHH81x",
        "outputId": "dc3ad8fb-c043-471d-8d96-8e5d1a19c006"
      },
      "outputs": [
        {
          "name": "stdout",
          "output_type": "stream",
          "text": [
            "20.24829931972789 seconds\n"
          ]
        }
      ],
      "source": [
        "# CODE GOES HERE\n",
        "totalHeight = 381\n",
        "T2 = (totalHeight - H1) / V\n",
        "print(str(T2) + ' seconds')"
      ]
    },
    {
      "cell_type": "markdown",
      "metadata": {
        "id": "3hfg5dfpH81x"
      },
      "source": [
        "\n",
        "\n",
        "Of course, the results from first model are not exact because the model is based on \n",
        "simplifications. For example, we assume that gravity is constant. In fact, the force\n",
        "of gravity is different on different parts of the globe, and gets weaker as you\n",
        "move away from the surface. But these differences are small, so ignoring them\n",
        "is probably a good choice for this scenario.\n",
        "\n",
        "On the other hand, ignoring air resistance is not a good choice. Once the penny\n",
        "gets to about 18m/s, the upward force of air resistance equals the downward\n",
        "force of gravity, so the penny stops accelerating. After that, it doesn't matter\n",
        "how far the penny falls; it hits the sidewalk (or your head) at about 18m/s,\n",
        "much less than 86m/s, as the simple model predicts.\n",
        "\n",
        "The statistician George Box famously said ***All models are wrong, but some\n",
        "are useful***. He was talking about statistical models, but his wise words apply\n",
        "to all kinds of models. Our first model, which ignores air resistance, is very\n",
        "wrong, and probably not useful. \n",
        "Second model, which assumes that acceleration is constant until the penny\n",
        "reaches terminal velocity. This model is also wrong, but it's better, and it's\n",
        "good enough to refute the myth.\n",
        "\n",
        "\n",
        "The television show Mythbusters has tested the myth of the falling penny more\n",
        "carefully; you can view the results at https://www.youtube.com/watch?v=PHxvMLoKRWg. Their work\n",
        "is based on a mathematical model of motion, measurements to determine the\n",
        "force of air resistance on a penny, and a physical model of a human head."
      ]
    }
  ],
  "metadata": {
    "kernelspec": {
      "display_name": "Python 3 (ipykernel)",
      "language": "python",
      "name": "python3"
    },
    "language_info": {
      "codemirror_mode": {
        "name": "ipython",
        "version": 3
      },
      "file_extension": ".py",
      "mimetype": "text/x-python",
      "name": "python",
      "nbconvert_exporter": "python",
      "pygments_lexer": "ipython3",
      "version": "3.9.7"
    },
    "colab": {
      "name": "Modeling_PennyfallMyth.ipynb",
      "provenance": [],
      "include_colab_link": true
    }
  },
  "nbformat": 4,
  "nbformat_minor": 0
}