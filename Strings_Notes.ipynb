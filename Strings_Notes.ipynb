{
  "cells": [
    {
      "cell_type": "markdown",
      "metadata": {
        "id": "view-in-github",
        "colab_type": "text"
      },
      "source": [
        "<a href=\"https://colab.research.google.com/github/TBKHori/A.I_ARU/blob/main/Strings_Notes.ipynb\" target=\"_parent\"><img src=\"https://colab.research.google.com/assets/colab-badge.svg\" alt=\"Open In Colab\"/></a>"
      ]
    },
    {
      "cell_type": "code",
      "execution_count": null,
      "id": "35d44153",
      "metadata": {
        "id": "35d44153",
        "outputId": "25ab00c0-cbde-4817-ed51-ff32653a8c09"
      },
      "outputs": [
        {
          "data": {
            "text/plain": [
              "[100, 200, 300]"
            ]
          },
          "execution_count": 1,
          "metadata": {},
          "output_type": "execute_result"
        }
      ],
      "source": [
        "# simple numeric list\n",
        "[100,200,300]"
      ]
    },
    {
      "cell_type": "code",
      "execution_count": null,
      "id": "9822c2bf",
      "metadata": {
        "id": "9822c2bf",
        "outputId": "e0e3861a-ed57-40b9-f3ea-3a907643db8c"
      },
      "outputs": [
        {
          "data": {
            "text/plain": [
              "['test', 100, [1, 2]]"
            ]
          },
          "execution_count": 2,
          "metadata": {},
          "output_type": "execute_result"
        }
      ],
      "source": [
        "# A mixed list\n",
        "['test',100,[1,2]]"
      ]
    },
    {
      "cell_type": "code",
      "execution_count": null,
      "id": "94a4b436",
      "metadata": {
        "id": "94a4b436",
        "outputId": "034c671b-e5a7-4aa5-a103-c086882248ac"
      },
      "outputs": [
        {
          "data": {
            "text/plain": [
              "['abc', 'def', 'ghi']"
            ]
          },
          "execution_count": 3,
          "metadata": {},
          "output_type": "execute_result"
        }
      ],
      "source": [
        "# A list variable\n",
        "my_list = ['abc','def','ghi']\n",
        "my_list"
      ]
    },
    {
      "cell_type": "code",
      "execution_count": null,
      "id": "7ca316ce",
      "metadata": {
        "id": "7ca316ce"
      },
      "outputs": [],
      "source": [
        "# Add new data to list using append() method\n",
        "my_list.append('test')"
      ]
    },
    {
      "cell_type": "code",
      "execution_count": null,
      "id": "2ba36105",
      "metadata": {
        "id": "2ba36105",
        "outputId": "70b2beca-84d2-40b5-ad6f-0cde3d2c7168"
      },
      "outputs": [
        {
          "data": {
            "text/plain": [
              "['abc', 'def', 'ghi', 'test']"
            ]
          },
          "execution_count": 5,
          "metadata": {},
          "output_type": "execute_result"
        }
      ],
      "source": [
        "# Show the complete list\n",
        "my_list"
      ]
    },
    {
      "cell_type": "code",
      "execution_count": null,
      "id": "88261969",
      "metadata": {
        "id": "88261969",
        "outputId": "b1fc08c1-7b62-4b28-dcfb-90693da09c55"
      },
      "outputs": [
        {
          "data": {
            "text/plain": [
              "'abc'"
            ]
          },
          "execution_count": 6,
          "metadata": {},
          "output_type": "execute_result"
        }
      ],
      "source": [
        "# Print the first element of the list\n",
        "my_list[0]"
      ]
    },
    {
      "cell_type": "code",
      "execution_count": null,
      "id": "3ed6cad7",
      "metadata": {
        "id": "3ed6cad7",
        "outputId": "30804203-a3bd-4b12-951d-8704742b5cc7"
      },
      "outputs": [
        {
          "data": {
            "text/plain": [
              "'def'"
            ]
          },
          "execution_count": 7,
          "metadata": {},
          "output_type": "execute_result"
        }
      ],
      "source": [
        "# Print the second element of the list.\n",
        "my_list[1]"
      ]
    },
    {
      "cell_type": "code",
      "execution_count": null,
      "id": "0dea3a91",
      "metadata": {
        "id": "0dea3a91",
        "outputId": "23f6da16-da96-45eb-93b2-4a30a6b4fb06"
      },
      "outputs": [
        {
          "data": {
            "text/plain": [
              "['def', 'ghi', 'test']"
            ]
          },
          "execution_count": 8,
          "metadata": {},
          "output_type": "execute_result"
        }
      ],
      "source": [
        "# Select a portion of the list starting from second element\n",
        "my_list[1:]"
      ]
    },
    {
      "cell_type": "code",
      "execution_count": null,
      "id": "3d08e309",
      "metadata": {
        "id": "3d08e309",
        "outputId": "878b9ae6-0873-4a7f-b3c1-8d213c0c3c6c"
      },
      "outputs": [
        {
          "data": {
            "text/plain": [
              "['abc', 'def']"
            ]
          },
          "execution_count": 9,
          "metadata": {},
          "output_type": "execute_result"
        }
      ],
      "source": [
        "# Select a portion of the list from beginning to third element of the list.\n",
        "my_list[:2]"
      ]
    },
    {
      "cell_type": "code",
      "execution_count": null,
      "id": "25854970",
      "metadata": {
        "id": "25854970"
      },
      "outputs": [],
      "source": [
        "# Change the first element of the list.\n",
        "my_list[0] = 'NEW'"
      ]
    },
    {
      "cell_type": "code",
      "execution_count": null,
      "id": "1b83495d",
      "metadata": {
        "id": "1b83495d",
        "outputId": "ece611a8-c624-487e-f348-6dd046c91d97"
      },
      "outputs": [
        {
          "data": {
            "text/plain": [
              "['NEW', 'def', 'ghi', 'test']"
            ]
          },
          "execution_count": 11,
          "metadata": {},
          "output_type": "execute_result"
        }
      ],
      "source": [
        "my_list"
      ]
    },
    {
      "cell_type": "code",
      "execution_count": null,
      "id": "7638897b",
      "metadata": {
        "id": "7638897b",
        "outputId": "92f24bbe-6f66-4d5f-e173-03028375d0ee"
      },
      "outputs": [
        {
          "data": {
            "text/plain": [
              "[1, 2, 3, [4, 5, ['test']]]"
            ]
          },
          "execution_count": 12,
          "metadata": {},
          "output_type": "execute_result"
        }
      ],
      "source": [
        "# A nested list\n",
        "nested_list = [1,2,3,[4,5,['test']]]\n",
        "nested_list"
      ]
    },
    {
      "cell_type": "code",
      "execution_count": null,
      "id": "3a7b2c47",
      "metadata": {
        "id": "3a7b2c47",
        "outputId": "375d852a-5a2b-4636-d664-96cc2d0b5dd4"
      },
      "outputs": [
        {
          "data": {
            "text/plain": [
              "[4, 5, ['test']]"
            ]
          },
          "execution_count": 13,
          "metadata": {},
          "output_type": "execute_result"
        }
      ],
      "source": [
        "# Select fourth element of a nested list.\n",
        "nested_list[3]"
      ]
    },
    {
      "cell_type": "code",
      "execution_count": null,
      "id": "4d94bebc",
      "metadata": {
        "id": "4d94bebc",
        "outputId": "000a4710-6677-4301-f3a9-cc0ce6aa8a7e"
      },
      "outputs": [
        {
          "data": {
            "text/plain": [
              "['test']"
            ]
          },
          "execution_count": 14,
          "metadata": {},
          "output_type": "execute_result"
        }
      ],
      "source": [
        "# Select the third element of the fourth element of the nested list.\n",
        "nested_list[3][2]"
      ]
    },
    {
      "cell_type": "code",
      "execution_count": null,
      "id": "a3bef165",
      "metadata": {
        "id": "a3bef165",
        "outputId": "d964d4d1-e9bf-42be-c6f5-1a1c3716f657"
      },
      "outputs": [
        {
          "data": {
            "text/plain": [
              "'test'"
            ]
          },
          "execution_count": 15,
          "metadata": {},
          "output_type": "execute_result"
        }
      ],
      "source": [
        "# Show only the content of the element above instead of as a list.\n",
        "nested_list[3][2][0]"
      ]
    },
    {
      "cell_type": "code",
      "execution_count": null,
      "id": "e0fc0e98",
      "metadata": {
        "id": "e0fc0e98",
        "outputId": "8262fe6f-0730-41c5-b790-b44826231367"
      },
      "outputs": [
        {
          "name": "stdout",
          "output_type": "stream",
          "text": [
            "[[25, 25, 25, 25, 25], [25, 25, 25, 25, 25], [25, 25, 25, 25, 25], [25, 25, 25, 25, 25], [25, 25, 25, 25, 25]]\n"
          ]
        }
      ],
      "source": [
        "\"\"\" Try Out: Create a 5X5 matrix using numbers 1 to 25 with nested lists. Access the middle\n",
        "elements in the matrix. Try all the methods learned till now to manipulate this list\"\"\"\n",
        "n = 5\n",
        "m = 5\n",
        "val = [0] * n\n",
        "for x in range (n):\n",
        "    val[x] = [25] * m\n",
        "print(val)"
      ]
    },
    {
      "cell_type": "code",
      "execution_count": null,
      "id": "75f47490",
      "metadata": {
        "id": "75f47490",
        "outputId": "5440c23e-ce5a-4ac0-c334-4648ef1fb876"
      },
      "outputs": [
        {
          "data": {
            "text/plain": [
              "['k1']"
            ]
          },
          "execution_count": 41,
          "metadata": {},
          "output_type": "execute_result"
        }
      ],
      "source": [
        "\"\"\" Try Out: Given this nested list grab the word “hello”. Be prepared, this will be annoy-\n",
        "ing/tricky. \"\"\"\n",
        "d = ['k1',[1,2,3,['tricky',['oh','man','inception',['target',[1,2,3,'hello']]]]]]\n",
        "d[:10:15]"
      ]
    },
    {
      "cell_type": "code",
      "execution_count": null,
      "id": "af112ddf",
      "metadata": {
        "id": "af112ddf",
        "outputId": "81cb4b83-18e2-445e-bee6-3f080756301f"
      },
      "outputs": [
        {
          "data": {
            "text/plain": [
              "'s'"
            ]
          },
          "execution_count": 42,
          "metadata": {},
          "output_type": "execute_result"
        }
      ],
      "source": [
        "mystr = \"This is a python string\"\n",
        "# Get a value at index 3\n",
        "mystr[3]"
      ]
    },
    {
      "cell_type": "code",
      "execution_count": null,
      "id": "363e83af",
      "metadata": {
        "id": "363e83af",
        "outputId": "303b9d81-4ea3-473d-cbbb-61440a47635c"
      },
      "outputs": [
        {
          "data": {
            "text/plain": [
              "'python'"
            ]
          },
          "execution_count": 43,
          "metadata": {},
          "output_type": "execute_result"
        }
      ],
      "source": [
        "#Get a slice of the string with \"python\"\n",
        "mystr[10:16]"
      ]
    },
    {
      "cell_type": "code",
      "execution_count": null,
      "id": "c87bd682",
      "metadata": {
        "id": "c87bd682",
        "outputId": "9abe8fff-3cc2-41b5-b408-74c5e6bfde4f"
      },
      "outputs": [
        {
          "data": {
            "text/plain": [
              "'Ti sapto tig'"
            ]
          },
          "execution_count": 44,
          "metadata": {},
          "output_type": "execute_result"
        }
      ],
      "source": [
        "#Get a slice of the string with \"python\"\n",
        "mystr[0::2]"
      ]
    },
    {
      "cell_type": "code",
      "execution_count": null,
      "id": "39cd62f7",
      "metadata": {
        "id": "39cd62f7",
        "outputId": "60600d7f-37d0-4257-ecb3-5ffd4bcb8f98"
      },
      "outputs": [
        {
          "data": {
            "text/plain": [
              "'g'"
            ]
          },
          "execution_count": 45,
          "metadata": {},
          "output_type": "execute_result"
        }
      ],
      "source": [
        "#Get the last letter of the string\n",
        "mystr[-1]"
      ]
    },
    {
      "cell_type": "code",
      "execution_count": null,
      "id": "983cef0d",
      "metadata": {
        "id": "983cef0d",
        "outputId": "59542a35-5fcf-41ca-9267-853f516e6cfd"
      },
      "outputs": [
        {
          "data": {
            "text/plain": [
              "'gnirts nohtyp a si sihT'"
            ]
          },
          "execution_count": 46,
          "metadata": {},
          "output_type": "execute_result"
        }
      ],
      "source": [
        "#Reverse the string\n",
        "mystr[::-1]"
      ]
    },
    {
      "cell_type": "code",
      "execution_count": null,
      "id": "621249fe",
      "metadata": {
        "id": "621249fe",
        "outputId": "e58a216b-c81d-4082-c19e-ba51122e6805"
      },
      "outputs": [
        {
          "data": {
            "text/plain": [
              "'gnir'"
            ]
          },
          "execution_count": 47,
          "metadata": {},
          "output_type": "execute_result"
        }
      ],
      "source": [
        "#Reverse the string\n",
        "mystr[-1:-5:-1]"
      ]
    },
    {
      "cell_type": "code",
      "execution_count": null,
      "id": "d5e568ba",
      "metadata": {
        "id": "d5e568ba"
      },
      "outputs": [],
      "source": [
        "#Try Out: Print every third character in the string.\n",
        "mystr[]   "
      ]
    },
    {
      "cell_type": "code",
      "execution_count": null,
      "id": "63282923",
      "metadata": {
        "id": "63282923"
      },
      "outputs": [],
      "source": [
        "#Try Out: Reverse only the word python in the string.\n",
        "mystr[]"
      ]
    },
    {
      "cell_type": "code",
      "execution_count": null,
      "id": "0176b9bc",
      "metadata": {
        "id": "0176b9bc",
        "outputId": "53ec2eff-2aeb-45fa-db48-ee5ac97d9790"
      },
      "outputs": [
        {
          "data": {
            "text/plain": [
              "'gnirts nohtyp a si sihT'"
            ]
          },
          "execution_count": 48,
          "metadata": {},
          "output_type": "execute_result"
        }
      ],
      "source": [
        "#Try Out: Reverse every word in the string.\n",
        "mystr[::-1]"
      ]
    },
    {
      "cell_type": "code",
      "execution_count": null,
      "id": "eef843b6",
      "metadata": {
        "id": "eef843b6",
        "outputId": "ad83404b-2c86-45d0-94d4-28d2c425965e"
      },
      "outputs": [
        {
          "name": "stdout",
          "output_type": "stream",
          "text": [
            "1\n",
            "4\n",
            "7\n"
          ]
        }
      ],
      "source": [
        "num = 1\n",
        "while num<10:\n",
        "    print(num)\n",
        "    num = num + 3"
      ]
    },
    {
      "cell_type": "code",
      "execution_count": null,
      "id": "ffb0a549",
      "metadata": {
        "id": "ffb0a549",
        "outputId": "7e70ae0d-b3ff-4c81-b5ae-f961fc787c32"
      },
      "outputs": [
        {
          "name": "stdout",
          "output_type": "stream",
          "text": [
            "1   5\n",
            "1   6\n",
            "1   7\n"
          ]
        }
      ],
      "source": [
        "i = 1\n",
        "j = 5\n",
        "while i < 4:\n",
        "    while j < 8:\n",
        "        print(i,'','',j)\n",
        "        j = j + 1\n",
        "    i = i + 1"
      ]
    },
    {
      "cell_type": "code",
      "execution_count": null,
      "id": "8d197056",
      "metadata": {
        "id": "8d197056",
        "outputId": "b7ae4bca-e853-4794-90b8-12e916091e93"
      },
      "outputs": [
        {
          "data": {
            "text/plain": [
              "range(0, 3)"
            ]
          },
          "execution_count": 55,
          "metadata": {},
          "output_type": "execute_result"
        }
      ],
      "source": [
        "range(3)"
      ]
    },
    {
      "cell_type": "code",
      "execution_count": null,
      "id": "924ab700",
      "metadata": {
        "id": "924ab700"
      },
      "outputs": [],
      "source": [
        ""
      ]
    },
    {
      "cell_type": "code",
      "execution_count": null,
      "id": "30ee0292",
      "metadata": {
        "id": "30ee0292"
      },
      "outputs": [],
      "source": [
        ""
      ]
    },
    {
      "cell_type": "code",
      "execution_count": null,
      "id": "f594ef04",
      "metadata": {
        "id": "f594ef04"
      },
      "outputs": [],
      "source": [
        ""
      ]
    },
    {
      "cell_type": "code",
      "execution_count": null,
      "id": "f9c2d528",
      "metadata": {
        "id": "f9c2d528"
      },
      "outputs": [],
      "source": [
        ""
      ]
    },
    {
      "cell_type": "code",
      "execution_count": null,
      "id": "1f019011",
      "metadata": {
        "id": "1f019011"
      },
      "outputs": [],
      "source": [
        ""
      ]
    }
  ],
  "metadata": {
    "kernelspec": {
      "display_name": "Python 3 (ipykernel)",
      "language": "python",
      "name": "python3"
    },
    "language_info": {
      "codemirror_mode": {
        "name": "ipython",
        "version": 3
      },
      "file_extension": ".py",
      "mimetype": "text/x-python",
      "name": "python",
      "nbconvert_exporter": "python",
      "pygments_lexer": "ipython3",
      "version": "3.9.7"
    },
    "colab": {
      "name": "Strings Notes.ipynb",
      "provenance": [],
      "include_colab_link": true
    }
  },
  "nbformat": 4,
  "nbformat_minor": 5
}