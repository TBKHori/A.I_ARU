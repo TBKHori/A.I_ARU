{
  "cells": [
    {
      "cell_type": "markdown",
      "metadata": {
        "id": "view-in-github",
        "colab_type": "text"
      },
      "source": [
        "<a href=\"https://colab.research.google.com/github/TBKHori/A.I_ARU/blob/main/Numpy_ARU.ipynb\" target=\"_parent\"><img src=\"https://colab.research.google.com/assets/colab-badge.svg\" alt=\"Open In Colab\"/></a>"
      ]
    },
    {
      "cell_type": "code",
      "execution_count": null,
      "id": "876097de",
      "metadata": {
        "id": "876097de"
      },
      "outputs": [],
      "source": [
        "import numpy as np"
      ]
    },
    {
      "cell_type": "code",
      "execution_count": null,
      "id": "bce1f302",
      "metadata": {
        "id": "bce1f302",
        "outputId": "0f42bd73-2868-4251-f5e4-f5a06baf68ab"
      },
      "outputs": [
        {
          "data": {
            "text/plain": [
              "[100, 300, 500, 700, 900]"
            ]
          },
          "execution_count": 33,
          "metadata": {},
          "output_type": "execute_result"
        }
      ],
      "source": [
        "#Create a list.\n",
        "my_list = [100, 300, 500, 700, 900]\n",
        "my_list"
      ]
    },
    {
      "cell_type": "code",
      "execution_count": null,
      "id": "3722329b",
      "metadata": {
        "id": "3722329b",
        "outputId": "f3434641-f51c-4101-ff68-8dc93052fba6"
      },
      "outputs": [
        {
          "data": {
            "text/plain": [
              "array([100, 300, 500, 700, 900])"
            ]
          },
          "execution_count": 34,
          "metadata": {},
          "output_type": "execute_result"
        }
      ],
      "source": [
        "#Use the list to initialise a numpy array.\n",
        "np.array(my_list)"
      ]
    },
    {
      "cell_type": "code",
      "execution_count": null,
      "id": "998133f1",
      "metadata": {
        "id": "998133f1",
        "outputId": "9104c927-afbe-4064-faf3-629c312661bf"
      },
      "outputs": [
        {
          "data": {
            "text/plain": [
              "[[1, 2, 3], [4, 5, 6], [7, 8, 9]]"
            ]
          },
          "execution_count": 35,
          "metadata": {},
          "output_type": "execute_result"
        }
      ],
      "source": [
        "# Create a list of lists\n",
        "my_matrix = [[1,2,3],[4,5,6],[7,8,9]]\n",
        "my_matrix"
      ]
    },
    {
      "cell_type": "code",
      "execution_count": null,
      "id": "e1f42cb0",
      "metadata": {
        "id": "e1f42cb0",
        "outputId": "a9afeb1f-d48a-41a0-b3a2-aeb17791256a"
      },
      "outputs": [
        {
          "data": {
            "text/plain": [
              "array([[1, 2, 3],\n",
              "       [4, 5, 6],\n",
              "       [7, 8, 9]])"
            ]
          },
          "execution_count": 36,
          "metadata": {},
          "output_type": "execute_result"
        }
      ],
      "source": [
        "# Initalise the array with the list of lists.\n",
        "np.array(my_matrix)"
      ]
    },
    {
      "cell_type": "code",
      "execution_count": null,
      "id": "816bb911",
      "metadata": {
        "id": "816bb911",
        "outputId": "6034d78c-b65a-4c2c-8f04-fad81a2ac9b3"
      },
      "outputs": [
        {
          "data": {
            "text/plain": [
              "array([100, 101, 102, 103, 104, 105, 106, 107, 108, 109])"
            ]
          },
          "execution_count": 37,
          "metadata": {},
          "output_type": "execute_result"
        }
      ],
      "source": [
        "# Note the end item is excluded.\n",
        "np.arange(100,110)"
      ]
    },
    {
      "cell_type": "code",
      "execution_count": null,
      "id": "4ec554eb",
      "metadata": {
        "id": "4ec554eb",
        "outputId": "4be704f8-f1d8-479e-8cdc-69cbc2a76f85"
      },
      "outputs": [
        {
          "data": {
            "text/plain": [
              "array([20, 18, 16, 14, 12, 10,  8,  6,  4,  2])"
            ]
          },
          "execution_count": 38,
          "metadata": {},
          "output_type": "execute_result"
        }
      ],
      "source": [
        "# Using negative step factor gives a decreasing sequence.\n",
        "np.arange(20,1,-2)"
      ]
    },
    {
      "cell_type": "code",
      "execution_count": null,
      "id": "560216d0",
      "metadata": {
        "id": "560216d0",
        "outputId": "631a6411-adc2-4c2b-efbf-308ffcfb634d"
      },
      "outputs": [
        {
          "data": {
            "text/plain": [
              "array([0., 0., 0., 0., 0., 0., 0., 0., 0., 0.])"
            ]
          },
          "execution_count": 39,
          "metadata": {},
          "output_type": "execute_result"
        }
      ],
      "source": [
        "# Generate 1-d array of zeros\n",
        "np.zeros(10)"
      ]
    },
    {
      "cell_type": "code",
      "execution_count": null,
      "id": "1fa44ad2",
      "metadata": {
        "id": "1fa44ad2",
        "outputId": "132a7e0d-1958-431a-c8a4-67fb1bc42281"
      },
      "outputs": [
        {
          "data": {
            "text/plain": [
              "array([[0., 0., 0.],\n",
              "       [0., 0., 0.],\n",
              "       [0., 0., 0.]])"
            ]
          },
          "execution_count": 40,
          "metadata": {},
          "output_type": "execute_result"
        }
      ],
      "source": [
        "# A 2-d array of zeros\n",
        "np.zeros((3,3))"
      ]
    },
    {
      "cell_type": "code",
      "execution_count": null,
      "id": "a240194e",
      "metadata": {
        "id": "a240194e",
        "outputId": "39f27420-b0ed-4016-e8da-dd97699ec465"
      },
      "outputs": [
        {
          "data": {
            "text/plain": [
              "array([1., 1., 1., 1., 1.])"
            ]
          },
          "execution_count": 41,
          "metadata": {},
          "output_type": "execute_result"
        }
      ],
      "source": [
        "# Generate the 1-d array of ones.\n",
        "np.ones(5)"
      ]
    },
    {
      "cell_type": "code",
      "execution_count": null,
      "id": "7213490d",
      "metadata": {
        "id": "7213490d",
        "outputId": "07b15a84-c3cc-43d4-975d-2d246ae52397"
      },
      "outputs": [
        {
          "data": {
            "text/plain": [
              "array([[1., 1., 1.],\n",
              "       [1., 1., 1.],\n",
              "       [1., 1., 1.],\n",
              "       [1., 1., 1.],\n",
              "       [1., 1., 1.]])"
            ]
          },
          "execution_count": 42,
          "metadata": {},
          "output_type": "execute_result"
        }
      ],
      "source": [
        "# 2-d array of ones.\n",
        "np.ones((5,3))"
      ]
    },
    {
      "cell_type": "code",
      "execution_count": null,
      "id": "8b3764d5",
      "metadata": {
        "id": "8b3764d5",
        "outputId": "38a4629f-95fe-49a4-f0ef-f071b6774578"
      },
      "outputs": [
        {
          "data": {
            "text/plain": [
              "array([ 10.,  20.,  30.,  40.,  50.,  60.,  70.,  80.,  90., 100.])"
            ]
          },
          "execution_count": 43,
          "metadata": {},
          "output_type": "execute_result"
        }
      ],
      "source": [
        "# Generate ten elements between 0 and 100\n",
        "np.linspace(10,100,10)"
      ]
    },
    {
      "cell_type": "code",
      "execution_count": null,
      "id": "1a3baea7",
      "metadata": {
        "id": "1a3baea7",
        "outputId": "042f4d68-06db-45b6-fd0a-feae079bed00"
      },
      "outputs": [
        {
          "data": {
            "text/plain": [
              "array([ 0.        ,  0.20408163,  0.40816327,  0.6122449 ,  0.81632653,\n",
              "        1.02040816,  1.2244898 ,  1.42857143,  1.63265306,  1.83673469,\n",
              "        2.04081633,  2.24489796,  2.44897959,  2.65306122,  2.85714286,\n",
              "        3.06122449,  3.26530612,  3.46938776,  3.67346939,  3.87755102,\n",
              "        4.08163265,  4.28571429,  4.48979592,  4.69387755,  4.89795918,\n",
              "        5.10204082,  5.30612245,  5.51020408,  5.71428571,  5.91836735,\n",
              "        6.12244898,  6.32653061,  6.53061224,  6.73469388,  6.93877551,\n",
              "        7.14285714,  7.34693878,  7.55102041,  7.75510204,  7.95918367,\n",
              "        8.16326531,  8.36734694,  8.57142857,  8.7755102 ,  8.97959184,\n",
              "        9.18367347,  9.3877551 ,  9.59183673,  9.79591837, 10.        ])"
            ]
          },
          "execution_count": 44,
          "metadata": {},
          "output_type": "execute_result"
        }
      ],
      "source": [
        "# Method can be used to generate finer granular sequence\n",
        "np.linspace(0,10,50)"
      ]
    },
    {
      "cell_type": "code",
      "execution_count": null,
      "id": "1eece9a0",
      "metadata": {
        "id": "1eece9a0",
        "outputId": "94418fb9-1254-4cf2-ac3d-a892e6d98f72"
      },
      "outputs": [
        {
          "data": {
            "text/plain": [
              "array([[1., 0., 0.],\n",
              "       [0., 1., 0.],\n",
              "       [0., 0., 1.]])"
            ]
          },
          "execution_count": 45,
          "metadata": {},
          "output_type": "execute_result"
        }
      ],
      "source": [
        "# Create a Identity matrix of size 3X3\n",
        "np.eye(3)"
      ]
    },
    {
      "cell_type": "code",
      "execution_count": null,
      "id": "3a13b2ef",
      "metadata": {
        "id": "3a13b2ef",
        "outputId": "48f262ec-db4f-401c-f657-49312905ad14"
      },
      "outputs": [
        {
          "data": {
            "text/plain": [
              "array([0.5226679 , 0.08944682, 0.39261182, 0.67141773, 0.98047105])"
            ]
          },
          "execution_count": 46,
          "metadata": {},
          "output_type": "execute_result"
        }
      ],
      "source": [
        "# Generate a random number array from uniform distribution in the interval [0,1].\n",
        "np.random.rand(5)"
      ]
    },
    {
      "cell_type": "code",
      "execution_count": null,
      "id": "8e310933",
      "metadata": {
        "id": "8e310933",
        "outputId": "9c8465fd-501c-481a-ff84-5bcc47cb7323"
      },
      "outputs": [
        {
          "data": {
            "text/plain": [
              "array([[0.75291321, 0.38095395, 0.37741817, 0.81656769, 0.79031534],\n",
              "       [0.83370552, 0.12116437, 0.65726526, 0.06579772, 0.95608401],\n",
              "       [0.10958311, 0.18863071, 0.53877602, 0.08097219, 0.12826596],\n",
              "       [0.52630213, 0.86188482, 0.1260577 , 0.41432478, 0.25813149],\n",
              "       [0.75885249, 0.15133589, 0.09583625, 0.17195295, 0.30463644]])"
            ]
          },
          "execution_count": 47,
          "metadata": {},
          "output_type": "execute_result"
        }
      ],
      "source": [
        "# Generate a 2-d array of random numbers\n",
        "np.random.rand(5,5)"
      ]
    },
    {
      "cell_type": "code",
      "execution_count": null,
      "id": "0b5e14c4",
      "metadata": {
        "id": "0b5e14c4",
        "outputId": "f2ba7c0d-35b8-4f69-9ba1-8caabb00ed81"
      },
      "outputs": [
        {
          "data": {
            "text/plain": [
              "array([-1.31069028, -0.08322189,  0.48123971,  0.10227643])"
            ]
          },
          "execution_count": 48,
          "metadata": {},
          "output_type": "execute_result"
        }
      ],
      "source": [
        "# Generates a 1-d random sequence from normal distribution.\n",
        "np.random.randn(4)"
      ]
    },
    {
      "cell_type": "code",
      "execution_count": null,
      "id": "b3da90f3",
      "metadata": {
        "id": "b3da90f3",
        "outputId": "689fe3af-90d6-45af-9c54-68cf57658b3c"
      },
      "outputs": [
        {
          "data": {
            "text/plain": [
              "array([[ 3.14990040e-01,  2.70076510e-01,  2.92569933e+00,\n",
              "        -3.69673870e-01, -5.46559358e-01],\n",
              "       [-2.01932789e-04, -8.79821365e-01, -1.77618637e+00,\n",
              "        -1.90500385e+00, -1.64206427e-01],\n",
              "       [-6.07175503e-01,  1.24900399e-01, -5.25361803e-01,\n",
              "        -5.81422716e-02, -1.78020476e+00],\n",
              "       [-1.38654792e-01,  1.25958745e+00, -1.87114409e+00,\n",
              "        -7.38561997e-01,  2.23185388e-01],\n",
              "       [-1.08491411e+00, -1.91610624e+00,  5.53666361e-01,\n",
              "         5.67999233e-02,  5.31850048e-01]])"
            ]
          },
          "execution_count": 49,
          "metadata": {},
          "output_type": "execute_result"
        }
      ],
      "source": [
        "# Generates a 2-d random array from a normal distribution.\n",
        "np.random.randn(5,5)"
      ]
    },
    {
      "cell_type": "code",
      "execution_count": null,
      "id": "c7933f0a",
      "metadata": {
        "id": "c7933f0a",
        "outputId": "45ccd78d-21f0-4f96-a80a-bf7ffa1c95df"
      },
      "outputs": [
        {
          "data": {
            "text/plain": [
              "31"
            ]
          },
          "execution_count": 50,
          "metadata": {},
          "output_type": "execute_result"
        }
      ],
      "source": [
        "# Generate a single random integer between 1 and 100.\n",
        "np.random.randint(1,100)"
      ]
    },
    {
      "cell_type": "code",
      "execution_count": null,
      "id": "46816217",
      "metadata": {
        "id": "46816217",
        "outputId": "65cfa886-6540-4c52-d2c2-31d31670640b"
      },
      "outputs": [
        {
          "data": {
            "text/plain": [
              "array([74,  1,  9, 58, 73, 85, 51, 26, 11, 47])"
            ]
          },
          "execution_count": 51,
          "metadata": {},
          "output_type": "execute_result"
        }
      ],
      "source": [
        "# Generate a sequence of random numbers between 1 and 100\n",
        "np.random.randint(1,100,10)"
      ]
    },
    {
      "cell_type": "code",
      "execution_count": null,
      "id": "04df5984",
      "metadata": {
        "id": "04df5984",
        "outputId": "6f7192a4-5b91-43f5-c637-d56b3ceef9ce"
      },
      "outputs": [
        {
          "data": {
            "text/plain": [
              "array([0., 0., 0., 0., 0., 0., 0., 0., 0., 0.])"
            ]
          },
          "execution_count": 52,
          "metadata": {},
          "output_type": "execute_result"
        }
      ],
      "source": [
        "# Create an array of 10 zeros\n",
        "np.zeros(10)"
      ]
    },
    {
      "cell_type": "code",
      "execution_count": null,
      "id": "7543d71e",
      "metadata": {
        "id": "7543d71e",
        "outputId": "ce75e0b7-6b6a-4a1e-85bb-aac04663f9c4"
      },
      "outputs": [
        {
          "data": {
            "text/plain": [
              "array([1., 1., 1., 1., 1., 1., 1., 1., 1., 1.])"
            ]
          },
          "execution_count": 53,
          "metadata": {},
          "output_type": "execute_result"
        }
      ],
      "source": [
        "# Create an array of 10 ones \n",
        "np.ones(10)"
      ]
    },
    {
      "cell_type": "code",
      "execution_count": null,
      "id": "150f0480",
      "metadata": {
        "id": "150f0480",
        "outputId": "dc0c8d64-d238-4f90-c88d-63e0efbb9872"
      },
      "outputs": [
        {
          "data": {
            "text/plain": [
              "array([5., 5., 5., 5., 5., 5., 5., 5., 5., 5.])"
            ]
          },
          "execution_count": 54,
          "metadata": {},
          "output_type": "execute_result"
        }
      ],
      "source": [
        "# Create an array of 10 fives\n",
        "np.ones(10)*5"
      ]
    },
    {
      "cell_type": "code",
      "execution_count": null,
      "id": "d01251aa",
      "metadata": {
        "id": "d01251aa",
        "outputId": "c1ae2a3b-c07c-4690-fa4e-a1b40741e11d"
      },
      "outputs": [
        {
          "data": {
            "text/plain": [
              "array([10, 11, 12, 13, 14, 15, 16, 17, 18, 19, 20, 21, 22, 23, 24, 25, 26,\n",
              "       27, 28, 29, 30, 31, 32, 33, 34, 35, 36, 37, 38, 39, 40, 41, 42, 43,\n",
              "       44, 45, 46, 47, 48, 49, 50])"
            ]
          },
          "execution_count": 55,
          "metadata": {},
          "output_type": "execute_result"
        }
      ],
      "source": [
        "# Create an array of the integers from 10 to 50\n",
        "np.arange(10,51)"
      ]
    },
    {
      "cell_type": "code",
      "execution_count": null,
      "id": "14044b95",
      "metadata": {
        "id": "14044b95",
        "outputId": "a1e2a05a-944c-48fe-b9b1-c6627dabf7a8"
      },
      "outputs": [
        {
          "data": {
            "text/plain": [
              "array([10., 12., 14., 16., 18., 20., 22., 24., 26., 28., 30., 32., 34.,\n",
              "       36., 38., 40., 42., 44., 46., 48., 50.])"
            ]
          },
          "execution_count": 56,
          "metadata": {},
          "output_type": "execute_result"
        }
      ],
      "source": [
        "# Create an array of all the even integers from 10 to 50\n",
        "np.linspace(10,50,21)"
      ]
    },
    {
      "cell_type": "code",
      "execution_count": null,
      "id": "64cf8942",
      "metadata": {
        "id": "64cf8942",
        "outputId": "a0932092-d469-488d-a140-08f892c00a2c"
      },
      "outputs": [
        {
          "data": {
            "text/plain": [
              "array([[0, 1, 2],\n",
              "       [3, 4, 5],\n",
              "       [6, 7, 8]])"
            ]
          },
          "execution_count": 57,
          "metadata": {},
          "output_type": "execute_result"
        }
      ],
      "source": [
        "# Create a 3x3 matrix with values ranging from 0 to 8\n",
        "np.arange(0,9).reshape(3,3)"
      ]
    },
    {
      "cell_type": "code",
      "execution_count": null,
      "id": "3487afc1",
      "metadata": {
        "id": "3487afc1",
        "outputId": "6c90c222-f36b-4528-85cb-02bb6c7e8b04"
      },
      "outputs": [
        {
          "data": {
            "text/plain": [
              "array([[1., 0., 0.],\n",
              "       [0., 1., 0.],\n",
              "       [0., 0., 1.]])"
            ]
          },
          "execution_count": 58,
          "metadata": {},
          "output_type": "execute_result"
        }
      ],
      "source": [
        "# Create a 3x3 identity matrix\n",
        "np.eye(3)"
      ]
    },
    {
      "cell_type": "code",
      "execution_count": null,
      "id": "bb62d90a",
      "metadata": {
        "id": "bb62d90a",
        "outputId": "03a1ea57-cd0b-4226-ccef-a5b4b683b260"
      },
      "outputs": [
        {
          "data": {
            "text/plain": [
              "array([[0.14535805]])"
            ]
          },
          "execution_count": 59,
          "metadata": {},
          "output_type": "execute_result"
        }
      ],
      "source": [
        "# Use NumPy to generate a random number between 0 and 1\n",
        "np.random.rand(1, 1)"
      ]
    },
    {
      "cell_type": "code",
      "execution_count": null,
      "id": "2791aba8",
      "metadata": {
        "id": "2791aba8",
        "outputId": "ed2cd1bb-f5c9-4c0c-8c41-5489b4e2f00b"
      },
      "outputs": [
        {
          "data": {
            "text/plain": [
              "array([[ 1.88924171,  0.12608575,  0.1127212 , -0.67576423,  0.11108154],\n",
              "       [ 0.9371909 , -0.0490315 , -0.69941468, -0.06389624,  0.96572345],\n",
              "       [ 0.50753453, -1.57836169, -1.08721954, -1.08756677,  0.79357807],\n",
              "       [-0.33829753, -0.39236055, -0.10136061, -1.46226945, -0.22180759],\n",
              "       [ 1.2064501 ,  0.22893397,  0.46384693, -0.41456608, -0.36882589]])"
            ]
          },
          "execution_count": 60,
          "metadata": {},
          "output_type": "execute_result"
        }
      ],
      "source": [
        "\"\"\" Use NumPy to generate an array of 25 random numbers sampled from a standard normal dis-\n",
        "tribution \"\"\"\n",
        "np.random.randn(5,5)"
      ]
    },
    {
      "cell_type": "code",
      "execution_count": null,
      "id": "97cb62e5",
      "metadata": {
        "id": "97cb62e5",
        "outputId": "2e8f8697-ce66-48b8-94d5-3a626bae9f0a"
      },
      "outputs": [
        {
          "data": {
            "text/plain": [
              "array([0.        , 0.01010101, 0.02020202, 0.03030303, 0.04040404,\n",
              "       0.05050505, 0.06060606, 0.07070707, 0.08080808, 0.09090909,\n",
              "       0.1010101 , 0.11111111, 0.12121212, 0.13131313, 0.14141414,\n",
              "       0.15151515, 0.16161616, 0.17171717, 0.18181818, 0.19191919,\n",
              "       0.2020202 , 0.21212121, 0.22222222, 0.23232323, 0.24242424,\n",
              "       0.25252525, 0.26262626, 0.27272727, 0.28282828, 0.29292929,\n",
              "       0.3030303 , 0.31313131, 0.32323232, 0.33333333, 0.34343434,\n",
              "       0.35353535, 0.36363636, 0.37373737, 0.38383838, 0.39393939,\n",
              "       0.4040404 , 0.41414141, 0.42424242, 0.43434343, 0.44444444,\n",
              "       0.45454545, 0.46464646, 0.47474747, 0.48484848, 0.49494949,\n",
              "       0.50505051, 0.51515152, 0.52525253, 0.53535354, 0.54545455,\n",
              "       0.55555556, 0.56565657, 0.57575758, 0.58585859, 0.5959596 ,\n",
              "       0.60606061, 0.61616162, 0.62626263, 0.63636364, 0.64646465,\n",
              "       0.65656566, 0.66666667, 0.67676768, 0.68686869, 0.6969697 ,\n",
              "       0.70707071, 0.71717172, 0.72727273, 0.73737374, 0.74747475,\n",
              "       0.75757576, 0.76767677, 0.77777778, 0.78787879, 0.7979798 ,\n",
              "       0.80808081, 0.81818182, 0.82828283, 0.83838384, 0.84848485,\n",
              "       0.85858586, 0.86868687, 0.87878788, 0.88888889, 0.8989899 ,\n",
              "       0.90909091, 0.91919192, 0.92929293, 0.93939394, 0.94949495,\n",
              "       0.95959596, 0.96969697, 0.97979798, 0.98989899, 1.        ])"
            ]
          },
          "execution_count": 61,
          "metadata": {},
          "output_type": "execute_result"
        }
      ],
      "source": [
        "np.linspace(0, 1, 100)"
      ]
    },
    {
      "cell_type": "code",
      "execution_count": null,
      "id": "91da9e4b",
      "metadata": {
        "id": "91da9e4b",
        "outputId": "0622ea62-d2f5-4243-806b-dd6126f4df45"
      },
      "outputs": [
        {
          "data": {
            "text/plain": [
              "array([0.        , 0.05263158, 0.10526316, 0.15789474, 0.21052632,\n",
              "       0.26315789, 0.31578947, 0.36842105, 0.42105263, 0.47368421,\n",
              "       0.52631579, 0.57894737, 0.63157895, 0.68421053, 0.73684211,\n",
              "       0.78947368, 0.84210526, 0.89473684, 0.94736842, 1.        ])"
            ]
          },
          "execution_count": 62,
          "metadata": {},
          "output_type": "execute_result"
        }
      ],
      "source": [
        "# Create an array of 20 linearly spaced points between 0 and 1:\n",
        "np.linspace(0, 1, 20)"
      ]
    },
    {
      "cell_type": "markdown",
      "id": "e7525872",
      "metadata": {
        "id": "e7525872"
      },
      "source": [
        "NumPy arrays have a set of in-build attributes and methods."
      ]
    },
    {
      "cell_type": "code",
      "execution_count": null,
      "id": "adb2c092",
      "metadata": {
        "id": "adb2c092"
      },
      "outputs": [],
      "source": [
        "# Create two numpy arrays as examples.\n",
        "arr = np.arange(50)\n",
        "ranarr = np.random.randint(0,100,20)"
      ]
    },
    {
      "cell_type": "code",
      "execution_count": null,
      "id": "b0399269",
      "metadata": {
        "id": "b0399269",
        "outputId": "d804168b-7fb2-40ad-fcd9-f3c67526de79"
      },
      "outputs": [
        {
          "data": {
            "text/plain": [
              "array([ 0,  1,  2,  3,  4,  5,  6,  7,  8,  9, 10, 11, 12, 13, 14, 15, 16,\n",
              "       17, 18, 19, 20, 21, 22, 23, 24, 25, 26, 27, 28, 29, 30, 31, 32, 33,\n",
              "       34, 35, 36, 37, 38, 39, 40, 41, 42, 43, 44, 45, 46, 47, 48, 49])"
            ]
          },
          "execution_count": 64,
          "metadata": {},
          "output_type": "execute_result"
        }
      ],
      "source": [
        "# 1-d array - vector\n",
        "arr"
      ]
    },
    {
      "cell_type": "code",
      "execution_count": null,
      "id": "34851739",
      "metadata": {
        "id": "34851739",
        "outputId": "72a01ea2-26a8-442f-a580-bc74ae655b4c"
      },
      "outputs": [
        {
          "data": {
            "text/plain": [
              "array([84, 81, 87, 18, 24, 55, 75, 66, 35, 23, 10, 45, 56, 99, 88, 86, 53,\n",
              "       31, 33, 19])"
            ]
          },
          "execution_count": 65,
          "metadata": {},
          "output_type": "execute_result"
        }
      ],
      "source": [
        "# 1-d array of random numbers\n",
        "ranarr"
      ]
    },
    {
      "cell_type": "markdown",
      "id": "6b79427d",
      "metadata": {
        "id": "6b79427d"
      },
      "source": [
        "The shape (dimensions) of the array can be changed using the reshape() method This returns an\n",
        "array containing the same data with a new shape."
      ]
    },
    {
      "cell_type": "code",
      "execution_count": null,
      "id": "15aa0ab3",
      "metadata": {
        "id": "15aa0ab3",
        "outputId": "e8de823b-4931-4ab0-e017-de07b0ed12f1"
      },
      "outputs": [
        {
          "data": {
            "text/plain": [
              "array([[ 0,  1,  2,  3,  4,  5,  6,  7,  8,  9],\n",
              "       [10, 11, 12, 13, 14, 15, 16, 17, 18, 19],\n",
              "       [20, 21, 22, 23, 24, 25, 26, 27, 28, 29],\n",
              "       [30, 31, 32, 33, 34, 35, 36, 37, 38, 39],\n",
              "       [40, 41, 42, 43, 44, 45, 46, 47, 48, 49]])"
            ]
          },
          "execution_count": 66,
          "metadata": {},
          "output_type": "execute_result"
        }
      ],
      "source": [
        " # Convert the 50 element 1-d array into a 2-d array.\n",
        "arr.reshape(5,10)"
      ]
    },
    {
      "cell_type": "markdown",
      "id": "93194313",
      "metadata": {
        "id": "93194313"
      },
      "source": [
        "These are useful methods for finding max or min values. Or to find their index locations using\n",
        "argmin or argmax"
      ]
    },
    {
      "cell_type": "code",
      "execution_count": null,
      "id": "679a52f0",
      "metadata": {
        "id": "679a52f0",
        "outputId": "e5a5c970-3119-4763-dc99-b26cc1080806"
      },
      "outputs": [
        {
          "data": {
            "text/plain": [
              "array([84, 81, 87, 18, 24, 55, 75, 66, 35, 23, 10, 45, 56, 99, 88, 86, 53,\n",
              "       31, 33, 19])"
            ]
          },
          "execution_count": 67,
          "metadata": {},
          "output_type": "execute_result"
        }
      ],
      "source": [
        "# The created random array.\n",
        "ranarr"
      ]
    },
    {
      "cell_type": "code",
      "execution_count": null,
      "id": "ac4a3827",
      "metadata": {
        "id": "ac4a3827",
        "outputId": "0b6bd144-5b71-4bbf-eada-c21206047c52"
      },
      "outputs": [
        {
          "data": {
            "text/plain": [
              "99"
            ]
          },
          "execution_count": 68,
          "metadata": {},
          "output_type": "execute_result"
        }
      ],
      "source": [
        "# Find the max value in the array\n",
        "ranarr.max()"
      ]
    },
    {
      "cell_type": "code",
      "execution_count": null,
      "id": "e4ffae6b",
      "metadata": {
        "id": "e4ffae6b",
        "outputId": "8b157fff-e5c6-4f13-e569-488e3f78da30"
      },
      "outputs": [
        {
          "data": {
            "text/plain": [
              "13"
            ]
          },
          "execution_count": 69,
          "metadata": {},
          "output_type": "execute_result"
        }
      ],
      "source": [
        " # Find the index of the maximum value\n",
        "ranarr.argmax()"
      ]
    },
    {
      "cell_type": "code",
      "execution_count": null,
      "id": "0a977ec0",
      "metadata": {
        "id": "0a977ec0",
        "outputId": "cac35308-d382-4325-dde7-71319f8db371"
      },
      "outputs": [
        {
          "data": {
            "text/plain": [
              "10"
            ]
          },
          "execution_count": 70,
          "metadata": {},
          "output_type": "execute_result"
        }
      ],
      "source": [
        "# Find the minimum value in the array\n",
        "ranarr.min()"
      ]
    },
    {
      "cell_type": "code",
      "execution_count": null,
      "id": "51df6290",
      "metadata": {
        "id": "51df6290",
        "outputId": "a48b6695-01c6-4160-e885-a4fb2a0e91fc"
      },
      "outputs": [
        {
          "data": {
            "text/plain": [
              "10"
            ]
          },
          "execution_count": 75,
          "metadata": {},
          "output_type": "execute_result"
        }
      ],
      "source": [
        "# Find the index of the minimum value\n",
        "ranarr.argmin()"
      ]
    },
    {
      "cell_type": "markdown",
      "id": "86c08106",
      "metadata": {
        "id": "86c08106"
      },
      "source": [
        "As mentioned earlier, numpy array is a grid of values, all of the same type, and is indexed by a\n",
        "tuple of nonnegative integers. The number of dimensions is the rank of the array. The shape of an\n",
        "array is a tuple of integers giving the size of the array along each dimension.\n",
        "The size of a Numpy array can be retrieved using the attribute named “shape”. Please note it\n",
        "is not a method. Attribute does not use “()” when evoked."
      ]
    },
    {
      "cell_type": "code",
      "execution_count": null,
      "id": "161cc9b4",
      "metadata": {
        "id": "161cc9b4",
        "outputId": "ad1c94ed-4ce6-403c-a1e0-e6927deb98e1"
      },
      "outputs": [
        {
          "data": {
            "text/plain": [
              "(50,)"
            ]
          },
          "execution_count": 76,
          "metadata": {},
          "output_type": "execute_result"
        }
      ],
      "source": [
        "# Size of a Vector\n",
        "arr.shape"
      ]
    },
    {
      "cell_type": "code",
      "execution_count": null,
      "id": "2e71ee64",
      "metadata": {
        "id": "2e71ee64",
        "outputId": "4a8801b3-37a5-47d2-c538-d18fc78a009e"
      },
      "outputs": [
        {
          "ename": "ValueError",
          "evalue": "cannot reshape array of size 50 into shape (1,25)",
          "output_type": "error",
          "traceback": [
            "\u001b[1;31m---------------------------------------------------------------------------\u001b[0m",
            "\u001b[1;31mValueError\u001b[0m                                Traceback (most recent call last)",
            "\u001b[1;32m~\\AppData\\Local\\Temp/ipykernel_24116/4022911842.py\u001b[0m in \u001b[0;36m<module>\u001b[1;34m\u001b[0m\n\u001b[0;32m      1\u001b[0m \u001b[1;31m# Change it to a 2-d array with 1 column.\u001b[0m\u001b[1;33m\u001b[0m\u001b[1;33m\u001b[0m\u001b[0m\n\u001b[0;32m      2\u001b[0m \u001b[1;31m# # Notice the two sets of brackets for a 2-d array with one row.\u001b[0m\u001b[1;33m\u001b[0m\u001b[1;33m\u001b[0m\u001b[0m\n\u001b[1;32m----> 3\u001b[1;33m \u001b[0marr\u001b[0m\u001b[1;33m.\u001b[0m\u001b[0mreshape\u001b[0m\u001b[1;33m(\u001b[0m\u001b[1;36m1\u001b[0m\u001b[1;33m,\u001b[0m\u001b[1;36m25\u001b[0m\u001b[1;33m)\u001b[0m\u001b[1;33m\u001b[0m\u001b[1;33m\u001b[0m\u001b[0m\n\u001b[0m",
            "\u001b[1;31mValueError\u001b[0m: cannot reshape array of size 50 into shape (1,25)"
          ]
        }
      ],
      "source": [
        "# Change it to a 2-d array with 1 column.\n",
        "# # Notice the two sets of brackets for a 2-d array with one row.\n",
        "arr.reshape(1,25)"
      ]
    },
    {
      "cell_type": "code",
      "execution_count": null,
      "id": "b7d2c9e0",
      "metadata": {
        "id": "b7d2c9e0",
        "outputId": "c988e380-8f25-435e-ea36-f8514d681ac4"
      },
      "outputs": [
        {
          "ename": "ValueError",
          "evalue": "cannot reshape array of size 50 into shape (25,1)",
          "output_type": "error",
          "traceback": [
            "\u001b[1;31m---------------------------------------------------------------------------\u001b[0m",
            "\u001b[1;31mValueError\u001b[0m                                Traceback (most recent call last)",
            "\u001b[1;32m~\\AppData\\Local\\Temp/ipykernel_24116/489990686.py\u001b[0m in \u001b[0;36m<module>\u001b[1;34m\u001b[0m\n\u001b[0;32m      1\u001b[0m \u001b[1;31m# Change the shape of the array and check the modified shape attribute\u001b[0m\u001b[1;33m\u001b[0m\u001b[1;33m\u001b[0m\u001b[0m\n\u001b[1;32m----> 2\u001b[1;33m \u001b[0marr\u001b[0m\u001b[1;33m.\u001b[0m\u001b[0mreshape\u001b[0m\u001b[1;33m(\u001b[0m\u001b[1;36m25\u001b[0m\u001b[1;33m,\u001b[0m\u001b[1;36m1\u001b[0m\u001b[1;33m)\u001b[0m\u001b[1;33m.\u001b[0m\u001b[0mshape\u001b[0m\u001b[1;33m\u001b[0m\u001b[1;33m\u001b[0m\u001b[0m\n\u001b[0m",
            "\u001b[1;31mValueError\u001b[0m: cannot reshape array of size 50 into shape (25,1)"
          ]
        }
      ],
      "source": [
        "# Change the shape of the array and check the modified shape attribute\n",
        "arr.reshape(25,1).shape"
      ]
    },
    {
      "cell_type": "code",
      "execution_count": null,
      "id": "6cd2a256",
      "metadata": {
        "id": "6cd2a256"
      },
      "outputs": [],
      "source": [
        ""
      ]
    }
  ],
  "metadata": {
    "kernelspec": {
      "display_name": "Python 3 (ipykernel)",
      "language": "python",
      "name": "python3"
    },
    "language_info": {
      "codemirror_mode": {
        "name": "ipython",
        "version": 3
      },
      "file_extension": ".py",
      "mimetype": "text/x-python",
      "name": "python",
      "nbconvert_exporter": "python",
      "pygments_lexer": "ipython3",
      "version": "3.9.7"
    },
    "colab": {
      "name": "Numpy_ARU.ipynb",
      "provenance": [],
      "include_colab_link": true
    }
  },
  "nbformat": 4,
  "nbformat_minor": 5
}