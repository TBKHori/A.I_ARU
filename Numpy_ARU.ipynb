{
  "cells": [
    {
      "cell_type": "markdown",
      "metadata": {
        "id": "view-in-github",
        "colab_type": "text"
      },
      "source": [
        "<a href=\"https://colab.research.google.com/github/TBKHori/A.I_ARU/blob/main/Numpy_ARU.ipynb\" target=\"_parent\"><img src=\"https://colab.research.google.com/assets/colab-badge.svg\" alt=\"Open In Colab\"/></a>"
      ]
    },
    {
      "cell_type": "code",
      "execution_count": null,
      "id": "876097de",
      "metadata": {
        "id": "876097de"
      },
      "outputs": [],
      "source": [
        "import numpy as np"
      ]
    },
    {
      "cell_type": "code",
      "execution_count": null,
      "id": "bce1f302",
      "metadata": {
        "id": "bce1f302",
        "outputId": "4765f17e-5861-4058-83da-981474f84c8e"
      },
      "outputs": [
        {
          "data": {
            "text/plain": [
              "[100, 300, 500, 700, 900]"
            ]
          },
          "execution_count": 4,
          "metadata": {},
          "output_type": "execute_result"
        }
      ],
      "source": [
        "#Create a list.\n",
        "my_list = [100, 300, 500, 700, 900]\n",
        "my_list"
      ]
    },
    {
      "cell_type": "code",
      "execution_count": null,
      "id": "3722329b",
      "metadata": {
        "id": "3722329b",
        "outputId": "6c48696a-d7f0-4262-8296-6f1581494afd"
      },
      "outputs": [
        {
          "data": {
            "text/plain": [
              "array([100, 300, 500, 700, 900])"
            ]
          },
          "execution_count": 5,
          "metadata": {},
          "output_type": "execute_result"
        }
      ],
      "source": [
        "#Use the list to initialise a numpy array.\n",
        "np.array(my_list)"
      ]
    },
    {
      "cell_type": "code",
      "execution_count": null,
      "id": "998133f1",
      "metadata": {
        "id": "998133f1",
        "outputId": "104b0c90-cb73-41a0-d44d-e0e439847ef8"
      },
      "outputs": [
        {
          "data": {
            "text/plain": [
              "[[1, 2, 3], [4, 5, 6], [7, 8, 9]]"
            ]
          },
          "execution_count": 6,
          "metadata": {},
          "output_type": "execute_result"
        }
      ],
      "source": [
        "# Create a list of lists\n",
        "my_matrix = [[1,2,3],[4,5,6],[7,8,9]]\n",
        "my_matrix"
      ]
    },
    {
      "cell_type": "code",
      "execution_count": null,
      "id": "e1f42cb0",
      "metadata": {
        "id": "e1f42cb0",
        "outputId": "772578c5-26c8-4da8-b91f-651e5951f3ed"
      },
      "outputs": [
        {
          "data": {
            "text/plain": [
              "array([[1, 2, 3],\n",
              "       [4, 5, 6],\n",
              "       [7, 8, 9]])"
            ]
          },
          "execution_count": 7,
          "metadata": {},
          "output_type": "execute_result"
        }
      ],
      "source": [
        "# Initalise the array with the list of lists.\n",
        "np.array(my_matrix)"
      ]
    },
    {
      "cell_type": "code",
      "execution_count": null,
      "id": "816bb911",
      "metadata": {
        "id": "816bb911",
        "outputId": "9cfba50a-6a44-417b-ce76-d0fe348d8057"
      },
      "outputs": [
        {
          "data": {
            "text/plain": [
              "array([100, 101, 102, 103, 104, 105, 106, 107, 108, 109])"
            ]
          },
          "execution_count": 8,
          "metadata": {},
          "output_type": "execute_result"
        }
      ],
      "source": [
        "# Note the end item is excluded.\n",
        "np.arange(100,110)"
      ]
    },
    {
      "cell_type": "code",
      "execution_count": null,
      "id": "4ec554eb",
      "metadata": {
        "id": "4ec554eb",
        "outputId": "de9e37b2-8543-4db6-91dd-17acc5adbba9"
      },
      "outputs": [
        {
          "data": {
            "text/plain": [
              "array([20, 18, 16, 14, 12, 10,  8,  6,  4,  2])"
            ]
          },
          "execution_count": 9,
          "metadata": {},
          "output_type": "execute_result"
        }
      ],
      "source": [
        "# Using negative step factor gives a decreasing sequence.\n",
        "np.arange(20,1,-2)"
      ]
    },
    {
      "cell_type": "code",
      "execution_count": null,
      "id": "560216d0",
      "metadata": {
        "id": "560216d0",
        "outputId": "264baa8e-a491-4d3e-c990-68ad056748b9"
      },
      "outputs": [
        {
          "data": {
            "text/plain": [
              "array([0., 0., 0., 0., 0., 0., 0., 0., 0., 0.])"
            ]
          },
          "execution_count": 10,
          "metadata": {},
          "output_type": "execute_result"
        }
      ],
      "source": [
        "# Generate 1-d array of zeros\n",
        "np.zeros(10)"
      ]
    },
    {
      "cell_type": "code",
      "execution_count": null,
      "id": "1fa44ad2",
      "metadata": {
        "id": "1fa44ad2",
        "outputId": "dc668c5f-a501-4bef-f643-572bd5350070"
      },
      "outputs": [
        {
          "data": {
            "text/plain": [
              "array([[0., 0., 0.],\n",
              "       [0., 0., 0.],\n",
              "       [0., 0., 0.]])"
            ]
          },
          "execution_count": 11,
          "metadata": {},
          "output_type": "execute_result"
        }
      ],
      "source": [
        "# A 2-d array of zeros\n",
        "np.zeros((3,3))"
      ]
    },
    {
      "cell_type": "code",
      "execution_count": null,
      "id": "a240194e",
      "metadata": {
        "id": "a240194e",
        "outputId": "b7c99e24-4889-4a60-90d2-465a56c9cfaa"
      },
      "outputs": [
        {
          "data": {
            "text/plain": [
              "array([1., 1., 1., 1., 1.])"
            ]
          },
          "execution_count": 12,
          "metadata": {},
          "output_type": "execute_result"
        }
      ],
      "source": [
        "# Generate the 1-d array of ones.\n",
        "np.ones(5)"
      ]
    },
    {
      "cell_type": "code",
      "execution_count": null,
      "id": "7213490d",
      "metadata": {
        "id": "7213490d",
        "outputId": "76f5d2ad-a204-4288-ba1b-946c9ed9907a"
      },
      "outputs": [
        {
          "data": {
            "text/plain": [
              "array([[1., 1., 1.],\n",
              "       [1., 1., 1.],\n",
              "       [1., 1., 1.],\n",
              "       [1., 1., 1.],\n",
              "       [1., 1., 1.]])"
            ]
          },
          "execution_count": 13,
          "metadata": {},
          "output_type": "execute_result"
        }
      ],
      "source": [
        "# 2-d array of ones.\n",
        "np.ones((5,3))"
      ]
    },
    {
      "cell_type": "code",
      "execution_count": null,
      "id": "8b3764d5",
      "metadata": {
        "id": "8b3764d5",
        "outputId": "233ed9fa-ac7e-4a4e-8310-87f471d1ad4a"
      },
      "outputs": [
        {
          "data": {
            "text/plain": [
              "array([ 10.,  20.,  30.,  40.,  50.,  60.,  70.,  80.,  90., 100.])"
            ]
          },
          "execution_count": 14,
          "metadata": {},
          "output_type": "execute_result"
        }
      ],
      "source": [
        "# Generate ten elements between 0 and 100\n",
        "np.linspace(10,100,10)"
      ]
    },
    {
      "cell_type": "code",
      "execution_count": null,
      "id": "1a3baea7",
      "metadata": {
        "id": "1a3baea7",
        "outputId": "a0b82b6d-7c3f-4913-f2c3-56df5df9e9b7"
      },
      "outputs": [
        {
          "data": {
            "text/plain": [
              "array([ 0.        ,  0.20408163,  0.40816327,  0.6122449 ,  0.81632653,\n",
              "        1.02040816,  1.2244898 ,  1.42857143,  1.63265306,  1.83673469,\n",
              "        2.04081633,  2.24489796,  2.44897959,  2.65306122,  2.85714286,\n",
              "        3.06122449,  3.26530612,  3.46938776,  3.67346939,  3.87755102,\n",
              "        4.08163265,  4.28571429,  4.48979592,  4.69387755,  4.89795918,\n",
              "        5.10204082,  5.30612245,  5.51020408,  5.71428571,  5.91836735,\n",
              "        6.12244898,  6.32653061,  6.53061224,  6.73469388,  6.93877551,\n",
              "        7.14285714,  7.34693878,  7.55102041,  7.75510204,  7.95918367,\n",
              "        8.16326531,  8.36734694,  8.57142857,  8.7755102 ,  8.97959184,\n",
              "        9.18367347,  9.3877551 ,  9.59183673,  9.79591837, 10.        ])"
            ]
          },
          "execution_count": 15,
          "metadata": {},
          "output_type": "execute_result"
        }
      ],
      "source": [
        "# Method can be used to generate finer granular sequence\n",
        "np.linspace(0,10,50)"
      ]
    },
    {
      "cell_type": "code",
      "execution_count": null,
      "id": "1eece9a0",
      "metadata": {
        "id": "1eece9a0",
        "outputId": "a8e9e51d-dceb-48a2-fb07-b776f2a98914"
      },
      "outputs": [
        {
          "data": {
            "text/plain": [
              "array([[1., 0., 0.],\n",
              "       [0., 1., 0.],\n",
              "       [0., 0., 1.]])"
            ]
          },
          "execution_count": 16,
          "metadata": {},
          "output_type": "execute_result"
        }
      ],
      "source": [
        "# Create a Identity matrix of size 3X3\n",
        "np.eye(3)"
      ]
    },
    {
      "cell_type": "code",
      "execution_count": null,
      "id": "3a13b2ef",
      "metadata": {
        "id": "3a13b2ef",
        "outputId": "e3ff379e-9248-4174-8689-4ce4bdebc663"
      },
      "outputs": [
        {
          "data": {
            "text/plain": [
              "array([0.0731552 , 0.69598293, 0.60611053, 0.53666673, 0.72866187])"
            ]
          },
          "execution_count": 17,
          "metadata": {},
          "output_type": "execute_result"
        }
      ],
      "source": [
        "# Generate a random number array from uniform distribution in the interval [0,1].\n",
        "np.random.rand(5)"
      ]
    },
    {
      "cell_type": "code",
      "execution_count": null,
      "id": "8e310933",
      "metadata": {
        "id": "8e310933",
        "outputId": "40754c8c-edce-42d5-9dd3-1a877496333a"
      },
      "outputs": [
        {
          "data": {
            "text/plain": [
              "array([[0.66937586, 0.03978199, 0.8360727 , 0.48342275, 0.88405642],\n",
              "       [0.60302979, 0.24611467, 0.91390779, 0.4993939 , 0.8617712 ],\n",
              "       [0.88844509, 0.15871527, 0.67286544, 0.65613974, 0.17915326],\n",
              "       [0.37895443, 0.07724579, 0.46544209, 0.28358995, 0.83338673],\n",
              "       [0.49775974, 0.88999047, 0.4954952 , 0.41143846, 0.46744953]])"
            ]
          },
          "execution_count": 18,
          "metadata": {},
          "output_type": "execute_result"
        }
      ],
      "source": [
        "# Generate a 2-d array of random numbers\n",
        "np.random.rand(5,5)"
      ]
    },
    {
      "cell_type": "code",
      "execution_count": null,
      "id": "0b5e14c4",
      "metadata": {
        "id": "0b5e14c4",
        "outputId": "7b40a479-db57-4e6d-e3e9-61e6d487dfbf"
      },
      "outputs": [
        {
          "data": {
            "text/plain": [
              "array([0.69804738, 0.05828051, 0.5300142 , 3.21067839])"
            ]
          },
          "execution_count": 19,
          "metadata": {},
          "output_type": "execute_result"
        }
      ],
      "source": [
        "# Generates a 1-d random sequence from normal distribution.\n",
        "np.random.randn(4)"
      ]
    },
    {
      "cell_type": "code",
      "execution_count": null,
      "id": "b3da90f3",
      "metadata": {
        "id": "b3da90f3",
        "outputId": "84969c81-f024-43ad-9140-fe3f2bf5c6a9"
      },
      "outputs": [
        {
          "data": {
            "text/plain": [
              "array([[-1.10877657,  0.92046652, -0.39017978, -1.32952024,  0.87992697],\n",
              "       [ 1.42723675,  0.73646703,  1.0190623 , -1.20631558,  0.30227932],\n",
              "       [ 0.06847157,  1.40331149, -0.45962369,  1.52641378, -0.07122538],\n",
              "       [ 1.84890838,  1.51953051, -0.35991742,  2.13844903,  0.27621238],\n",
              "       [-1.16895391, -0.88207311, -0.23688812, -0.70399737, -2.07001873]])"
            ]
          },
          "execution_count": 20,
          "metadata": {},
          "output_type": "execute_result"
        }
      ],
      "source": [
        "# Generates a 2-d random array from a normal distribution.\n",
        "np.random.randn(5,5)"
      ]
    },
    {
      "cell_type": "code",
      "execution_count": null,
      "id": "c7933f0a",
      "metadata": {
        "id": "c7933f0a",
        "outputId": "9f9e6302-98d0-477e-b747-37a5b29f5c1d"
      },
      "outputs": [
        {
          "data": {
            "text/plain": [
              "72"
            ]
          },
          "execution_count": 21,
          "metadata": {},
          "output_type": "execute_result"
        }
      ],
      "source": [
        "# Generate a single random integer between 1 and 100.\n",
        "np.random.randint(1,100)"
      ]
    },
    {
      "cell_type": "code",
      "execution_count": null,
      "id": "46816217",
      "metadata": {
        "id": "46816217",
        "outputId": "6085bc8a-ede2-4eff-e8f1-5cc88a77cec2"
      },
      "outputs": [
        {
          "data": {
            "text/plain": [
              "array([81, 95, 39, 68, 53, 42, 52, 20, 71, 25])"
            ]
          },
          "execution_count": 22,
          "metadata": {},
          "output_type": "execute_result"
        }
      ],
      "source": [
        "# Generate a sequence of random numbers between 1 and 100\n",
        "np.random.randint(1,100,10)"
      ]
    },
    {
      "cell_type": "code",
      "execution_count": null,
      "id": "04df5984",
      "metadata": {
        "id": "04df5984",
        "outputId": "782c2c9b-405a-428f-982b-ebd16082439a"
      },
      "outputs": [
        {
          "data": {
            "text/plain": [
              "array([0., 0., 0., 0., 0., 0., 0., 0., 0., 0.])"
            ]
          },
          "execution_count": 23,
          "metadata": {},
          "output_type": "execute_result"
        }
      ],
      "source": [
        "# Create an array of 10 zeros\n",
        "np.zeros(10)"
      ]
    },
    {
      "cell_type": "code",
      "execution_count": null,
      "id": "7543d71e",
      "metadata": {
        "id": "7543d71e",
        "outputId": "d0544c25-23c7-4b37-8e0b-aae3c0aec669"
      },
      "outputs": [
        {
          "data": {
            "text/plain": [
              "array([1., 1., 1., 1., 1., 1., 1., 1., 1., 1.])"
            ]
          },
          "execution_count": 24,
          "metadata": {},
          "output_type": "execute_result"
        }
      ],
      "source": [
        "# Create an array of 10 ones \n",
        "np.ones(10)"
      ]
    },
    {
      "cell_type": "code",
      "execution_count": null,
      "id": "150f0480",
      "metadata": {
        "id": "150f0480",
        "outputId": "62d86a81-de57-4024-9084-4d1ae56e8d28"
      },
      "outputs": [
        {
          "data": {
            "text/plain": [
              "array([5., 5., 5., 5., 5., 5., 5., 5., 5., 5.])"
            ]
          },
          "execution_count": 3,
          "metadata": {},
          "output_type": "execute_result"
        }
      ],
      "source": [
        "# Create an array of 10 fives\n",
        "np.ones(10)*5"
      ]
    },
    {
      "cell_type": "code",
      "execution_count": null,
      "id": "d01251aa",
      "metadata": {
        "id": "d01251aa",
        "outputId": "21d7fe1e-1833-4aa5-e270-4779a7c675d5"
      },
      "outputs": [
        {
          "data": {
            "text/plain": [
              "array([10, 11, 12, 13, 14, 15, 16, 17, 18, 19, 20, 21, 22, 23, 24, 25, 26,\n",
              "       27, 28, 29, 30, 31, 32, 33, 34, 35, 36, 37, 38, 39, 40, 41, 42, 43,\n",
              "       44, 45, 46, 47, 48, 49, 50])"
            ]
          },
          "execution_count": 25,
          "metadata": {},
          "output_type": "execute_result"
        }
      ],
      "source": [
        "# Create an array of the integers from 10 to 50\n",
        "np.arange(10,51)"
      ]
    },
    {
      "cell_type": "code",
      "execution_count": null,
      "id": "14044b95",
      "metadata": {
        "id": "14044b95",
        "outputId": "a4052760-216e-48cd-9d84-0abb657a30f5"
      },
      "outputs": [
        {
          "data": {
            "text/plain": [
              "array([10., 12., 14., 16., 18., 20., 22., 24., 26., 28., 30., 32., 34.,\n",
              "       36., 38., 40., 42., 44., 46., 48., 50.])"
            ]
          },
          "execution_count": 28,
          "metadata": {},
          "output_type": "execute_result"
        }
      ],
      "source": [
        "# Create an array of all the even integers from 10 to 50\n",
        "np.linspace(10,50,21)"
      ]
    },
    {
      "cell_type": "code",
      "execution_count": null,
      "id": "64cf8942",
      "metadata": {
        "id": "64cf8942",
        "outputId": "96c68963-e684-4e71-85e6-3afbdeebc25e"
      },
      "outputs": [
        {
          "data": {
            "text/plain": [
              "array([[0, 1, 2],\n",
              "       [3, 4, 5],\n",
              "       [6, 7, 8]])"
            ]
          },
          "execution_count": 5,
          "metadata": {},
          "output_type": "execute_result"
        }
      ],
      "source": [
        "# Create a 3x3 matrix with values ranging from 0 to 8\n",
        "np.arange(0,9).reshape(3,3)"
      ]
    },
    {
      "cell_type": "code",
      "execution_count": null,
      "id": "3487afc1",
      "metadata": {
        "id": "3487afc1",
        "outputId": "b019c7bc-e5fb-4726-b6d0-671afe0a6bb4"
      },
      "outputs": [
        {
          "data": {
            "text/plain": [
              "array([[1., 0., 0.],\n",
              "       [0., 1., 0.],\n",
              "       [0., 0., 1.]])"
            ]
          },
          "execution_count": 4,
          "metadata": {},
          "output_type": "execute_result"
        }
      ],
      "source": [
        "# Create a 3x3 identity matrix\n",
        "np.eye(3)"
      ]
    },
    {
      "cell_type": "code",
      "execution_count": null,
      "id": "bb62d90a",
      "metadata": {
        "id": "bb62d90a"
      },
      "outputs": [],
      "source": [
        ""
      ]
    }
  ],
  "metadata": {
    "kernelspec": {
      "display_name": "Python 3 (ipykernel)",
      "language": "python",
      "name": "python3"
    },
    "language_info": {
      "codemirror_mode": {
        "name": "ipython",
        "version": 3
      },
      "file_extension": ".py",
      "mimetype": "text/x-python",
      "name": "python",
      "nbconvert_exporter": "python",
      "pygments_lexer": "ipython3",
      "version": "3.9.7"
    },
    "colab": {
      "name": "Numpy_ARU.ipynb",
      "provenance": [],
      "include_colab_link": true
    }
  },
  "nbformat": 4,
  "nbformat_minor": 5
}