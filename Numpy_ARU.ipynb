{
  "cells": [
    {
      "cell_type": "markdown",
      "metadata": {
        "id": "view-in-github",
        "colab_type": "text"
      },
      "source": [
        "<a href=\"https://colab.research.google.com/github/TBKHori/A.I_ARU/blob/main/Numpy_ARU.ipynb\" target=\"_parent\"><img src=\"https://colab.research.google.com/assets/colab-badge.svg\" alt=\"Open In Colab\"/></a>"
      ]
    },
    {
      "cell_type": "code",
      "execution_count": null,
      "id": "876097de",
      "metadata": {
        "id": "876097de"
      },
      "outputs": [],
      "source": [
        "import numpy as np"
      ]
    },
    {
      "cell_type": "code",
      "execution_count": null,
      "id": "bce1f302",
      "metadata": {
        "id": "bce1f302",
        "outputId": "9c197252-690c-4c71-c0b7-b2cffe6c9653"
      },
      "outputs": [
        {
          "data": {
            "text/plain": [
              "[100, 300, 500, 700, 900]"
            ]
          },
          "execution_count": 2,
          "metadata": {},
          "output_type": "execute_result"
        }
      ],
      "source": [
        "#Create a list.\n",
        "my_list = [100, 300, 500, 700, 900]\n",
        "my_list"
      ]
    },
    {
      "cell_type": "code",
      "execution_count": null,
      "id": "3722329b",
      "metadata": {
        "id": "3722329b",
        "outputId": "44b5933d-7b60-47be-8e89-126e705ef39f"
      },
      "outputs": [
        {
          "data": {
            "text/plain": [
              "array([100, 300, 500, 700, 900])"
            ]
          },
          "execution_count": 3,
          "metadata": {},
          "output_type": "execute_result"
        }
      ],
      "source": [
        "#Use the list to initialise a numpy array.\n",
        "np.array(my_list)"
      ]
    },
    {
      "cell_type": "code",
      "execution_count": null,
      "id": "998133f1",
      "metadata": {
        "id": "998133f1",
        "outputId": "ceef179f-7951-412e-898f-a846cd293b82"
      },
      "outputs": [
        {
          "data": {
            "text/plain": [
              "[[1, 2, 3], [4, 5, 6], [7, 8, 9]]"
            ]
          },
          "execution_count": 4,
          "metadata": {},
          "output_type": "execute_result"
        }
      ],
      "source": [
        "# Create a list of lists\n",
        "my_matrix = [[1,2,3],[4,5,6],[7,8,9]]\n",
        "my_matrix"
      ]
    },
    {
      "cell_type": "code",
      "execution_count": null,
      "id": "e1f42cb0",
      "metadata": {
        "id": "e1f42cb0",
        "outputId": "7eb7366e-b3ae-4727-d295-71252dbc6167"
      },
      "outputs": [
        {
          "data": {
            "text/plain": [
              "array([[1, 2, 3],\n",
              "       [4, 5, 6],\n",
              "       [7, 8, 9]])"
            ]
          },
          "execution_count": 5,
          "metadata": {},
          "output_type": "execute_result"
        }
      ],
      "source": [
        "# Initalise the array with the list of lists.\n",
        "np.array(my_matrix)"
      ]
    },
    {
      "cell_type": "code",
      "execution_count": null,
      "id": "816bb911",
      "metadata": {
        "id": "816bb911",
        "outputId": "adeeaa13-c76e-4c61-8649-e08fa5c442e6"
      },
      "outputs": [
        {
          "data": {
            "text/plain": [
              "array([100, 101, 102, 103, 104, 105, 106, 107, 108, 109])"
            ]
          },
          "execution_count": 6,
          "metadata": {},
          "output_type": "execute_result"
        }
      ],
      "source": [
        "# Note the end item is excluded.\n",
        "np.arange(100,110)"
      ]
    },
    {
      "cell_type": "code",
      "execution_count": null,
      "id": "4ec554eb",
      "metadata": {
        "id": "4ec554eb",
        "outputId": "6e9576ea-9c3f-4cb9-a9a7-343038619af3"
      },
      "outputs": [
        {
          "data": {
            "text/plain": [
              "array([20, 18, 16, 14, 12, 10,  8,  6,  4,  2])"
            ]
          },
          "execution_count": 7,
          "metadata": {},
          "output_type": "execute_result"
        }
      ],
      "source": [
        "# Using negative step factor gives a decreasing sequence.\n",
        "np.arange(20,1,-2)"
      ]
    },
    {
      "cell_type": "code",
      "execution_count": null,
      "id": "560216d0",
      "metadata": {
        "id": "560216d0",
        "outputId": "8c9b7c0f-5539-4d95-8c8b-c1976379710c"
      },
      "outputs": [
        {
          "data": {
            "text/plain": [
              "array([0., 0., 0., 0., 0., 0., 0., 0., 0., 0.])"
            ]
          },
          "execution_count": 8,
          "metadata": {},
          "output_type": "execute_result"
        }
      ],
      "source": [
        "# Generate 1-d array of zeros\n",
        "np.zeros(10)"
      ]
    },
    {
      "cell_type": "code",
      "execution_count": null,
      "id": "1fa44ad2",
      "metadata": {
        "id": "1fa44ad2",
        "outputId": "e92fb7bc-8345-4a83-a777-7ede4144a0b0"
      },
      "outputs": [
        {
          "data": {
            "text/plain": [
              "array([[0., 0., 0.],\n",
              "       [0., 0., 0.],\n",
              "       [0., 0., 0.]])"
            ]
          },
          "execution_count": 9,
          "metadata": {},
          "output_type": "execute_result"
        }
      ],
      "source": [
        "# A 2-d array of zeros\n",
        "np.zeros((3,3))"
      ]
    },
    {
      "cell_type": "code",
      "execution_count": null,
      "id": "a240194e",
      "metadata": {
        "id": "a240194e",
        "outputId": "e1f49872-4928-422d-a288-c06d5455c189"
      },
      "outputs": [
        {
          "data": {
            "text/plain": [
              "array([1., 1., 1., 1., 1.])"
            ]
          },
          "execution_count": 10,
          "metadata": {},
          "output_type": "execute_result"
        }
      ],
      "source": [
        "# Generate the 1-d array of ones.\n",
        "np.ones(5)"
      ]
    },
    {
      "cell_type": "code",
      "execution_count": null,
      "id": "7213490d",
      "metadata": {
        "id": "7213490d",
        "outputId": "e4382c75-fb45-4ec1-cbe4-c4197849d215"
      },
      "outputs": [
        {
          "data": {
            "text/plain": [
              "array([[1., 1., 1.],\n",
              "       [1., 1., 1.],\n",
              "       [1., 1., 1.],\n",
              "       [1., 1., 1.],\n",
              "       [1., 1., 1.]])"
            ]
          },
          "execution_count": 11,
          "metadata": {},
          "output_type": "execute_result"
        }
      ],
      "source": [
        "# 2-d array of ones.\n",
        "np.ones((5,3))"
      ]
    },
    {
      "cell_type": "code",
      "execution_count": null,
      "id": "8b3764d5",
      "metadata": {
        "id": "8b3764d5",
        "outputId": "864eb650-d4c2-4c95-bcb3-016711be92f3"
      },
      "outputs": [
        {
          "data": {
            "text/plain": [
              "array([ 10.,  20.,  30.,  40.,  50.,  60.,  70.,  80.,  90., 100.])"
            ]
          },
          "execution_count": 12,
          "metadata": {},
          "output_type": "execute_result"
        }
      ],
      "source": [
        "# Generate ten elements between 0 and 100\n",
        "np.linspace(10,100,10)"
      ]
    },
    {
      "cell_type": "code",
      "execution_count": null,
      "id": "1a3baea7",
      "metadata": {
        "id": "1a3baea7",
        "outputId": "9d879087-21d5-4dc0-b814-64b3b975247c"
      },
      "outputs": [
        {
          "data": {
            "text/plain": [
              "array([ 0.        ,  0.20408163,  0.40816327,  0.6122449 ,  0.81632653,\n",
              "        1.02040816,  1.2244898 ,  1.42857143,  1.63265306,  1.83673469,\n",
              "        2.04081633,  2.24489796,  2.44897959,  2.65306122,  2.85714286,\n",
              "        3.06122449,  3.26530612,  3.46938776,  3.67346939,  3.87755102,\n",
              "        4.08163265,  4.28571429,  4.48979592,  4.69387755,  4.89795918,\n",
              "        5.10204082,  5.30612245,  5.51020408,  5.71428571,  5.91836735,\n",
              "        6.12244898,  6.32653061,  6.53061224,  6.73469388,  6.93877551,\n",
              "        7.14285714,  7.34693878,  7.55102041,  7.75510204,  7.95918367,\n",
              "        8.16326531,  8.36734694,  8.57142857,  8.7755102 ,  8.97959184,\n",
              "        9.18367347,  9.3877551 ,  9.59183673,  9.79591837, 10.        ])"
            ]
          },
          "execution_count": 13,
          "metadata": {},
          "output_type": "execute_result"
        }
      ],
      "source": [
        "# Method can be used to generate finer granular sequence\n",
        "np.linspace(0,10,50)"
      ]
    },
    {
      "cell_type": "code",
      "execution_count": null,
      "id": "1eece9a0",
      "metadata": {
        "id": "1eece9a0",
        "outputId": "770de890-b846-49c4-8a53-d6dd077adf44"
      },
      "outputs": [
        {
          "data": {
            "text/plain": [
              "array([[1., 0., 0.],\n",
              "       [0., 1., 0.],\n",
              "       [0., 0., 1.]])"
            ]
          },
          "execution_count": 14,
          "metadata": {},
          "output_type": "execute_result"
        }
      ],
      "source": [
        "# Create a Identity matrix of size 3X3\n",
        "np.eye(3)"
      ]
    },
    {
      "cell_type": "code",
      "execution_count": null,
      "id": "3a13b2ef",
      "metadata": {
        "id": "3a13b2ef",
        "outputId": "ec867840-be91-4f2d-d48e-715d7cbb654d"
      },
      "outputs": [
        {
          "data": {
            "text/plain": [
              "array([0.60034029, 0.78757595, 0.99077197, 0.29957109, 0.64498766])"
            ]
          },
          "execution_count": 15,
          "metadata": {},
          "output_type": "execute_result"
        }
      ],
      "source": [
        "# Generate a random number array from uniform distribution in the interval [0,1].\n",
        "np.random.rand(5)"
      ]
    },
    {
      "cell_type": "code",
      "execution_count": null,
      "id": "8e310933",
      "metadata": {
        "id": "8e310933",
        "outputId": "c94caa44-3483-4add-b8d7-679fe2878e1b"
      },
      "outputs": [
        {
          "data": {
            "text/plain": [
              "array([[0.80070826, 0.50759951, 0.07880834, 0.04626064, 0.29767485],\n",
              "       [0.87194865, 0.78668403, 0.38736747, 0.83278865, 0.77443224],\n",
              "       [0.59935455, 0.64870942, 0.81343216, 0.42715014, 0.45652615],\n",
              "       [0.40140181, 0.18428928, 0.66569976, 0.42208414, 0.23836299],\n",
              "       [0.88796412, 0.72734422, 0.536889  , 0.39149243, 0.37045029]])"
            ]
          },
          "execution_count": 16,
          "metadata": {},
          "output_type": "execute_result"
        }
      ],
      "source": [
        "# Generate a 2-d array of random numbers\n",
        "np.random.rand(5,5)"
      ]
    },
    {
      "cell_type": "code",
      "execution_count": null,
      "id": "0b5e14c4",
      "metadata": {
        "id": "0b5e14c4",
        "outputId": "34baea99-0949-4985-ec21-c882a0050aef"
      },
      "outputs": [
        {
          "data": {
            "text/plain": [
              "array([-1.65684083,  0.22148728, -0.69497513, -0.64037362])"
            ]
          },
          "execution_count": 17,
          "metadata": {},
          "output_type": "execute_result"
        }
      ],
      "source": [
        "# Generates a 1-d random sequence from normal distribution.\n",
        "np.random.randn(4)"
      ]
    },
    {
      "cell_type": "code",
      "execution_count": null,
      "id": "b3da90f3",
      "metadata": {
        "id": "b3da90f3",
        "outputId": "4ad96b1f-44ba-4a3a-e12f-23908ed73faf"
      },
      "outputs": [
        {
          "data": {
            "text/plain": [
              "array([[-0.5321638 ,  0.75946781, -0.26945333,  0.86988224, -0.57414168],\n",
              "       [-0.23350019, -0.11871592,  1.38214921,  0.48150946,  0.6837168 ],\n",
              "       [-0.68990744, -0.1418589 ,  1.57225124, -0.965022  , -1.7947508 ],\n",
              "       [ 0.17530616, -0.32862247, -2.61191422, -0.55486066,  0.73441192],\n",
              "       [-0.48016481, -0.08641361,  0.78571619,  1.7505612 ,  0.55119728]])"
            ]
          },
          "execution_count": 18,
          "metadata": {},
          "output_type": "execute_result"
        }
      ],
      "source": [
        "# Generates a 2-d random array from a normal distribution.\n",
        "np.random.randn(5,5)"
      ]
    },
    {
      "cell_type": "code",
      "execution_count": null,
      "id": "c7933f0a",
      "metadata": {
        "id": "c7933f0a",
        "outputId": "e8d306ed-8998-4a6d-f2e4-9ed35da6dee4"
      },
      "outputs": [
        {
          "data": {
            "text/plain": [
              "83"
            ]
          },
          "execution_count": 19,
          "metadata": {},
          "output_type": "execute_result"
        }
      ],
      "source": [
        "# Generate a single random integer between 1 and 100.\n",
        "np.random.randint(1,100)"
      ]
    },
    {
      "cell_type": "code",
      "execution_count": null,
      "id": "46816217",
      "metadata": {
        "id": "46816217",
        "outputId": "89b47f88-5731-4e26-e94a-25aa6c484bb6"
      },
      "outputs": [
        {
          "data": {
            "text/plain": [
              "array([83, 89, 35, 18, 66, 25, 60, 64, 14, 13])"
            ]
          },
          "execution_count": 20,
          "metadata": {},
          "output_type": "execute_result"
        }
      ],
      "source": [
        "# Generate a sequence of random numbers between 1 and 100\n",
        "np.random.randint(1,100,10)"
      ]
    },
    {
      "cell_type": "code",
      "execution_count": null,
      "id": "04df5984",
      "metadata": {
        "id": "04df5984",
        "outputId": "aa47c544-0afd-4276-c37f-89c630504ed9"
      },
      "outputs": [
        {
          "data": {
            "text/plain": [
              "array([0., 0., 0., 0., 0., 0., 0., 0., 0., 0.])"
            ]
          },
          "execution_count": 21,
          "metadata": {},
          "output_type": "execute_result"
        }
      ],
      "source": [
        "# Create an array of 10 zeros\n",
        "np.zeros(10)"
      ]
    },
    {
      "cell_type": "code",
      "execution_count": null,
      "id": "7543d71e",
      "metadata": {
        "id": "7543d71e",
        "outputId": "3b17a554-b89c-4c83-a173-ef7a09735079"
      },
      "outputs": [
        {
          "data": {
            "text/plain": [
              "array([1., 1., 1., 1., 1., 1., 1., 1., 1., 1.])"
            ]
          },
          "execution_count": 22,
          "metadata": {},
          "output_type": "execute_result"
        }
      ],
      "source": [
        "# Create an array of 10 ones \n",
        "np.ones(10)"
      ]
    },
    {
      "cell_type": "code",
      "execution_count": null,
      "id": "150f0480",
      "metadata": {
        "id": "150f0480",
        "outputId": "dc2f0e5d-8853-4ff5-f8f2-27949456cfca"
      },
      "outputs": [
        {
          "data": {
            "text/plain": [
              "array([5., 5., 5., 5., 5., 5., 5., 5., 5., 5.])"
            ]
          },
          "execution_count": 23,
          "metadata": {},
          "output_type": "execute_result"
        }
      ],
      "source": [
        "# Create an array of 10 fives\n",
        "np.ones(10)*5"
      ]
    },
    {
      "cell_type": "code",
      "execution_count": null,
      "id": "d01251aa",
      "metadata": {
        "id": "d01251aa",
        "outputId": "8645301d-2458-41c7-e522-2214a1947cc7"
      },
      "outputs": [
        {
          "data": {
            "text/plain": [
              "array([10, 11, 12, 13, 14, 15, 16, 17, 18, 19, 20, 21, 22, 23, 24, 25, 26,\n",
              "       27, 28, 29, 30, 31, 32, 33, 34, 35, 36, 37, 38, 39, 40, 41, 42, 43,\n",
              "       44, 45, 46, 47, 48, 49, 50])"
            ]
          },
          "execution_count": 24,
          "metadata": {},
          "output_type": "execute_result"
        }
      ],
      "source": [
        "# Create an array of the integers from 10 to 50\n",
        "np.arange(10,51)"
      ]
    },
    {
      "cell_type": "code",
      "execution_count": null,
      "id": "14044b95",
      "metadata": {
        "id": "14044b95",
        "outputId": "62b0f60b-fb46-49e6-b0bf-4df1a9181e96"
      },
      "outputs": [
        {
          "data": {
            "text/plain": [
              "array([10., 12., 14., 16., 18., 20., 22., 24., 26., 28., 30., 32., 34.,\n",
              "       36., 38., 40., 42., 44., 46., 48., 50.])"
            ]
          },
          "execution_count": 25,
          "metadata": {},
          "output_type": "execute_result"
        }
      ],
      "source": [
        "# Create an array of all the even integers from 10 to 50\n",
        "np.linspace(10,50,21)"
      ]
    },
    {
      "cell_type": "code",
      "execution_count": null,
      "id": "64cf8942",
      "metadata": {
        "id": "64cf8942",
        "outputId": "4de6a209-f056-4ef5-b934-3000d86e1a60"
      },
      "outputs": [
        {
          "data": {
            "text/plain": [
              "array([[0, 1, 2],\n",
              "       [3, 4, 5],\n",
              "       [6, 7, 8]])"
            ]
          },
          "execution_count": 26,
          "metadata": {},
          "output_type": "execute_result"
        }
      ],
      "source": [
        "# Create a 3x3 matrix with values ranging from 0 to 8\n",
        "np.arange(0,9).reshape(3,3)"
      ]
    },
    {
      "cell_type": "code",
      "execution_count": null,
      "id": "3487afc1",
      "metadata": {
        "id": "3487afc1",
        "outputId": "f0d8903f-23cc-4f3c-a552-a09ef842b9af"
      },
      "outputs": [
        {
          "data": {
            "text/plain": [
              "array([[1., 0., 0.],\n",
              "       [0., 1., 0.],\n",
              "       [0., 0., 1.]])"
            ]
          },
          "execution_count": 27,
          "metadata": {},
          "output_type": "execute_result"
        }
      ],
      "source": [
        "# Create a 3x3 identity matrix\n",
        "np.eye(3)"
      ]
    },
    {
      "cell_type": "code",
      "execution_count": null,
      "id": "bb62d90a",
      "metadata": {
        "id": "bb62d90a",
        "outputId": "a4561ae2-0a10-4d77-cf1b-d234f389b48e"
      },
      "outputs": [
        {
          "data": {
            "text/plain": [
              "array([[0.23332347]])"
            ]
          },
          "execution_count": 28,
          "metadata": {},
          "output_type": "execute_result"
        }
      ],
      "source": [
        "# Use NumPy to generate a random number between 0 and 1\n",
        "np.random.rand(1, 1)"
      ]
    },
    {
      "cell_type": "code",
      "execution_count": null,
      "id": "2791aba8",
      "metadata": {
        "id": "2791aba8",
        "outputId": "7eea5c71-74e0-4a74-bf6e-76cdf0641b32"
      },
      "outputs": [
        {
          "data": {
            "text/plain": [
              "array([[ 0.82292461, -0.84303943, -0.49741947, -0.16905906, -0.13286078],\n",
              "       [-1.27034867, -2.00465487, -1.53916325,  0.89917848, -0.98744382],\n",
              "       [ 0.36734675,  0.38020323, -0.92993329,  1.63443751, -0.75530862],\n",
              "       [-0.36568596, -0.47689899,  0.03951631,  1.34131006, -0.19801327],\n",
              "       [-1.75993842,  0.18963016,  0.64670766,  0.89575643,  1.61942123]])"
            ]
          },
          "execution_count": 29,
          "metadata": {},
          "output_type": "execute_result"
        }
      ],
      "source": [
        "\"\"\" Use NumPy to generate an array of 25 random numbers sampled from a standard normal dis-\n",
        "tribution \"\"\"\n",
        "np.random.randn(5,5)"
      ]
    },
    {
      "cell_type": "code",
      "execution_count": null,
      "id": "97cb62e5",
      "metadata": {
        "id": "97cb62e5",
        "outputId": "480f5eaf-d388-4382-c1d9-062cf9e5c884"
      },
      "outputs": [
        {
          "data": {
            "text/plain": [
              "array([0.        , 0.01010101, 0.02020202, 0.03030303, 0.04040404,\n",
              "       0.05050505, 0.06060606, 0.07070707, 0.08080808, 0.09090909,\n",
              "       0.1010101 , 0.11111111, 0.12121212, 0.13131313, 0.14141414,\n",
              "       0.15151515, 0.16161616, 0.17171717, 0.18181818, 0.19191919,\n",
              "       0.2020202 , 0.21212121, 0.22222222, 0.23232323, 0.24242424,\n",
              "       0.25252525, 0.26262626, 0.27272727, 0.28282828, 0.29292929,\n",
              "       0.3030303 , 0.31313131, 0.32323232, 0.33333333, 0.34343434,\n",
              "       0.35353535, 0.36363636, 0.37373737, 0.38383838, 0.39393939,\n",
              "       0.4040404 , 0.41414141, 0.42424242, 0.43434343, 0.44444444,\n",
              "       0.45454545, 0.46464646, 0.47474747, 0.48484848, 0.49494949,\n",
              "       0.50505051, 0.51515152, 0.52525253, 0.53535354, 0.54545455,\n",
              "       0.55555556, 0.56565657, 0.57575758, 0.58585859, 0.5959596 ,\n",
              "       0.60606061, 0.61616162, 0.62626263, 0.63636364, 0.64646465,\n",
              "       0.65656566, 0.66666667, 0.67676768, 0.68686869, 0.6969697 ,\n",
              "       0.70707071, 0.71717172, 0.72727273, 0.73737374, 0.74747475,\n",
              "       0.75757576, 0.76767677, 0.77777778, 0.78787879, 0.7979798 ,\n",
              "       0.80808081, 0.81818182, 0.82828283, 0.83838384, 0.84848485,\n",
              "       0.85858586, 0.86868687, 0.87878788, 0.88888889, 0.8989899 ,\n",
              "       0.90909091, 0.91919192, 0.92929293, 0.93939394, 0.94949495,\n",
              "       0.95959596, 0.96969697, 0.97979798, 0.98989899, 1.        ])"
            ]
          },
          "execution_count": 30,
          "metadata": {},
          "output_type": "execute_result"
        }
      ],
      "source": [
        "np.linspace(0, 1, 100)"
      ]
    },
    {
      "cell_type": "code",
      "execution_count": null,
      "id": "91da9e4b",
      "metadata": {
        "id": "91da9e4b",
        "outputId": "0950ba22-f0ce-4f6d-f8d6-cd933216e38d"
      },
      "outputs": [
        {
          "data": {
            "text/plain": [
              "array([0.        , 0.05263158, 0.10526316, 0.15789474, 0.21052632,\n",
              "       0.26315789, 0.31578947, 0.36842105, 0.42105263, 0.47368421,\n",
              "       0.52631579, 0.57894737, 0.63157895, 0.68421053, 0.73684211,\n",
              "       0.78947368, 0.84210526, 0.89473684, 0.94736842, 1.        ])"
            ]
          },
          "execution_count": 31,
          "metadata": {},
          "output_type": "execute_result"
        }
      ],
      "source": [
        "# Create an array of 20 linearly spaced points between 0 and 1:\n",
        "np.linspace(0, 1, 20)"
      ]
    },
    {
      "cell_type": "markdown",
      "id": "e7525872",
      "metadata": {
        "id": "e7525872"
      },
      "source": [
        "NumPy arrays have a set of in-build attributes and methods."
      ]
    },
    {
      "cell_type": "code",
      "execution_count": null,
      "id": "adb2c092",
      "metadata": {
        "id": "adb2c092"
      },
      "outputs": [],
      "source": [
        "# Create two numpy arrays as examples.\n",
        "arr = np.arange(50)\n",
        "ranarr = np.random.randint(0,100,20)"
      ]
    },
    {
      "cell_type": "code",
      "execution_count": null,
      "id": "b0399269",
      "metadata": {
        "id": "b0399269",
        "outputId": "c275d05c-84d5-4e92-d1c0-ca4cfd27a70d"
      },
      "outputs": [
        {
          "data": {
            "text/plain": [
              "array([ 0,  1,  2,  3,  4,  5,  6,  7,  8,  9, 10, 11, 12, 13, 14, 15, 16,\n",
              "       17, 18, 19, 20, 21, 22, 23, 24, 25, 26, 27, 28, 29, 30, 31, 32, 33,\n",
              "       34, 35, 36, 37, 38, 39, 40, 41, 42, 43, 44, 45, 46, 47, 48, 49])"
            ]
          },
          "execution_count": 33,
          "metadata": {},
          "output_type": "execute_result"
        }
      ],
      "source": [
        "# 1-d array - vector\n",
        "arr"
      ]
    },
    {
      "cell_type": "code",
      "execution_count": null,
      "id": "34851739",
      "metadata": {
        "id": "34851739",
        "outputId": "59dbe790-d613-4d9f-e832-5b0afda71ffa"
      },
      "outputs": [
        {
          "data": {
            "text/plain": [
              "array([44, 52, 67, 13, 59, 28, 28, 42, 29, 72, 53, 97, 70, 71, 44, 14, 99,\n",
              "       13, 97, 68])"
            ]
          },
          "execution_count": 34,
          "metadata": {},
          "output_type": "execute_result"
        }
      ],
      "source": [
        "# 1-d array of random numbers\n",
        "ranarr"
      ]
    },
    {
      "cell_type": "markdown",
      "id": "6b79427d",
      "metadata": {
        "id": "6b79427d"
      },
      "source": [
        "The shape (dimensions) of the array can be changed using the reshape() method This returns an\n",
        "array containing the same data with a new shape."
      ]
    },
    {
      "cell_type": "code",
      "execution_count": null,
      "id": "15aa0ab3",
      "metadata": {
        "id": "15aa0ab3",
        "outputId": "89c423d2-e19c-43ae-a33b-d04706c719b7"
      },
      "outputs": [
        {
          "data": {
            "text/plain": [
              "array([[ 0,  1,  2,  3,  4,  5,  6,  7,  8,  9],\n",
              "       [10, 11, 12, 13, 14, 15, 16, 17, 18, 19],\n",
              "       [20, 21, 22, 23, 24, 25, 26, 27, 28, 29],\n",
              "       [30, 31, 32, 33, 34, 35, 36, 37, 38, 39],\n",
              "       [40, 41, 42, 43, 44, 45, 46, 47, 48, 49]])"
            ]
          },
          "execution_count": 35,
          "metadata": {},
          "output_type": "execute_result"
        }
      ],
      "source": [
        " # Convert the 50 element 1-d array into a 2-d array.\n",
        "arr.reshape(5,10)"
      ]
    },
    {
      "cell_type": "markdown",
      "id": "93194313",
      "metadata": {
        "id": "93194313"
      },
      "source": [
        "These are useful methods for finding max or min values. Or to find their index locations using\n",
        "argmin or argmax"
      ]
    },
    {
      "cell_type": "code",
      "execution_count": null,
      "id": "679a52f0",
      "metadata": {
        "id": "679a52f0",
        "outputId": "e4e0307f-2b19-46e6-ee29-f29e82757c86"
      },
      "outputs": [
        {
          "data": {
            "text/plain": [
              "array([44, 52, 67, 13, 59, 28, 28, 42, 29, 72, 53, 97, 70, 71, 44, 14, 99,\n",
              "       13, 97, 68])"
            ]
          },
          "execution_count": 36,
          "metadata": {},
          "output_type": "execute_result"
        }
      ],
      "source": [
        "# The created random array.\n",
        "ranarr"
      ]
    },
    {
      "cell_type": "code",
      "execution_count": null,
      "id": "ac4a3827",
      "metadata": {
        "id": "ac4a3827",
        "outputId": "941eb57e-ccea-4970-d7a7-0a49edef2a08"
      },
      "outputs": [
        {
          "data": {
            "text/plain": [
              "99"
            ]
          },
          "execution_count": 37,
          "metadata": {},
          "output_type": "execute_result"
        }
      ],
      "source": [
        "# Find the max value in the array\n",
        "ranarr.max()"
      ]
    },
    {
      "cell_type": "code",
      "execution_count": null,
      "id": "e4ffae6b",
      "metadata": {
        "id": "e4ffae6b",
        "outputId": "4fb732ef-70f8-4a88-935a-a737c5f07b20"
      },
      "outputs": [
        {
          "data": {
            "text/plain": [
              "16"
            ]
          },
          "execution_count": 38,
          "metadata": {},
          "output_type": "execute_result"
        }
      ],
      "source": [
        " # Find the index of the maximum value\n",
        "ranarr.argmax()"
      ]
    },
    {
      "cell_type": "code",
      "execution_count": null,
      "id": "0a977ec0",
      "metadata": {
        "id": "0a977ec0",
        "outputId": "de3e4ab0-5d24-4700-f7a7-5c0a3b656284"
      },
      "outputs": [
        {
          "data": {
            "text/plain": [
              "13"
            ]
          },
          "execution_count": 39,
          "metadata": {},
          "output_type": "execute_result"
        }
      ],
      "source": [
        "# Find the minimum value in the array\n",
        "ranarr.min()"
      ]
    },
    {
      "cell_type": "code",
      "execution_count": null,
      "id": "51df6290",
      "metadata": {
        "id": "51df6290",
        "outputId": "acd99feb-ca64-416e-e3c9-13116ade35a4"
      },
      "outputs": [
        {
          "data": {
            "text/plain": [
              "3"
            ]
          },
          "execution_count": 40,
          "metadata": {},
          "output_type": "execute_result"
        }
      ],
      "source": [
        "# Find the index of the minimum value\n",
        "ranarr.argmin()"
      ]
    },
    {
      "cell_type": "markdown",
      "id": "86c08106",
      "metadata": {
        "id": "86c08106"
      },
      "source": [
        "As mentioned earlier, numpy array is a grid of values, all of the same type, and is indexed by a\n",
        "tuple of nonnegative integers. The number of dimensions is the rank of the array. The shape of an\n",
        "array is a tuple of integers giving the size of the array along each dimension.\n",
        "The size of a Numpy array can be retrieved using the attribute named “shape”. Please note it\n",
        "is not a method. Attribute does not use “()” when evoked."
      ]
    },
    {
      "cell_type": "code",
      "execution_count": null,
      "id": "161cc9b4",
      "metadata": {
        "id": "161cc9b4",
        "outputId": "bc793552-d5be-4da6-cc3e-54e35c7040c5"
      },
      "outputs": [
        {
          "data": {
            "text/plain": [
              "(50,)"
            ]
          },
          "execution_count": 41,
          "metadata": {},
          "output_type": "execute_result"
        }
      ],
      "source": [
        "# Size of a Vector\n",
        "arr.shape"
      ]
    },
    {
      "cell_type": "code",
      "execution_count": null,
      "id": "2e71ee64",
      "metadata": {
        "id": "2e71ee64",
        "outputId": "5b28bd9d-45ec-4dfa-d4fd-81e7f70bddc0"
      },
      "outputs": [
        {
          "ename": "ValueError",
          "evalue": "cannot reshape array of size 50 into shape (1,25)",
          "output_type": "error",
          "traceback": [
            "\u001b[1;31m---------------------------------------------------------------------------\u001b[0m",
            "\u001b[1;31mValueError\u001b[0m                                Traceback (most recent call last)",
            "\u001b[1;32m~\\AppData\\Local\\Temp/ipykernel_18016/4022911842.py\u001b[0m in \u001b[0;36m<module>\u001b[1;34m\u001b[0m\n\u001b[0;32m      1\u001b[0m \u001b[1;31m# Change it to a 2-d array with 1 column.\u001b[0m\u001b[1;33m\u001b[0m\u001b[1;33m\u001b[0m\u001b[0m\n\u001b[0;32m      2\u001b[0m \u001b[1;31m# # Notice the two sets of brackets for a 2-d array with one row.\u001b[0m\u001b[1;33m\u001b[0m\u001b[1;33m\u001b[0m\u001b[0m\n\u001b[1;32m----> 3\u001b[1;33m \u001b[0marr\u001b[0m\u001b[1;33m.\u001b[0m\u001b[0mreshape\u001b[0m\u001b[1;33m(\u001b[0m\u001b[1;36m1\u001b[0m\u001b[1;33m,\u001b[0m\u001b[1;36m25\u001b[0m\u001b[1;33m)\u001b[0m\u001b[1;33m\u001b[0m\u001b[1;33m\u001b[0m\u001b[0m\n\u001b[0m",
            "\u001b[1;31mValueError\u001b[0m: cannot reshape array of size 50 into shape (1,25)"
          ]
        }
      ],
      "source": [
        "# Change it to a 2-d array with 1 column.\n",
        "# # Notice the two sets of brackets for a 2-d array with one row.\n",
        "arr.reshape(1,25)"
      ]
    },
    {
      "cell_type": "code",
      "execution_count": null,
      "id": "b7d2c9e0",
      "metadata": {
        "id": "b7d2c9e0"
      },
      "outputs": [],
      "source": [
        "# Change the shape of the array and check the modified shape attribute\n",
        "arr.reshape(25,1).shape"
      ]
    },
    {
      "cell_type": "code",
      "execution_count": null,
      "id": "6cd2a256",
      "metadata": {
        "id": "6cd2a256"
      },
      "outputs": [],
      "source": [
        ""
      ]
    },
    {
      "cell_type": "code",
      "execution_count": null,
      "id": "15d312ed-1498-4937-ae24-1e60967c90f3",
      "metadata": {
        "id": "15d312ed-1498-4937-ae24-1e60967c90f3"
      },
      "outputs": [],
      "source": [
        ""
      ]
    }
  ],
  "metadata": {
    "kernelspec": {
      "display_name": "Python 3 (ipykernel)",
      "language": "python",
      "name": "python3"
    },
    "language_info": {
      "codemirror_mode": {
        "name": "ipython",
        "version": 3
      },
      "file_extension": ".py",
      "mimetype": "text/x-python",
      "name": "python",
      "nbconvert_exporter": "python",
      "pygments_lexer": "ipython3",
      "version": "3.9.7"
    },
    "colab": {
      "name": "Numpy_ARU.ipynb",
      "provenance": [],
      "include_colab_link": true
    }
  },
  "nbformat": 4,
  "nbformat_minor": 5
}