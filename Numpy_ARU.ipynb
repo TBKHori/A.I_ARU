{
  "cells": [
    {
      "cell_type": "markdown",
      "metadata": {
        "id": "view-in-github",
        "colab_type": "text"
      },
      "source": [
        "<a href=\"https://colab.research.google.com/github/TBKHori/A.I_ARU/blob/main/Numpy_ARU.ipynb\" target=\"_parent\"><img src=\"https://colab.research.google.com/assets/colab-badge.svg\" alt=\"Open In Colab\"/></a>"
      ]
    },
    {
      "cell_type": "code",
      "execution_count": null,
      "id": "876097de",
      "metadata": {
        "id": "876097de"
      },
      "outputs": [],
      "source": [
        "import numpy as np"
      ]
    },
    {
      "cell_type": "code",
      "execution_count": null,
      "id": "bce1f302",
      "metadata": {
        "id": "bce1f302",
        "outputId": "5293ef91-fa62-4311-d082-c5dd09a7f84f"
      },
      "outputs": [
        {
          "data": {
            "text/plain": [
              "[100, 300, 500, 700, 900]"
            ]
          },
          "execution_count": 4,
          "metadata": {},
          "output_type": "execute_result"
        }
      ],
      "source": [
        "#Create a list.\n",
        "my_list = [100, 300, 500, 700, 900]\n",
        "my_list"
      ]
    },
    {
      "cell_type": "code",
      "execution_count": null,
      "id": "3722329b",
      "metadata": {
        "id": "3722329b",
        "outputId": "e107f9f2-f505-4c35-8806-a03aa80b1f06"
      },
      "outputs": [
        {
          "data": {
            "text/plain": [
              "array([100, 300, 500, 700, 900])"
            ]
          },
          "execution_count": 5,
          "metadata": {},
          "output_type": "execute_result"
        }
      ],
      "source": [
        "#Use the list to initialise a numpy array.\n",
        "np.array(my_list)"
      ]
    },
    {
      "cell_type": "code",
      "execution_count": null,
      "id": "998133f1",
      "metadata": {
        "id": "998133f1",
        "outputId": "d461b00c-a04d-4194-db99-28ee3d79a8c6"
      },
      "outputs": [
        {
          "data": {
            "text/plain": [
              "[[1, 2, 3], [4, 5, 6], [7, 8, 9]]"
            ]
          },
          "execution_count": 6,
          "metadata": {},
          "output_type": "execute_result"
        }
      ],
      "source": [
        "# Create a list of lists\n",
        "my_matrix = [[1,2,3],[4,5,6],[7,8,9]]\n",
        "my_matrix"
      ]
    },
    {
      "cell_type": "code",
      "execution_count": null,
      "id": "e1f42cb0",
      "metadata": {
        "id": "e1f42cb0",
        "outputId": "cd7cc55f-cefa-4902-eaec-86e0ae2899b0"
      },
      "outputs": [
        {
          "data": {
            "text/plain": [
              "array([[1, 2, 3],\n",
              "       [4, 5, 6],\n",
              "       [7, 8, 9]])"
            ]
          },
          "execution_count": 7,
          "metadata": {},
          "output_type": "execute_result"
        }
      ],
      "source": [
        "# Initalise the array with the list of lists.\n",
        "np.array(my_matrix)"
      ]
    },
    {
      "cell_type": "code",
      "execution_count": null,
      "id": "816bb911",
      "metadata": {
        "id": "816bb911",
        "outputId": "7612a9a6-23a3-4ac3-a9fd-f024987a4f79"
      },
      "outputs": [
        {
          "data": {
            "text/plain": [
              "array([100, 101, 102, 103, 104, 105, 106, 107, 108, 109])"
            ]
          },
          "execution_count": 8,
          "metadata": {},
          "output_type": "execute_result"
        }
      ],
      "source": [
        "# Note the end item is excluded.\n",
        "np.arange(100,110)"
      ]
    },
    {
      "cell_type": "code",
      "execution_count": null,
      "id": "4ec554eb",
      "metadata": {
        "id": "4ec554eb",
        "outputId": "59e4fd01-c67f-434f-8df8-b8322deb78d4"
      },
      "outputs": [
        {
          "data": {
            "text/plain": [
              "array([20, 18, 16, 14, 12, 10,  8,  6,  4,  2])"
            ]
          },
          "execution_count": 9,
          "metadata": {},
          "output_type": "execute_result"
        }
      ],
      "source": [
        "# Using negative step factor gives a decreasing sequence.\n",
        "np.arange(20,1,-2)"
      ]
    },
    {
      "cell_type": "code",
      "execution_count": null,
      "id": "560216d0",
      "metadata": {
        "id": "560216d0",
        "outputId": "099e6e9c-ac68-4e62-a281-36fdc9a7a39e"
      },
      "outputs": [
        {
          "data": {
            "text/plain": [
              "array([0., 0., 0., 0., 0., 0., 0., 0., 0., 0.])"
            ]
          },
          "execution_count": 10,
          "metadata": {},
          "output_type": "execute_result"
        }
      ],
      "source": [
        "# Generate 1-d array of zeros\n",
        "np.zeros(10)"
      ]
    },
    {
      "cell_type": "code",
      "execution_count": null,
      "id": "1fa44ad2",
      "metadata": {
        "id": "1fa44ad2",
        "outputId": "f0ac4318-ac47-421a-cd46-d0d997ca3284"
      },
      "outputs": [
        {
          "data": {
            "text/plain": [
              "array([[0., 0., 0.],\n",
              "       [0., 0., 0.],\n",
              "       [0., 0., 0.]])"
            ]
          },
          "execution_count": 11,
          "metadata": {},
          "output_type": "execute_result"
        }
      ],
      "source": [
        "# A 2-d array of zeros\n",
        "np.zeros((3,3))"
      ]
    },
    {
      "cell_type": "code",
      "execution_count": null,
      "id": "a240194e",
      "metadata": {
        "id": "a240194e",
        "outputId": "36e2f9d1-5b30-4a88-acf9-9a763c229b23"
      },
      "outputs": [
        {
          "data": {
            "text/plain": [
              "array([1., 1., 1., 1., 1.])"
            ]
          },
          "execution_count": 12,
          "metadata": {},
          "output_type": "execute_result"
        }
      ],
      "source": [
        "# Generate the 1-d array of ones.\n",
        "np.ones(5)"
      ]
    },
    {
      "cell_type": "code",
      "execution_count": null,
      "id": "7213490d",
      "metadata": {
        "id": "7213490d",
        "outputId": "77ad1f20-941e-4be0-bf24-95a2ecca0214"
      },
      "outputs": [
        {
          "data": {
            "text/plain": [
              "array([[1., 1., 1.],\n",
              "       [1., 1., 1.],\n",
              "       [1., 1., 1.],\n",
              "       [1., 1., 1.],\n",
              "       [1., 1., 1.]])"
            ]
          },
          "execution_count": 13,
          "metadata": {},
          "output_type": "execute_result"
        }
      ],
      "source": [
        "# 2-d array of ones.\n",
        "np.ones((5,3))"
      ]
    },
    {
      "cell_type": "code",
      "execution_count": null,
      "id": "8b3764d5",
      "metadata": {
        "id": "8b3764d5",
        "outputId": "76040d43-3626-4626-b455-1f206810b456"
      },
      "outputs": [
        {
          "data": {
            "text/plain": [
              "array([ 10.,  20.,  30.,  40.,  50.,  60.,  70.,  80.,  90., 100.])"
            ]
          },
          "execution_count": 14,
          "metadata": {},
          "output_type": "execute_result"
        }
      ],
      "source": [
        "# Generate ten elements between 0 and 100\n",
        "np.linspace(10,100,10)"
      ]
    },
    {
      "cell_type": "code",
      "execution_count": null,
      "id": "1a3baea7",
      "metadata": {
        "id": "1a3baea7",
        "outputId": "db981d0e-eca3-43c2-aaf5-a6272c9930f9"
      },
      "outputs": [
        {
          "data": {
            "text/plain": [
              "array([ 0.        ,  0.20408163,  0.40816327,  0.6122449 ,  0.81632653,\n",
              "        1.02040816,  1.2244898 ,  1.42857143,  1.63265306,  1.83673469,\n",
              "        2.04081633,  2.24489796,  2.44897959,  2.65306122,  2.85714286,\n",
              "        3.06122449,  3.26530612,  3.46938776,  3.67346939,  3.87755102,\n",
              "        4.08163265,  4.28571429,  4.48979592,  4.69387755,  4.89795918,\n",
              "        5.10204082,  5.30612245,  5.51020408,  5.71428571,  5.91836735,\n",
              "        6.12244898,  6.32653061,  6.53061224,  6.73469388,  6.93877551,\n",
              "        7.14285714,  7.34693878,  7.55102041,  7.75510204,  7.95918367,\n",
              "        8.16326531,  8.36734694,  8.57142857,  8.7755102 ,  8.97959184,\n",
              "        9.18367347,  9.3877551 ,  9.59183673,  9.79591837, 10.        ])"
            ]
          },
          "execution_count": 15,
          "metadata": {},
          "output_type": "execute_result"
        }
      ],
      "source": [
        "# Method can be used to generate finer granular sequence\n",
        "np.linspace(0,10,50)"
      ]
    },
    {
      "cell_type": "code",
      "execution_count": null,
      "id": "1eece9a0",
      "metadata": {
        "id": "1eece9a0",
        "outputId": "e29b390a-ed0e-47c2-c747-4b0ed077be13"
      },
      "outputs": [
        {
          "data": {
            "text/plain": [
              "array([[1., 0., 0.],\n",
              "       [0., 1., 0.],\n",
              "       [0., 0., 1.]])"
            ]
          },
          "execution_count": 16,
          "metadata": {},
          "output_type": "execute_result"
        }
      ],
      "source": [
        "# Create a Identity matrix of size 3X3\n",
        "np.eye(3)"
      ]
    },
    {
      "cell_type": "code",
      "execution_count": null,
      "id": "3a13b2ef",
      "metadata": {
        "id": "3a13b2ef",
        "outputId": "112d0dc2-fb19-49c4-8d78-0bf10e086699"
      },
      "outputs": [
        {
          "data": {
            "text/plain": [
              "array([0.0731552 , 0.69598293, 0.60611053, 0.53666673, 0.72866187])"
            ]
          },
          "execution_count": 17,
          "metadata": {},
          "output_type": "execute_result"
        }
      ],
      "source": [
        "# Generate a random number array from uniform distribution in the interval [0,1].\n",
        "np.random.rand(5)"
      ]
    },
    {
      "cell_type": "code",
      "execution_count": null,
      "id": "8e310933",
      "metadata": {
        "id": "8e310933",
        "outputId": "dae046db-2dc0-4519-c58f-b324e79026f5"
      },
      "outputs": [
        {
          "data": {
            "text/plain": [
              "array([[0.66937586, 0.03978199, 0.8360727 , 0.48342275, 0.88405642],\n",
              "       [0.60302979, 0.24611467, 0.91390779, 0.4993939 , 0.8617712 ],\n",
              "       [0.88844509, 0.15871527, 0.67286544, 0.65613974, 0.17915326],\n",
              "       [0.37895443, 0.07724579, 0.46544209, 0.28358995, 0.83338673],\n",
              "       [0.49775974, 0.88999047, 0.4954952 , 0.41143846, 0.46744953]])"
            ]
          },
          "execution_count": 18,
          "metadata": {},
          "output_type": "execute_result"
        }
      ],
      "source": [
        "# Generate a 2-d array of random numbers\n",
        "np.random.rand(5,5)"
      ]
    },
    {
      "cell_type": "code",
      "execution_count": null,
      "id": "0b5e14c4",
      "metadata": {
        "id": "0b5e14c4",
        "outputId": "2234548c-b90b-42dc-b10d-e60753ba1869"
      },
      "outputs": [
        {
          "data": {
            "text/plain": [
              "array([0.69804738, 0.05828051, 0.5300142 , 3.21067839])"
            ]
          },
          "execution_count": 19,
          "metadata": {},
          "output_type": "execute_result"
        }
      ],
      "source": [
        "# Generates a 1-d random sequence from normal distribution.\n",
        "np.random.randn(4)"
      ]
    },
    {
      "cell_type": "code",
      "execution_count": null,
      "id": "b3da90f3",
      "metadata": {
        "id": "b3da90f3",
        "outputId": "828bc6b3-da29-4ee5-91a7-3f1b91ec0108"
      },
      "outputs": [
        {
          "data": {
            "text/plain": [
              "array([[-1.10877657,  0.92046652, -0.39017978, -1.32952024,  0.87992697],\n",
              "       [ 1.42723675,  0.73646703,  1.0190623 , -1.20631558,  0.30227932],\n",
              "       [ 0.06847157,  1.40331149, -0.45962369,  1.52641378, -0.07122538],\n",
              "       [ 1.84890838,  1.51953051, -0.35991742,  2.13844903,  0.27621238],\n",
              "       [-1.16895391, -0.88207311, -0.23688812, -0.70399737, -2.07001873]])"
            ]
          },
          "execution_count": 20,
          "metadata": {},
          "output_type": "execute_result"
        }
      ],
      "source": [
        "# Generates a 2-d random array from a normal distribution.\n",
        "np.random.randn(5,5)"
      ]
    },
    {
      "cell_type": "code",
      "execution_count": null,
      "id": "c7933f0a",
      "metadata": {
        "id": "c7933f0a",
        "outputId": "796101d3-6e80-4a5e-a07e-1c20fa57d45f"
      },
      "outputs": [
        {
          "data": {
            "text/plain": [
              "72"
            ]
          },
          "execution_count": 21,
          "metadata": {},
          "output_type": "execute_result"
        }
      ],
      "source": [
        "# Generate a single random integer between 1 and 100.\n",
        "np.random.randint(1,100)"
      ]
    },
    {
      "cell_type": "code",
      "execution_count": null,
      "id": "46816217",
      "metadata": {
        "id": "46816217",
        "outputId": "99fc0cfb-d436-45c0-f4fc-dfd2ce948717"
      },
      "outputs": [
        {
          "data": {
            "text/plain": [
              "array([81, 95, 39, 68, 53, 42, 52, 20, 71, 25])"
            ]
          },
          "execution_count": 22,
          "metadata": {},
          "output_type": "execute_result"
        }
      ],
      "source": [
        "# Generate a sequence of random numbers between 1 and 100\n",
        "np.random.randint(1,100,10)"
      ]
    },
    {
      "cell_type": "code",
      "execution_count": null,
      "id": "04df5984",
      "metadata": {
        "id": "04df5984",
        "outputId": "4c1d2463-97e2-4f02-c7ff-972a5271ce79"
      },
      "outputs": [
        {
          "data": {
            "text/plain": [
              "array([0., 0., 0., 0., 0., 0., 0., 0., 0., 0.])"
            ]
          },
          "execution_count": 23,
          "metadata": {},
          "output_type": "execute_result"
        }
      ],
      "source": [
        "# Create an array of 10 zeros\n",
        "np.zeros(10)"
      ]
    },
    {
      "cell_type": "code",
      "execution_count": null,
      "id": "7543d71e",
      "metadata": {
        "id": "7543d71e",
        "outputId": "80ca4e1d-36f7-4b14-98d1-aed5079054b1"
      },
      "outputs": [
        {
          "data": {
            "text/plain": [
              "array([1., 1., 1., 1., 1., 1., 1., 1., 1., 1.])"
            ]
          },
          "execution_count": 24,
          "metadata": {},
          "output_type": "execute_result"
        }
      ],
      "source": [
        "# Create an array of 10 ones \n",
        "np.ones(10)"
      ]
    },
    {
      "cell_type": "code",
      "execution_count": null,
      "id": "150f0480",
      "metadata": {
        "id": "150f0480",
        "outputId": "eda20650-a114-41d3-c2c5-4e06feb8f949"
      },
      "outputs": [
        {
          "data": {
            "text/plain": [
              "array([5., 5., 5., 5., 5., 5., 5., 5., 5., 5.])"
            ]
          },
          "execution_count": 3,
          "metadata": {},
          "output_type": "execute_result"
        }
      ],
      "source": [
        "# Create an array of 10 fives\n",
        "np.ones(10)*5"
      ]
    },
    {
      "cell_type": "code",
      "execution_count": null,
      "id": "d01251aa",
      "metadata": {
        "id": "d01251aa",
        "outputId": "2690a18c-e8fe-4e6d-8aac-5c76e23b9c8f"
      },
      "outputs": [
        {
          "data": {
            "text/plain": [
              "array([10, 11, 12, 13, 14, 15, 16, 17, 18, 19, 20, 21, 22, 23, 24, 25, 26,\n",
              "       27, 28, 29, 30, 31, 32, 33, 34, 35, 36, 37, 38, 39, 40, 41, 42, 43,\n",
              "       44, 45, 46, 47, 48, 49, 50])"
            ]
          },
          "execution_count": 25,
          "metadata": {},
          "output_type": "execute_result"
        }
      ],
      "source": [
        "# Create an array of the integers from 10 to 50\n",
        "np.arange(10,51)"
      ]
    },
    {
      "cell_type": "code",
      "execution_count": null,
      "id": "14044b95",
      "metadata": {
        "id": "14044b95",
        "outputId": "b82b4b76-b3d5-4e58-c458-b73c84f75103"
      },
      "outputs": [
        {
          "data": {
            "text/plain": [
              "array([10., 12., 14., 16., 18., 20., 22., 24., 26., 28., 30., 32., 34.,\n",
              "       36., 38., 40., 42., 44., 46., 48., 50.])"
            ]
          },
          "execution_count": 28,
          "metadata": {},
          "output_type": "execute_result"
        }
      ],
      "source": [
        "# Create an array of all the even integers from 10 to 50\n",
        "np.linspace(10,50,21)"
      ]
    },
    {
      "cell_type": "code",
      "execution_count": null,
      "id": "64cf8942",
      "metadata": {
        "id": "64cf8942",
        "outputId": "f1048ad7-9a8a-4eb0-9b61-351669ce5458"
      },
      "outputs": [
        {
          "data": {
            "text/plain": [
              "array([[0, 1, 2],\n",
              "       [3, 4, 5],\n",
              "       [6, 7, 8]])"
            ]
          },
          "execution_count": 5,
          "metadata": {},
          "output_type": "execute_result"
        }
      ],
      "source": [
        "# Create a 3x3 matrix with values ranging from 0 to 8\n",
        "np.arange(0,9).reshape(3,3)"
      ]
    },
    {
      "cell_type": "code",
      "execution_count": null,
      "id": "3487afc1",
      "metadata": {
        "id": "3487afc1",
        "outputId": "c5f63214-fe03-4f3d-cc55-8e238bd224ee"
      },
      "outputs": [
        {
          "data": {
            "text/plain": [
              "array([[1., 0., 0.],\n",
              "       [0., 1., 0.],\n",
              "       [0., 0., 1.]])"
            ]
          },
          "execution_count": 4,
          "metadata": {},
          "output_type": "execute_result"
        }
      ],
      "source": [
        "# Create a 3x3 identity matrix\n",
        "np.eye(3)"
      ]
    },
    {
      "cell_type": "code",
      "execution_count": null,
      "id": "bb62d90a",
      "metadata": {
        "id": "bb62d90a",
        "outputId": "6d302e9e-c617-4913-8fcd-143bd5053fa3"
      },
      "outputs": [
        {
          "data": {
            "text/plain": [
              "array([[0.4123168]])"
            ]
          },
          "execution_count": 96,
          "metadata": {},
          "output_type": "execute_result"
        }
      ],
      "source": [
        "# Use NumPy to generate a random number between 0 and 1\n",
        "np.random.rand(1, 1)"
      ]
    },
    {
      "cell_type": "code",
      "execution_count": null,
      "id": "2791aba8",
      "metadata": {
        "id": "2791aba8",
        "outputId": "e086e11b-34b5-4ff3-fe01-7a7eb687b5b2"
      },
      "outputs": [
        {
          "data": {
            "text/plain": [
              "array([[-2.32507069, -0.81707973,  0.93223028, -0.34660978, -1.14373342],\n",
              "       [-0.90209063, -0.50446616,  0.01697685, -0.32603256, -0.6962793 ],\n",
              "       [ 0.066814  ,  0.06032784,  0.12993409,  0.10870005,  0.09252807],\n",
              "       [-1.27792331,  0.64480548,  1.71225714,  1.44488986, -2.92113157],\n",
              "       [ 2.79235094,  0.1135398 , -1.58660665, -0.00604169,  1.0451334 ]])"
            ]
          },
          "execution_count": 105,
          "metadata": {},
          "output_type": "execute_result"
        }
      ],
      "source": [
        "\"\"\" Use NumPy to generate an array of 25 random numbers sampled from a standard normal dis-\n",
        "tribution \"\"\"\n",
        "np.random.randn(5,5)"
      ]
    },
    {
      "cell_type": "code",
      "execution_count": null,
      "id": "97cb62e5",
      "metadata": {
        "id": "97cb62e5",
        "outputId": "e63f98e1-5866-4e9b-f662-a2e24aa250af"
      },
      "outputs": [
        {
          "data": {
            "text/plain": [
              "array([0.        , 0.01010101, 0.02020202, 0.03030303, 0.04040404,\n",
              "       0.05050505, 0.06060606, 0.07070707, 0.08080808, 0.09090909,\n",
              "       0.1010101 , 0.11111111, 0.12121212, 0.13131313, 0.14141414,\n",
              "       0.15151515, 0.16161616, 0.17171717, 0.18181818, 0.19191919,\n",
              "       0.2020202 , 0.21212121, 0.22222222, 0.23232323, 0.24242424,\n",
              "       0.25252525, 0.26262626, 0.27272727, 0.28282828, 0.29292929,\n",
              "       0.3030303 , 0.31313131, 0.32323232, 0.33333333, 0.34343434,\n",
              "       0.35353535, 0.36363636, 0.37373737, 0.38383838, 0.39393939,\n",
              "       0.4040404 , 0.41414141, 0.42424242, 0.43434343, 0.44444444,\n",
              "       0.45454545, 0.46464646, 0.47474747, 0.48484848, 0.49494949,\n",
              "       0.50505051, 0.51515152, 0.52525253, 0.53535354, 0.54545455,\n",
              "       0.55555556, 0.56565657, 0.57575758, 0.58585859, 0.5959596 ,\n",
              "       0.60606061, 0.61616162, 0.62626263, 0.63636364, 0.64646465,\n",
              "       0.65656566, 0.66666667, 0.67676768, 0.68686869, 0.6969697 ,\n",
              "       0.70707071, 0.71717172, 0.72727273, 0.73737374, 0.74747475,\n",
              "       0.75757576, 0.76767677, 0.77777778, 0.78787879, 0.7979798 ,\n",
              "       0.80808081, 0.81818182, 0.82828283, 0.83838384, 0.84848485,\n",
              "       0.85858586, 0.86868687, 0.87878788, 0.88888889, 0.8989899 ,\n",
              "       0.90909091, 0.91919192, 0.92929293, 0.93939394, 0.94949495,\n",
              "       0.95959596, 0.96969697, 0.97979798, 0.98989899, 1.        ])"
            ]
          },
          "execution_count": 126,
          "metadata": {},
          "output_type": "execute_result"
        }
      ],
      "source": [
        "np.linspace(0, 1, 100)"
      ]
    },
    {
      "cell_type": "code",
      "execution_count": null,
      "id": "91da9e4b",
      "metadata": {
        "id": "91da9e4b",
        "outputId": "a17d1d65-8012-4e8f-beec-0a8fecedccc2"
      },
      "outputs": [
        {
          "data": {
            "text/plain": [
              "array([0.        , 0.05263158, 0.10526316, 0.15789474, 0.21052632,\n",
              "       0.26315789, 0.31578947, 0.36842105, 0.42105263, 0.47368421,\n",
              "       0.52631579, 0.57894737, 0.63157895, 0.68421053, 0.73684211,\n",
              "       0.78947368, 0.84210526, 0.89473684, 0.94736842, 1.        ])"
            ]
          },
          "execution_count": 127,
          "metadata": {},
          "output_type": "execute_result"
        }
      ],
      "source": [
        "# Create an array of 20 linearly spaced points between 0 and 1:\n",
        "np.linspace(0, 1, 20)"
      ]
    },
    {
      "cell_type": "code",
      "execution_count": null,
      "id": "adb2c092",
      "metadata": {
        "id": "adb2c092"
      },
      "outputs": [],
      "source": [
        ""
      ]
    }
  ],
  "metadata": {
    "kernelspec": {
      "display_name": "Python 3 (ipykernel)",
      "language": "python",
      "name": "python3"
    },
    "language_info": {
      "codemirror_mode": {
        "name": "ipython",
        "version": 3
      },
      "file_extension": ".py",
      "mimetype": "text/x-python",
      "name": "python",
      "nbconvert_exporter": "python",
      "pygments_lexer": "ipython3",
      "version": "3.9.7"
    },
    "colab": {
      "name": "Numpy_ARU.ipynb",
      "provenance": [],
      "include_colab_link": true
    }
  },
  "nbformat": 4,
  "nbformat_minor": 5
}