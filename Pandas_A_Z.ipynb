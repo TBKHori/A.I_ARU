{
  "cells": [
    {
      "cell_type": "markdown",
      "metadata": {
        "id": "view-in-github",
        "colab_type": "text"
      },
      "source": [
        "<a href=\"https://colab.research.google.com/github/TBKHori/A.I_ARU/blob/main/Pandas_A_Z.ipynb\" target=\"_parent\"><img src=\"https://colab.research.google.com/assets/colab-badge.svg\" alt=\"Open In Colab\"/></a>"
      ]
    },
    {
      "cell_type": "code",
      "execution_count": null,
      "id": "dc22a547",
      "metadata": {
        "id": "dc22a547"
      },
      "outputs": [],
      "source": [
        "import numpy as np\n",
        "import pandas as pd"
      ]
    },
    {
      "cell_type": "code",
      "execution_count": null,
      "id": "42886ded",
      "metadata": {
        "id": "42886ded",
        "outputId": "a856fc9d-b984-4763-b6b9-c43596b85813"
      },
      "outputs": [
        {
          "data": {
            "text/plain": [
              "0    1.0\n",
              "1    3.0\n",
              "2    5.0\n",
              "3    NaN\n",
              "4    6.0\n",
              "5    8.0\n",
              "dtype: float64"
            ]
          },
          "execution_count": 3,
          "metadata": {},
          "output_type": "execute_result"
        }
      ],
      "source": [
        "# Pandas Series is a one-dimensional labeled array capable of holding data of␣↪→any type\n",
        "# (integer, string, float, python objects, etc.)\n",
        "s = pd.Series([1, 3, 5, np.nan, 6, 8])\n",
        "s"
      ]
    },
    {
      "cell_type": "code",
      "execution_count": null,
      "id": "2d33e023",
      "metadata": {
        "id": "2d33e023",
        "outputId": "18a5c872-05de-40d5-c553-6a39ef9c90f9"
      },
      "outputs": [
        {
          "data": {
            "text/plain": [
              "DatetimeIndex(['2013-01-01', '2013-01-02', '2013-01-03', '2013-01-04',\n",
              "               '2013-01-05', '2013-01-06', '2013-01-07', '2013-01-08',\n",
              "               '2013-01-09', '2013-01-10', '2013-01-11', '2013-01-12',\n",
              "               '2013-01-13', '2013-01-14', '2013-01-15', '2013-01-16',\n",
              "               '2013-01-17', '2013-01-18', '2013-01-19', '2013-01-20'],\n",
              "              dtype='datetime64[ns]', freq='D')"
            ]
          },
          "execution_count": 4,
          "metadata": {},
          "output_type": "execute_result"
        }
      ],
      "source": [
        "dates = pd.date_range('20130101', periods=20)\n",
        "dates"
      ]
    },
    {
      "cell_type": "code",
      "execution_count": null,
      "id": "ba6230a2",
      "metadata": {
        "id": "ba6230a2",
        "outputId": "6a5de472-72b9-42d6-bee2-5c22c1e614a2"
      },
      "outputs": [
        {
          "data": {
            "text/html": [
              "<div>\n",
              "<style scoped>\n",
              "    .dataframe tbody tr th:only-of-type {\n",
              "        vertical-align: middle;\n",
              "    }\n",
              "\n",
              "    .dataframe tbody tr th {\n",
              "        vertical-align: top;\n",
              "    }\n",
              "\n",
              "    .dataframe thead th {\n",
              "        text-align: right;\n",
              "    }\n",
              "</style>\n",
              "<table border=\"1\" class=\"dataframe\">\n",
              "  <thead>\n",
              "    <tr style=\"text-align: right;\">\n",
              "      <th></th>\n",
              "      <th>A</th>\n",
              "      <th>B</th>\n",
              "      <th>C</th>\n",
              "      <th>D</th>\n",
              "      <th>E</th>\n",
              "    </tr>\n",
              "  </thead>\n",
              "  <tbody>\n",
              "    <tr>\n",
              "      <th>2013-01-01</th>\n",
              "      <td>0.163591</td>\n",
              "      <td>-1.238393</td>\n",
              "      <td>0.516052</td>\n",
              "      <td>0.728873</td>\n",
              "      <td>0.276542</td>\n",
              "    </tr>\n",
              "    <tr>\n",
              "      <th>2013-01-02</th>\n",
              "      <td>-1.212847</td>\n",
              "      <td>-1.038857</td>\n",
              "      <td>0.959292</td>\n",
              "      <td>0.121458</td>\n",
              "      <td>0.367191</td>\n",
              "    </tr>\n",
              "    <tr>\n",
              "      <th>2013-01-03</th>\n",
              "      <td>-1.437233</td>\n",
              "      <td>-0.299691</td>\n",
              "      <td>-0.611186</td>\n",
              "      <td>-0.608977</td>\n",
              "      <td>-0.751236</td>\n",
              "    </tr>\n",
              "    <tr>\n",
              "      <th>2013-01-04</th>\n",
              "      <td>-0.653487</td>\n",
              "      <td>-1.312677</td>\n",
              "      <td>-1.762835</td>\n",
              "      <td>-0.278388</td>\n",
              "      <td>-0.851971</td>\n",
              "    </tr>\n",
              "    <tr>\n",
              "      <th>2013-01-05</th>\n",
              "      <td>-1.023525</td>\n",
              "      <td>-0.231349</td>\n",
              "      <td>0.512931</td>\n",
              "      <td>-0.994016</td>\n",
              "      <td>0.998637</td>\n",
              "    </tr>\n",
              "    <tr>\n",
              "      <th>2013-01-06</th>\n",
              "      <td>0.766491</td>\n",
              "      <td>-1.024734</td>\n",
              "      <td>-0.942510</td>\n",
              "      <td>0.476387</td>\n",
              "      <td>0.612276</td>\n",
              "    </tr>\n",
              "    <tr>\n",
              "      <th>2013-01-07</th>\n",
              "      <td>-0.848788</td>\n",
              "      <td>0.317507</td>\n",
              "      <td>1.176094</td>\n",
              "      <td>-0.671556</td>\n",
              "      <td>0.688051</td>\n",
              "    </tr>\n",
              "    <tr>\n",
              "      <th>2013-01-08</th>\n",
              "      <td>0.667289</td>\n",
              "      <td>0.495396</td>\n",
              "      <td>0.625734</td>\n",
              "      <td>2.518598</td>\n",
              "      <td>0.075986</td>\n",
              "    </tr>\n",
              "    <tr>\n",
              "      <th>2013-01-09</th>\n",
              "      <td>-0.198204</td>\n",
              "      <td>1.156566</td>\n",
              "      <td>-0.418623</td>\n",
              "      <td>-0.504952</td>\n",
              "      <td>-0.730627</td>\n",
              "    </tr>\n",
              "    <tr>\n",
              "      <th>2013-01-10</th>\n",
              "      <td>0.406629</td>\n",
              "      <td>0.232209</td>\n",
              "      <td>-1.070243</td>\n",
              "      <td>-2.040544</td>\n",
              "      <td>-1.295295</td>\n",
              "    </tr>\n",
              "    <tr>\n",
              "      <th>2013-01-11</th>\n",
              "      <td>-0.521137</td>\n",
              "      <td>0.748148</td>\n",
              "      <td>-0.917555</td>\n",
              "      <td>-0.219956</td>\n",
              "      <td>0.339614</td>\n",
              "    </tr>\n",
              "    <tr>\n",
              "      <th>2013-01-12</th>\n",
              "      <td>-0.148841</td>\n",
              "      <td>0.121439</td>\n",
              "      <td>-0.501578</td>\n",
              "      <td>1.241052</td>\n",
              "      <td>0.487907</td>\n",
              "    </tr>\n",
              "    <tr>\n",
              "      <th>2013-01-13</th>\n",
              "      <td>1.186559</td>\n",
              "      <td>1.466913</td>\n",
              "      <td>-1.748652</td>\n",
              "      <td>0.308904</td>\n",
              "      <td>-2.736154</td>\n",
              "    </tr>\n",
              "    <tr>\n",
              "      <th>2013-01-14</th>\n",
              "      <td>0.884138</td>\n",
              "      <td>-0.247175</td>\n",
              "      <td>1.167733</td>\n",
              "      <td>0.880781</td>\n",
              "      <td>0.983232</td>\n",
              "    </tr>\n",
              "    <tr>\n",
              "      <th>2013-01-15</th>\n",
              "      <td>0.110296</td>\n",
              "      <td>1.491371</td>\n",
              "      <td>-0.720123</td>\n",
              "      <td>-0.335013</td>\n",
              "      <td>0.423272</td>\n",
              "    </tr>\n",
              "    <tr>\n",
              "      <th>2013-01-16</th>\n",
              "      <td>-0.825883</td>\n",
              "      <td>-0.846065</td>\n",
              "      <td>1.372285</td>\n",
              "      <td>-0.903185</td>\n",
              "      <td>1.475243</td>\n",
              "    </tr>\n",
              "    <tr>\n",
              "      <th>2013-01-17</th>\n",
              "      <td>-1.032841</td>\n",
              "      <td>1.287793</td>\n",
              "      <td>-0.403319</td>\n",
              "      <td>-1.054863</td>\n",
              "      <td>1.120177</td>\n",
              "    </tr>\n",
              "    <tr>\n",
              "      <th>2013-01-18</th>\n",
              "      <td>-0.103617</td>\n",
              "      <td>0.057464</td>\n",
              "      <td>0.510514</td>\n",
              "      <td>1.325420</td>\n",
              "      <td>-0.244378</td>\n",
              "    </tr>\n",
              "    <tr>\n",
              "      <th>2013-01-19</th>\n",
              "      <td>0.069568</td>\n",
              "      <td>-0.988735</td>\n",
              "      <td>1.386977</td>\n",
              "      <td>-0.070288</td>\n",
              "      <td>0.952163</td>\n",
              "    </tr>\n",
              "    <tr>\n",
              "      <th>2013-01-20</th>\n",
              "      <td>-2.269529</td>\n",
              "      <td>-2.819230</td>\n",
              "      <td>1.012104</td>\n",
              "      <td>-0.329154</td>\n",
              "      <td>-1.224371</td>\n",
              "    </tr>\n",
              "  </tbody>\n",
              "</table>\n",
              "</div>"
            ],
            "text/plain": [
              "                   A         B         C         D         E\n",
              "2013-01-01  0.163591 -1.238393  0.516052  0.728873  0.276542\n",
              "2013-01-02 -1.212847 -1.038857  0.959292  0.121458  0.367191\n",
              "2013-01-03 -1.437233 -0.299691 -0.611186 -0.608977 -0.751236\n",
              "2013-01-04 -0.653487 -1.312677 -1.762835 -0.278388 -0.851971\n",
              "2013-01-05 -1.023525 -0.231349  0.512931 -0.994016  0.998637\n",
              "2013-01-06  0.766491 -1.024734 -0.942510  0.476387  0.612276\n",
              "2013-01-07 -0.848788  0.317507  1.176094 -0.671556  0.688051\n",
              "2013-01-08  0.667289  0.495396  0.625734  2.518598  0.075986\n",
              "2013-01-09 -0.198204  1.156566 -0.418623 -0.504952 -0.730627\n",
              "2013-01-10  0.406629  0.232209 -1.070243 -2.040544 -1.295295\n",
              "2013-01-11 -0.521137  0.748148 -0.917555 -0.219956  0.339614\n",
              "2013-01-12 -0.148841  0.121439 -0.501578  1.241052  0.487907\n",
              "2013-01-13  1.186559  1.466913 -1.748652  0.308904 -2.736154\n",
              "2013-01-14  0.884138 -0.247175  1.167733  0.880781  0.983232\n",
              "2013-01-15  0.110296  1.491371 -0.720123 -0.335013  0.423272\n",
              "2013-01-16 -0.825883 -0.846065  1.372285 -0.903185  1.475243\n",
              "2013-01-17 -1.032841  1.287793 -0.403319 -1.054863  1.120177\n",
              "2013-01-18 -0.103617  0.057464  0.510514  1.325420 -0.244378\n",
              "2013-01-19  0.069568 -0.988735  1.386977 -0.070288  0.952163\n",
              "2013-01-20 -2.269529 -2.819230  1.012104 -0.329154 -1.224371"
            ]
          },
          "execution_count": 5,
          "metadata": {},
          "output_type": "execute_result"
        }
      ],
      "source": [
        "df = pd.DataFrame(np.random.randn(20, 5), index=dates, columns=list('ABCDE'))\n",
        "df"
      ]
    },
    {
      "cell_type": "code",
      "execution_count": null,
      "id": "21436a1f",
      "metadata": {
        "id": "21436a1f",
        "outputId": "525ea6d8-3979-488b-86d3-e87de8650395"
      },
      "outputs": [
        {
          "data": {
            "text/html": [
              "<div>\n",
              "<style scoped>\n",
              "    .dataframe tbody tr th:only-of-type {\n",
              "        vertical-align: middle;\n",
              "    }\n",
              "\n",
              "    .dataframe tbody tr th {\n",
              "        vertical-align: top;\n",
              "    }\n",
              "\n",
              "    .dataframe thead th {\n",
              "        text-align: right;\n",
              "    }\n",
              "</style>\n",
              "<table border=\"1\" class=\"dataframe\">\n",
              "  <thead>\n",
              "    <tr style=\"text-align: right;\">\n",
              "      <th></th>\n",
              "      <th>A</th>\n",
              "      <th>B</th>\n",
              "      <th>C</th>\n",
              "      <th>D</th>\n",
              "      <th>E</th>\n",
              "      <th>F</th>\n",
              "    </tr>\n",
              "  </thead>\n",
              "  <tbody>\n",
              "    <tr>\n",
              "      <th>0</th>\n",
              "      <td>1.0</td>\n",
              "      <td>2013-01-02</td>\n",
              "      <td>1.0</td>\n",
              "      <td>3</td>\n",
              "      <td>test</td>\n",
              "      <td>foo</td>\n",
              "    </tr>\n",
              "    <tr>\n",
              "      <th>1</th>\n",
              "      <td>1.0</td>\n",
              "      <td>2013-01-02</td>\n",
              "      <td>1.0</td>\n",
              "      <td>3</td>\n",
              "      <td>train</td>\n",
              "      <td>foo</td>\n",
              "    </tr>\n",
              "    <tr>\n",
              "      <th>2</th>\n",
              "      <td>1.0</td>\n",
              "      <td>2013-01-02</td>\n",
              "      <td>1.0</td>\n",
              "      <td>3</td>\n",
              "      <td>test</td>\n",
              "      <td>foo</td>\n",
              "    </tr>\n",
              "    <tr>\n",
              "      <th>3</th>\n",
              "      <td>1.0</td>\n",
              "      <td>2013-01-02</td>\n",
              "      <td>1.0</td>\n",
              "      <td>3</td>\n",
              "      <td>train</td>\n",
              "      <td>foo</td>\n",
              "    </tr>\n",
              "  </tbody>\n",
              "</table>\n",
              "</div>"
            ],
            "text/plain": [
              "     A          B    C  D      E    F\n",
              "0  1.0 2013-01-02  1.0  3   test  foo\n",
              "1  1.0 2013-01-02  1.0  3  train  foo\n",
              "2  1.0 2013-01-02  1.0  3   test  foo\n",
              "3  1.0 2013-01-02  1.0  3  train  foo"
            ]
          },
          "execution_count": 8,
          "metadata": {},
          "output_type": "execute_result"
        }
      ],
      "source": [
        "# create a dataframe by passing a dictionary\n",
        "df2 = pd.DataFrame({'A': 1.,\n",
        "'B': pd.Timestamp('20130102'),'C': pd.Series(1,index=list(range(4)), dtype='float32'),\n",
        "'D': np.array([3] * 4, dtype='int32'),\n",
        "'E': pd.Categorical([\"test\", \"train\", \"test\", \"train\"]),\n",
        "'F': 'foo'})\n",
        "df2"
      ]
    },
    {
      "cell_type": "code",
      "execution_count": null,
      "id": "148b2d48",
      "metadata": {
        "id": "148b2d48",
        "outputId": "1f46f139-7ec0-4559-a79d-c67d1d9ede23"
      },
      "outputs": [
        {
          "data": {
            "text/plain": [
              "test     2\n",
              "train    2\n",
              "Name: E, dtype: int64"
            ]
          },
          "execution_count": 9,
          "metadata": {},
          "output_type": "execute_result"
        }
      ],
      "source": [
        "df2['E'].value_counts()"
      ]
    },
    {
      "cell_type": "code",
      "execution_count": null,
      "id": "83b5df89",
      "metadata": {
        "id": "83b5df89",
        "outputId": "f8389ceb-4328-4cd2-d32f-f174b87d6fc9"
      },
      "outputs": [
        {
          "ename": "SyntaxError",
          "evalue": "invalid syntax (Temp/ipykernel_17464/2266589719.py, line 2)",
          "output_type": "error",
          "traceback": [
            "\u001b[1;36m  File \u001b[1;32m\"C:\\Users\\LENOVO\\AppData\\Local\\Temp/ipykernel_17464/2266589719.py\"\u001b[1;36m, line \u001b[1;32m2\u001b[0m\n\u001b[1;33m    df2.\u001b[0m\n\u001b[1;37m        ^\u001b[0m\n\u001b[1;31mSyntaxError\u001b[0m\u001b[1;31m:\u001b[0m invalid syntax\n"
          ]
        }
      ],
      "source": [
        "# If you’re using IPython, tab completion for column names (as well as public␣↪→attributes) is automatically enabled.\n",
        "df2."
      ]
    },
    {
      "cell_type": "code",
      "execution_count": null,
      "id": "4c55135b",
      "metadata": {
        "id": "4c55135b",
        "outputId": "e77e30a7-702e-4a73-a790-26c2880e34d7"
      },
      "outputs": [
        {
          "data": {
            "text/html": [
              "<div>\n",
              "<style scoped>\n",
              "    .dataframe tbody tr th:only-of-type {\n",
              "        vertical-align: middle;\n",
              "    }\n",
              "\n",
              "    .dataframe tbody tr th {\n",
              "        vertical-align: top;\n",
              "    }\n",
              "\n",
              "    .dataframe thead th {\n",
              "        text-align: right;\n",
              "    }\n",
              "</style>\n",
              "<table border=\"1\" class=\"dataframe\">\n",
              "  <thead>\n",
              "    <tr style=\"text-align: right;\">\n",
              "      <th></th>\n",
              "      <th>A</th>\n",
              "      <th>B</th>\n",
              "      <th>C</th>\n",
              "      <th>D</th>\n",
              "      <th>E</th>\n",
              "    </tr>\n",
              "  </thead>\n",
              "  <tbody>\n",
              "    <tr>\n",
              "      <th>2013-01-01</th>\n",
              "      <td>0.163591</td>\n",
              "      <td>-1.238393</td>\n",
              "      <td>0.516052</td>\n",
              "      <td>0.728873</td>\n",
              "      <td>0.276542</td>\n",
              "    </tr>\n",
              "    <tr>\n",
              "      <th>2013-01-02</th>\n",
              "      <td>-1.212847</td>\n",
              "      <td>-1.038857</td>\n",
              "      <td>0.959292</td>\n",
              "      <td>0.121458</td>\n",
              "      <td>0.367191</td>\n",
              "    </tr>\n",
              "    <tr>\n",
              "      <th>2013-01-03</th>\n",
              "      <td>-1.437233</td>\n",
              "      <td>-0.299691</td>\n",
              "      <td>-0.611186</td>\n",
              "      <td>-0.608977</td>\n",
              "      <td>-0.751236</td>\n",
              "    </tr>\n",
              "    <tr>\n",
              "      <th>2013-01-04</th>\n",
              "      <td>-0.653487</td>\n",
              "      <td>-1.312677</td>\n",
              "      <td>-1.762835</td>\n",
              "      <td>-0.278388</td>\n",
              "      <td>-0.851971</td>\n",
              "    </tr>\n",
              "    <tr>\n",
              "      <th>2013-01-05</th>\n",
              "      <td>-1.023525</td>\n",
              "      <td>-0.231349</td>\n",
              "      <td>0.512931</td>\n",
              "      <td>-0.994016</td>\n",
              "      <td>0.998637</td>\n",
              "    </tr>\n",
              "  </tbody>\n",
              "</table>\n",
              "</div>"
            ],
            "text/plain": [
              "                   A         B         C         D         E\n",
              "2013-01-01  0.163591 -1.238393  0.516052  0.728873  0.276542\n",
              "2013-01-02 -1.212847 -1.038857  0.959292  0.121458  0.367191\n",
              "2013-01-03 -1.437233 -0.299691 -0.611186 -0.608977 -0.751236\n",
              "2013-01-04 -0.653487 -1.312677 -1.762835 -0.278388 -0.851971\n",
              "2013-01-05 -1.023525 -0.231349  0.512931 -0.994016  0.998637"
            ]
          },
          "execution_count": 11,
          "metadata": {},
          "output_type": "execute_result"
        }
      ],
      "source": [
        "df.head()"
      ]
    },
    {
      "cell_type": "code",
      "execution_count": null,
      "id": "2c583e54",
      "metadata": {
        "id": "2c583e54",
        "outputId": "1699585c-e187-4e61-f449-47362b8d1588"
      },
      "outputs": [
        {
          "data": {
            "text/html": [
              "<div>\n",
              "<style scoped>\n",
              "    .dataframe tbody tr th:only-of-type {\n",
              "        vertical-align: middle;\n",
              "    }\n",
              "\n",
              "    .dataframe tbody tr th {\n",
              "        vertical-align: top;\n",
              "    }\n",
              "\n",
              "    .dataframe thead th {\n",
              "        text-align: right;\n",
              "    }\n",
              "</style>\n",
              "<table border=\"1\" class=\"dataframe\">\n",
              "  <thead>\n",
              "    <tr style=\"text-align: right;\">\n",
              "      <th></th>\n",
              "      <th>A</th>\n",
              "      <th>B</th>\n",
              "      <th>C</th>\n",
              "      <th>D</th>\n",
              "      <th>E</th>\n",
              "    </tr>\n",
              "  </thead>\n",
              "  <tbody>\n",
              "    <tr>\n",
              "      <th>2013-01-18</th>\n",
              "      <td>-0.103617</td>\n",
              "      <td>0.057464</td>\n",
              "      <td>0.510514</td>\n",
              "      <td>1.325420</td>\n",
              "      <td>-0.244378</td>\n",
              "    </tr>\n",
              "    <tr>\n",
              "      <th>2013-01-19</th>\n",
              "      <td>0.069568</td>\n",
              "      <td>-0.988735</td>\n",
              "      <td>1.386977</td>\n",
              "      <td>-0.070288</td>\n",
              "      <td>0.952163</td>\n",
              "    </tr>\n",
              "    <tr>\n",
              "      <th>2013-01-20</th>\n",
              "      <td>-2.269529</td>\n",
              "      <td>-2.819230</td>\n",
              "      <td>1.012104</td>\n",
              "      <td>-0.329154</td>\n",
              "      <td>-1.224371</td>\n",
              "    </tr>\n",
              "  </tbody>\n",
              "</table>\n",
              "</div>"
            ],
            "text/plain": [
              "                   A         B         C         D         E\n",
              "2013-01-18 -0.103617  0.057464  0.510514  1.325420 -0.244378\n",
              "2013-01-19  0.069568 -0.988735  1.386977 -0.070288  0.952163\n",
              "2013-01-20 -2.269529 -2.819230  1.012104 -0.329154 -1.224371"
            ]
          },
          "execution_count": 12,
          "metadata": {},
          "output_type": "execute_result"
        }
      ],
      "source": [
        "df.tail(3)"
      ]
    },
    {
      "cell_type": "code",
      "execution_count": null,
      "id": "e8f273a1",
      "metadata": {
        "id": "e8f273a1",
        "outputId": "3785f03f-b649-4dc3-96c2-95d70cf486dd"
      },
      "outputs": [
        {
          "data": {
            "text/plain": [
              "DatetimeIndex(['2013-01-01', '2013-01-02', '2013-01-03', '2013-01-04',\n",
              "               '2013-01-05', '2013-01-06', '2013-01-07', '2013-01-08',\n",
              "               '2013-01-09', '2013-01-10', '2013-01-11', '2013-01-12',\n",
              "               '2013-01-13', '2013-01-14', '2013-01-15', '2013-01-16',\n",
              "               '2013-01-17', '2013-01-18', '2013-01-19', '2013-01-20'],\n",
              "              dtype='datetime64[ns]', freq='D')"
            ]
          },
          "execution_count": 13,
          "metadata": {},
          "output_type": "execute_result"
        }
      ],
      "source": [
        "#Display the index, columns:\n",
        "df.index"
      ]
    },
    {
      "cell_type": "code",
      "execution_count": null,
      "id": "7585553c",
      "metadata": {
        "id": "7585553c",
        "outputId": "2fe097c8-aabb-4b65-e31d-e03bf03bae07"
      },
      "outputs": [
        {
          "data": {
            "text/plain": [
              "5"
            ]
          },
          "execution_count": 14,
          "metadata": {},
          "output_type": "execute_result"
        }
      ],
      "source": [
        "df.columns\n",
        "df.shape[1]"
      ]
    },
    {
      "cell_type": "code",
      "execution_count": null,
      "id": "5a7129c1",
      "metadata": {
        "id": "5a7129c1"
      },
      "outputs": [],
      "source": [
        ""
      ]
    }
  ],
  "metadata": {
    "kernelspec": {
      "display_name": "Python 3 (ipykernel)",
      "language": "python",
      "name": "python3"
    },
    "language_info": {
      "codemirror_mode": {
        "name": "ipython",
        "version": 3
      },
      "file_extension": ".py",
      "mimetype": "text/x-python",
      "name": "python",
      "nbconvert_exporter": "python",
      "pygments_lexer": "ipython3",
      "version": "3.9.7"
    },
    "colab": {
      "name": "Pandas A-Z.ipynb",
      "provenance": [],
      "include_colab_link": true
    }
  },
  "nbformat": 4,
  "nbformat_minor": 5
}