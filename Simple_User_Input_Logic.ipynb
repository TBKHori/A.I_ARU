{
  "cells": [
    {
      "cell_type": "markdown",
      "metadata": {
        "id": "view-in-github",
        "colab_type": "text"
      },
      "source": [
        "<a href=\"https://colab.research.google.com/github/TBKHori/A.I_ARU/blob/main/Simple_User_Input_Logic.ipynb\" target=\"_parent\"><img src=\"https://colab.research.google.com/assets/colab-badge.svg\" alt=\"Open In Colab\"/></a>"
      ]
    },
    {
      "cell_type": "code",
      "execution_count": 1,
      "id": "6646951f",
      "metadata": {
        "colab": {
          "base_uri": "https://localhost:8080/"
        },
        "id": "6646951f",
        "outputId": "c57d03cc-c82c-4c90-fa08-ef2aa97366f1"
      },
      "outputs": [
        {
          "output_type": "stream",
          "name": "stdout",
          "text": [
            "Enter Name :Telvin\n",
            "Telvin\n",
            "Enter Date of Birth :30-11-1994\n",
            "30-11-1994\n",
            "Enter Age :27\n",
            "27\n",
            "Enter Address :CB4 1TN\n",
            "CB4 1TN\n"
          ]
        }
      ],
      "source": [
        "# Python program taking user input name, age, address, DoB\n",
        "\n",
        "user_name = input (\"Enter Name :\")\n",
        "print(user_name)\n",
        "user_DoB = input (\"Enter Date of Birth :\")\n",
        "print(user_DoB)\n",
        "user_age = input (\"Enter Age :\")\n",
        "print(user_age)\n",
        "user_adrress = input (\"Enter Address :\")\n",
        "print(user_adrress)"
      ]
    },
    {
      "cell_type": "code",
      "execution_count": null,
      "id": "71c7874c",
      "metadata": {
        "id": "71c7874c",
        "outputId": "6d509003-df83-45ff-aba7-f4d32a38f1b1"
      },
      "outputs": [
        {
          "name": "stdout",
          "output_type": "stream",
          "text": [
            "Sum of 3 and 4 is 7\n",
            "Product of 45 and 56 is 2520\n",
            "type of number <class 'int'>\n",
            "type of number <class 'int'>\n"
          ]
        }
      ],
      "source": [
        "# Python program taking 2 numbers and output their sum and product.\n",
        "def addition(x , y):\n",
        "    return x + y\n",
        "\n",
        "user_Input_1 = int(input (\"Enter number :\"))\n",
        "user_Input_2 = int(input (\"Enter number :\"))\n",
        "\n",
        "sum = addition(user_Input_1, user_Input_2)\n",
        "\n",
        "print(\"Sum of {} and {} is {}\".format(user_Input_1,user_Input_2,sum))\n",
        "\n",
        "def multiplication(x , y):\n",
        "    return x * y\n",
        "\n",
        "user_Input_1 = int(input (\"Enter number :\"))\n",
        "user_Input_2 = int(input (\"Enter number :\"))\n",
        "\n",
        "product = multiplication(user_Input_1, user_Input_2)\n",
        "\n",
        "print(\"Product of {} and {} is {}\".format(user_Input_1,user_Input_2,product))\n",
        "\n",
        "print (\"type of number\", type(user_Input_1))\n",
        "print (\"type of number\", type(user_Input_2))"
      ]
    }
  ],
  "metadata": {
    "kernelspec": {
      "display_name": "Python 3 (ipykernel)",
      "language": "python",
      "name": "python3"
    },
    "language_info": {
      "codemirror_mode": {
        "name": "ipython",
        "version": 3
      },
      "file_extension": ".py",
      "mimetype": "text/x-python",
      "name": "python",
      "nbconvert_exporter": "python",
      "pygments_lexer": "ipython3",
      "version": "3.9.7"
    },
    "colab": {
      "name": "Simple User Input Logic.ipynb",
      "provenance": [],
      "include_colab_link": true
    }
  },
  "nbformat": 4,
  "nbformat_minor": 5
}