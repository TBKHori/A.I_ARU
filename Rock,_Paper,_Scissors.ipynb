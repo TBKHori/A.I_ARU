{
  "cells": [
    {
      "cell_type": "markdown",
      "metadata": {
        "id": "view-in-github",
        "colab_type": "text"
      },
      "source": [
        "<a href=\"https://colab.research.google.com/github/TBKHori/A.I_ARU/blob/main/Rock%2C_Paper%2C_Scissors.ipynb\" target=\"_parent\"><img src=\"https://colab.research.google.com/assets/colab-badge.svg\" alt=\"Open In Colab\"/></a>"
      ]
    },
    {
      "cell_type": "code",
      "execution_count": 1,
      "id": "9c9ac296",
      "metadata": {
        "id": "9c9ac296"
      },
      "outputs": [],
      "source": [
        "import random\n",
        "import scipy as sp\n",
        "import numpy as np\n",
        "import time\n",
        "from enum import IntEnum\n",
        "\n"
      ]
    },
    {
      "cell_type": "code",
      "execution_count": 2,
      "id": "7631714f",
      "metadata": {
        "id": "7631714f"
      },
      "outputs": [],
      "source": [
        "def counter():\n",
        "    print(\"3\")\n",
        "    time.sleep(1)\n",
        "    print(\"2\")\n",
        "    time.sleep(1)\n",
        "    print(\"1\")\n",
        "    time.sleep(1)"
      ]
    },
    {
      "cell_type": "code",
      "execution_count": 6,
      "id": "c7b81585",
      "metadata": {
        "colab": {
          "base_uri": "https://localhost:8080/"
        },
        "id": "c7b81585",
        "outputId": "eb270287-111a-4d02-ab41-184eff343472"
      },
      "outputs": [
        {
          "name": "stdout",
          "output_type": "stream",
          "text": [
            "Enter : rock, paper, scissors\n",
            "Paper\n",
            "\n",
            "You chose paper, computer chose scissors.\n",
            "\n",
            "Scissors cuts paper! You lose.\n",
            "Play again? (y/n): y\n",
            "Enter : rock, paper, scissors\n",
            "Rock\n",
            "\n",
            "You chose rock, computer chose scissors.\n",
            "\n",
            "Rock smashes scissors! You win!\n",
            "Play again? (y/n): y\n",
            "Enter : rock, paper, scissors\n",
            "Paper\n",
            "\n",
            "You chose paper, computer chose paper.\n",
            "\n",
            "Both players selected paper. It's a tie!\n",
            "Play again? (y/n): y\n",
            "Enter : rock, paper, scissors\n",
            "Scissors\n",
            "\n",
            "You chose scissors, computer chose scissors.\n",
            "\n",
            "Both players selected scissors. It's a tie!\n",
            "Play again? (y/n): y\n",
            "Enter : rock, paper, scissors\n",
            "Paper\n",
            "\n",
            "You chose paper, computer chose scissors.\n",
            "\n",
            "Scissors cuts paper! You lose.\n",
            "Play again? (y/n): y\n",
            "Enter : rock, paper, scissors\n",
            "Rock\n",
            "\n",
            "You chose rock, computer chose rock.\n",
            "\n",
            "Both players selected rock. It's a tie!\n",
            "Play again? (y/n): y\n",
            "Enter : rock, paper, scissors\n",
            "Scissors\n",
            "\n",
            "You chose scissors, computer chose paper.\n",
            "\n",
            "Scissors cuts paper! You win!\n",
            "Play again? (y/n): n\n"
          ]
        }
      ],
      "source": [
        "# Rock Paper Scissors game without functions\n",
        "\n",
        "# Loops through till terminated by user.\n",
        "while True:\n",
        "        # take the input from user\n",
        "        user_action = input (\"Enter : rock, paper, scissors\\n\").lower()\n",
        "        possible_actions = [\"rock\", \"paper\", \"scissors\"]\n",
        "        # take the input from computer\n",
        "        computer_action = random.choice(possible_actions)\n",
        "        print(f\"\\nYou chose {user_action}, computer chose {computer_action}.\\n\")\n",
        "\n",
        "        if user_action == computer_action:\n",
        "            print(f\"Both players selected {user_action}. It's a tie!\")\n",
        "        elif user_action == \"rock\":\n",
        "            if computer_action == \"scissors\":\n",
        "                print(\"Rock smashes scissors! You win!\")\n",
        "            else:\n",
        "                print(\"Paper covers rock! You lose.\")\n",
        "        elif user_action == \"paper\":\n",
        "            if computer_action == \"rock\":\n",
        "                print(\"Paper covers rock! You win!\")\n",
        "            else:\n",
        "                print(\"Scissors cuts paper! You lose.\")\n",
        "        elif user_action == \"scissors\":\n",
        "            if computer_action == \"paper\":\n",
        "                print(\"Scissors cuts paper! You win!\")\n",
        "            else:\n",
        "                print(\"Rock smashes scissors! You lose.\")\n",
        "# Prompts user to play another round.\n",
        "        play_again = input(\"Play again? (y/n): \")\n",
        "        if play_again.lower() != \"y\":\n",
        "            # Stops Loop from running infinitly\n",
        "            break"
      ]
    },
    {
      "cell_type": "code",
      "execution_count": 7,
      "id": "0acd5817",
      "metadata": {
        "colab": {
          "base_uri": "https://localhost:8080/"
        },
        "id": "0acd5817",
        "outputId": "92428605-8efc-478a-8fb3-5cf85b409617"
      },
      "outputs": [
        {
          "name": "stdout",
          "output_type": "stream",
          "text": [
            "Enter a choice (Rock[0], Paper[1], Scissors[2]): 0\n",
            "Paper beats Rock! You lose.\n",
            "Play again? (y/n): y\n",
            "Enter a choice (Rock[0], Paper[1], Scissors[2]): 2\n",
            "Rock beats Scissors! You lose.\n",
            "Play again? (y/n): y\n",
            "Enter a choice (Rock[0], Paper[1], Scissors[2]): 1\n",
            "Paper beats Rock! You win!\n",
            "Play again? (y/n): n\n"
          ]
        }
      ],
      "source": [
        "# Rock Paper Scissors game with Functions\n",
        "\n",
        "# Created a integer connection in regards to available in game choices. Makes it easier for the user to pick a choice rather than type a whole string.\n",
        "class Action(IntEnum):\n",
        "    Rock = 0\n",
        "    Paper = 1\n",
        "    Scissors = 2\n",
        "    \n",
        "#Variable determines logic for winning the game\n",
        "victories = {\n",
        "    Action.Scissors: [Action.Paper],\n",
        "    Action.Paper: [Action.Rock],\n",
        "    Action.Rock: [Action.Scissors],\n",
        "    \n",
        "}\n",
        "\n",
        "# take the input from user\n",
        "def get_user_selection():\n",
        "    choices = [f\"{action.name}[{action.value}]\" for action in Action]\n",
        "    choices_str = \", \".join(choices)\n",
        "    selection = int(input(f\"Enter a choice ({choices_str}): \"))\n",
        "    action = Action(selection)\n",
        "    return action\n",
        "\n",
        "# take the input from computer\n",
        "def get_computer_selection():\n",
        "    selection = random.randint(0, len(Action) - 1)\n",
        "    action = Action(selection)\n",
        "    return action\n",
        "\n",
        "# function decides winner based on victories variable\n",
        "def determine_winner(user_action, computer_action):\n",
        "    defeats = victories[user_action]\n",
        "    if user_action == computer_action:\n",
        "        print(f\"Both players selected {user_action.name}. It's a tie!\")\n",
        "    elif computer_action in defeats:\n",
        "        print(f\"{user_action.name} beats {computer_action.name}! You win!\")\n",
        "    else:\n",
        "        print(f\"{computer_action.name} beats {user_action.name}! You lose.\")\n",
        "\n",
        "# Creates loop logic in the game bases on both players inputs\n",
        "while True:\n",
        "    try:\n",
        "        user_action = get_user_selection()\n",
        "    except ValueError as e:\n",
        "        range_str = f\"[0, {len(Action) - 1}]\"\n",
        "        print(f\"Invalid selection. Enter a value in range {range_str}\")\n",
        "        continue\n",
        "\n",
        "    computer_action = get_computer_selection()\n",
        "    determine_winner(user_action, computer_action)\n",
        "\n",
        "# Prompts users to play a fresh game or exit\n",
        "    play_again = input(\"Play again? (y/n): \")\n",
        "    if play_again.lower() != \"y\":\n",
        "        break"
      ]
    }
  ],
  "metadata": {
    "kernelspec": {
      "display_name": "Python 3 (ipykernel)",
      "language": "python",
      "name": "python3"
    },
    "language_info": {
      "codemirror_mode": {
        "name": "ipython",
        "version": 3
      },
      "file_extension": ".py",
      "mimetype": "text/x-python",
      "name": "python",
      "nbconvert_exporter": "python",
      "pygments_lexer": "ipython3",
      "version": "3.9.7"
    },
    "colab": {
      "name": "Rock, Paper, Scissors.ipynb",
      "provenance": [],
      "include_colab_link": true
    }
  },
  "nbformat": 4,
  "nbformat_minor": 5
}