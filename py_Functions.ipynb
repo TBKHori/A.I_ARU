{
  "cells": [
    {
      "cell_type": "markdown",
      "metadata": {
        "id": "view-in-github",
        "colab_type": "text"
      },
      "source": [
        "<a href=\"https://colab.research.google.com/github/TBKHori/A.I_ARU/blob/main/py_Functions.ipynb\" target=\"_parent\"><img src=\"https://colab.research.google.com/assets/colab-badge.svg\" alt=\"Open In Colab\"/></a>"
      ]
    },
    {
      "cell_type": "code",
      "execution_count": null,
      "id": "d4cdf810",
      "metadata": {
        "id": "d4cdf810"
      },
      "outputs": [],
      "source": [
        "import numpy as np\n",
        "np.random.seed(12345)\n",
        "np.set_printoptions(precision=4, suppress=True)"
      ]
    },
    {
      "cell_type": "code",
      "execution_count": null,
      "id": "0d0b1583",
      "metadata": {
        "id": "0d0b1583",
        "outputId": "080e17e7-2a8e-4a5f-f4b5-b6506f94e7ed"
      },
      "outputs": [
        {
          "name": "stdout",
          "output_type": "stream",
          "text": [
            "Hello world\n"
          ]
        }
      ],
      "source": [
        "print('Hello world')"
      ]
    },
    {
      "cell_type": "code",
      "execution_count": null,
      "id": "079dc880",
      "metadata": {
        "id": "079dc880",
        "outputId": "8d4385dc-184d-4517-9c30-8c0d71da84f3"
      },
      "outputs": [
        {
          "data": {
            "text/plain": [
              "{0: -0.20470765948471295,\n",
              " 1: 0.47894333805754824,\n",
              " 2: -0.5194387150567381,\n",
              " 3: -0.55573030434749,\n",
              " 4: 1.9657805725027142,\n",
              " 5: 1.3934058329729904,\n",
              " 6: 0.09290787674371767}"
            ]
          },
          "execution_count": 4,
          "metadata": {},
          "output_type": "execute_result"
        }
      ],
      "source": [
        "import numpy as np\n",
        "data = {i : np.random.randn() for i in range(7)}\n",
        "data"
      ]
    },
    {
      "cell_type": "code",
      "execution_count": null,
      "id": "2b52753c",
      "metadata": {
        "id": "2b52753c"
      },
      "outputs": [],
      "source": [
        "def rocket_parts():\n",
        "    print(\"payload, propellant, structure\")"
      ]
    },
    {
      "cell_type": "code",
      "execution_count": null,
      "id": "fcbf44d0",
      "metadata": {
        "id": "fcbf44d0"
      },
      "outputs": [],
      "source": [
        ">>> rocket_parts()\n",
        "'payload, propellant, structure'"
      ]
    },
    {
      "cell_type": "code",
      "execution_count": null,
      "id": "a9089ddf",
      "metadata": {
        "id": "a9089ddf"
      },
      "outputs": [],
      "source": [
        "output = rocket_parts()\n",
        "payload, propellant, structure\n",
        ">>> output is None\n",
        "True"
      ]
    },
    {
      "cell_type": "code",
      "execution_count": null,
      "id": "491e6f9a",
      "metadata": {
        "id": "491e6f9a",
        "outputId": "aa121de9-fca7-4c37-d6ef-e5dcd2eaa568"
      },
      "outputs": [
        {
          "data": {
            "text/plain": [
              "'payload, propellant, structure'"
            ]
          },
          "execution_count": 1,
          "metadata": {},
          "output_type": "execute_result"
        }
      ],
      "source": [
        ">>> def rocket_parts():\n",
        "...     return \"payload, propellant, structure\"\n",
        "...\n",
        ">>> output = rocket_parts()\n",
        ">>> output\n",
        "'payload, propellant, structure'"
      ]
    },
    {
      "cell_type": "code",
      "execution_count": null,
      "id": "361b41f1",
      "metadata": {
        "id": "361b41f1"
      },
      "outputs": [],
      "source": [
        "def rocket_parts():\n",
        "        return \"payload, propellant, structure\""
      ]
    },
    {
      "cell_type": "code",
      "execution_count": null,
      "id": "28ed7455",
      "metadata": {
        "id": "28ed7455",
        "outputId": "1e8227f2-18b7-4db9-a01f-55bbd201b722"
      },
      "outputs": [
        {
          "data": {
            "text/plain": [
              "'payload, propellant, structure'"
            ]
          },
          "execution_count": 28,
          "metadata": {},
          "output_type": "execute_result"
        }
      ],
      "source": [
        "output = rocket_parts()\n",
        "output\n",
        "'payload, propellant, structure'"
      ]
    },
    {
      "cell_type": "code",
      "execution_count": null,
      "id": "3663b47d",
      "metadata": {
        "id": "3663b47d",
        "outputId": "e936d834-0336-4e0b-cca0-2c40ac622551"
      },
      "outputs": [
        {
          "data": {
            "text/plain": [
              "True"
            ]
          },
          "execution_count": 24,
          "metadata": {},
          "output_type": "execute_result"
        }
      ],
      "source": [
        " any([True, False, False])"
      ]
    },
    {
      "cell_type": "code",
      "execution_count": null,
      "id": "56883a82",
      "metadata": {
        "id": "56883a82",
        "outputId": "053ee32f-de27-4b9a-fa74-f602c8b78076"
      },
      "outputs": [
        {
          "data": {
            "text/plain": [
              "False"
            ]
          },
          "execution_count": 25,
          "metadata": {},
          "output_type": "execute_result"
        }
      ],
      "source": [
        "any([False, False, False])\n"
      ]
    },
    {
      "cell_type": "code",
      "execution_count": null,
      "id": "95dc2ead",
      "metadata": {
        "id": "95dc2ead"
      },
      "outputs": [],
      "source": [
        "an_apple = 27"
      ]
    },
    {
      "cell_type": "code",
      "execution_count": null,
      "id": "b8b9e6a2",
      "metadata": {
        "id": "b8b9e6a2"
      },
      "outputs": [],
      "source": [
        "an_example = 42"
      ]
    },
    {
      "cell_type": "code",
      "execution_count": null,
      "id": "1d359ac6",
      "metadata": {
        "id": "1d359ac6",
        "outputId": "6e7524d5-56c6-4132-ac06-55f50b474a04"
      },
      "outputs": [
        {
          "data": {
            "text/plain": [
              "[1, 2, 3]"
            ]
          },
          "execution_count": 14,
          "metadata": {},
          "output_type": "execute_result"
        }
      ],
      "source": [
        " b = [1, 2, 3]\n",
        " b"
      ]
    },
    {
      "cell_type": "code",
      "execution_count": null,
      "id": "90cc5f0c",
      "metadata": {
        "id": "90cc5f0c"
      },
      "outputs": [],
      "source": [
        " import datetime"
      ]
    },
    {
      "cell_type": "code",
      "execution_count": null,
      "id": "cd71fcd1",
      "metadata": {
        "id": "cd71fcd1",
        "outputId": "5a49919e-0f24-4d3d-ed0c-40a3ae0bdc7d"
      },
      "outputs": [
        {
          "name": "stdout",
          "output_type": "stream",
          "text": [
            "\u001b[1;31mType:\u001b[0m        list\n",
            "\u001b[1;31mString form:\u001b[0m [1, 2, 3]\n",
            "\u001b[1;31mLength:\u001b[0m      3\n",
            "\u001b[1;31mDocstring:\u001b[0m  \n",
            "Built-in mutable sequence.\n",
            "\n",
            "If no argument is given, the constructor creates a new empty list.\n",
            "The argument must be an iterable if specified.\n"
          ]
        }
      ],
      "source": [
        "b?"
      ]
    },
    {
      "cell_type": "code",
      "execution_count": null,
      "id": "9726e909",
      "metadata": {
        "id": "9726e909"
      },
      "outputs": [],
      "source": [
        "def add_numbers(a, b):\n",
        "    \"\"\"\n",
        "    Add two numbers together\n",
        "\n",
        "    Returns\n",
        "    -------\n",
        "    the_sum : type of arguments\n",
        "    \"\"\"\n",
        "    return a + b"
      ]
    },
    {
      "cell_type": "code",
      "execution_count": null,
      "id": "16a8d6ca",
      "metadata": {
        "id": "16a8d6ca",
        "outputId": "e37e6724-c5c3-43d9-97aa-8fcec70012bf"
      },
      "outputs": [
        {
          "name": "stdout",
          "output_type": "stream",
          "text": [
            "\u001b[1;31mSignature:\u001b[0m \u001b[0madd_numbers\u001b[0m\u001b[1;33m(\u001b[0m\u001b[0ma\u001b[0m\u001b[1;33m,\u001b[0m \u001b[0mb\u001b[0m\u001b[1;33m)\u001b[0m\u001b[1;33m\u001b[0m\u001b[1;33m\u001b[0m\u001b[0m\n",
            "\u001b[1;31mDocstring:\u001b[0m\n",
            "Add two numbers together\n",
            "\n",
            "Returns\n",
            "-------\n",
            "the_sum : type of arguments\n",
            "\u001b[1;31mFile:\u001b[0m      c:\\users\\lenovo\\appdata\\local\\temp\\ipykernel_24412\\1411870314.py\n",
            "\u001b[1;31mType:\u001b[0m      function\n"
          ]
        }
      ],
      "source": [
        " add_numbers?"
      ]
    },
    {
      "cell_type": "code",
      "execution_count": null,
      "id": "651a5766",
      "metadata": {
        "id": "651a5766",
        "outputId": "b7cf75b8-65b2-404c-a9be-b572105559cb"
      },
      "outputs": [
        {
          "data": {
            "text/plain": [
              "''"
            ]
          },
          "execution_count": 21,
          "metadata": {},
          "output_type": "execute_result"
        }
      ],
      "source": [
        "str()"
      ]
    },
    {
      "cell_type": "code",
      "execution_count": null,
      "id": "133c8f45",
      "metadata": {
        "id": "133c8f45",
        "outputId": "37d80479-13aa-4ac2-9fe5-dfe996c0c4cb"
      },
      "outputs": [
        {
          "data": {
            "text/plain": [
              "'15'"
            ]
          },
          "execution_count": 22,
          "metadata": {},
          "output_type": "execute_result"
        }
      ],
      "source": [
        "str(15)"
      ]
    },
    {
      "cell_type": "code",
      "execution_count": null,
      "id": "ce28471d",
      "metadata": {
        "id": "ce28471d"
      },
      "outputs": [],
      "source": [
        "def distance_from_earth(destination):\n",
        "    if destination == \"Moon\":\n",
        "        return \"238,855\"\n",
        "    else:\n",
        "        return \"Unable to compute to that destination\""
      ]
    },
    {
      "cell_type": "code",
      "execution_count": null,
      "id": "86ad6847",
      "metadata": {
        "id": "86ad6847",
        "outputId": "2dfa3216-a452-41d8-c61a-8f91e501b09e"
      },
      "outputs": [
        {
          "ename": "TypeError",
          "evalue": "distance_from_earth() missing 1 required positional argument: 'destination'",
          "output_type": "error",
          "traceback": [
            "\u001b[1;31m---------------------------------------------------------------------------\u001b[0m",
            "\u001b[1;31mTypeError\u001b[0m                                 Traceback (most recent call last)",
            "\u001b[1;32m~\\AppData\\Local\\Temp/ipykernel_5204/24775916.py\u001b[0m in \u001b[0;36m<module>\u001b[1;34m\u001b[0m\n\u001b[1;32m----> 1\u001b[1;33m \u001b[0mdistance_from_earth\u001b[0m\u001b[1;33m(\u001b[0m\u001b[1;33m)\u001b[0m\u001b[1;33m\u001b[0m\u001b[1;33m\u001b[0m\u001b[0m\n\u001b[0m",
            "\u001b[1;31mTypeError\u001b[0m: distance_from_earth() missing 1 required positional argument: 'destination'"
          ]
        }
      ],
      "source": [
        ">>> distance_from_earth()"
      ]
    },
    {
      "cell_type": "code",
      "execution_count": null,
      "id": "12905926",
      "metadata": {
        "id": "12905926",
        "outputId": "df0663c0-f7dd-4c5c-c32c-fa96699fd1f8"
      },
      "outputs": [
        {
          "data": {
            "text/plain": [
              "'238,855'"
            ]
          },
          "execution_count": 9,
          "metadata": {},
          "output_type": "execute_result"
        }
      ],
      "source": [
        ">>> distance_from_earth(\"Moon\")\n"
      ]
    },
    {
      "cell_type": "code",
      "execution_count": null,
      "id": "7e90d188",
      "metadata": {
        "id": "7e90d188",
        "outputId": "9dc24be0-7398-483e-88fb-934ce4561e73"
      },
      "outputs": [
        {
          "data": {
            "text/plain": [
              "'Unable to compute to that destination'"
            ]
          },
          "execution_count": 5,
          "metadata": {},
          "output_type": "execute_result"
        }
      ],
      "source": [
        ">>> distance_from_earth(\"Saturn\")\n",
        "'Unable to compute to that destination'"
      ]
    },
    {
      "cell_type": "code",
      "execution_count": null,
      "id": "ca9273ff",
      "metadata": {
        "id": "ca9273ff"
      },
      "outputs": [],
      "source": [
        "def days_to_complete(distance, speed):\n",
        "    hours = distance/speed\n",
        "    return hours/24"
      ]
    },
    {
      "cell_type": "code",
      "execution_count": null,
      "id": "4ef1f498",
      "metadata": {
        "id": "4ef1f498",
        "outputId": "36afc7a3-fadb-4798-e766-818242b554d6"
      },
      "outputs": [
        {
          "data": {
            "text/plain": [
              "132.69722222222222"
            ]
          },
          "execution_count": 8,
          "metadata": {},
          "output_type": "execute_result"
        }
      ],
      "source": [
        ">>> days_to_complete(238855, 75)\n"
      ]
    },
    {
      "cell_type": "code",
      "execution_count": null,
      "id": "264f7dba",
      "metadata": {
        "id": "264f7dba"
      },
      "outputs": [],
      "source": [
        ""
      ]
    }
  ],
  "metadata": {
    "kernelspec": {
      "display_name": "Python 3 (ipykernel)",
      "language": "python",
      "name": "python3"
    },
    "language_info": {
      "codemirror_mode": {
        "name": "ipython",
        "version": 3
      },
      "file_extension": ".py",
      "mimetype": "text/x-python",
      "name": "python",
      "nbconvert_exporter": "python",
      "pygments_lexer": "ipython3",
      "version": "3.9.7"
    },
    "colab": {
      "name": "py Functions.ipynb",
      "provenance": [],
      "collapsed_sections": [],
      "include_colab_link": true
    }
  },
  "nbformat": 4,
  "nbformat_minor": 5
}