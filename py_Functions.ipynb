{
  "cells": [
    {
      "cell_type": "markdown",
      "metadata": {
        "id": "view-in-github",
        "colab_type": "text"
      },
      "source": [
        "<a href=\"https://colab.research.google.com/github/TBKHori/A.I_ARU/blob/main/py_Functions.ipynb\" target=\"_parent\"><img src=\"https://colab.research.google.com/assets/colab-badge.svg\" alt=\"Open In Colab\"/></a>"
      ]
    },
    {
      "cell_type": "code",
      "execution_count": null,
      "id": "d4cdf810",
      "metadata": {
        "id": "d4cdf810"
      },
      "outputs": [],
      "source": [
        "import numpy as np\n",
        "np.random.seed(12345)\n",
        "np.set_printoptions(precision=4, suppress=True)"
      ]
    },
    {
      "cell_type": "code",
      "execution_count": null,
      "id": "0d0b1583",
      "metadata": {
        "id": "0d0b1583",
        "outputId": "bfe0a99c-b818-472a-eb34-3a69c8dcc94e"
      },
      "outputs": [
        {
          "name": "stdout",
          "output_type": "stream",
          "text": [
            "Hello world\n"
          ]
        }
      ],
      "source": [
        "print('Hello world')"
      ]
    },
    {
      "cell_type": "code",
      "execution_count": null,
      "id": "079dc880",
      "metadata": {
        "id": "079dc880",
        "outputId": "6543de09-8e92-4610-c180-c2692288423e"
      },
      "outputs": [
        {
          "data": {
            "text/plain": [
              "{0: -0.20470765948471295,\n",
              " 1: 0.47894333805754824,\n",
              " 2: -0.5194387150567381,\n",
              " 3: -0.55573030434749,\n",
              " 4: 1.9657805725027142,\n",
              " 5: 1.3934058329729904,\n",
              " 6: 0.09290787674371767}"
            ]
          },
          "execution_count": 4,
          "metadata": {},
          "output_type": "execute_result"
        }
      ],
      "source": [
        "import numpy as np\n",
        "data = {i : np.random.randn() for i in range(7)}\n",
        "data"
      ]
    },
    {
      "cell_type": "code",
      "execution_count": null,
      "id": "2b52753c",
      "metadata": {
        "id": "2b52753c"
      },
      "outputs": [],
      "source": [
        "def rocket_parts():\n",
        "    print(\"payload, propellant, structure\")"
      ]
    },
    {
      "cell_type": "code",
      "execution_count": null,
      "id": "fcbf44d0",
      "metadata": {
        "id": "fcbf44d0"
      },
      "outputs": [],
      "source": [
        ">>> rocket_parts()\n",
        "'payload, propellant, structure'"
      ]
    },
    {
      "cell_type": "code",
      "execution_count": null,
      "id": "a9089ddf",
      "metadata": {
        "id": "a9089ddf"
      },
      "outputs": [],
      "source": [
        "output = rocket_parts()\n",
        "payload, propellant, structure\n",
        ">>> output is None\n",
        "True"
      ]
    },
    {
      "cell_type": "code",
      "execution_count": null,
      "id": "491e6f9a",
      "metadata": {
        "id": "491e6f9a",
        "outputId": "ad502d3b-ac83-42d3-cfa9-775ae86eebe1"
      },
      "outputs": [
        {
          "data": {
            "text/plain": [
              "'payload, propellant, structure'"
            ]
          },
          "execution_count": 1,
          "metadata": {},
          "output_type": "execute_result"
        }
      ],
      "source": [
        ">>> def rocket_parts():\n",
        "...     return \"payload, propellant, structure\"\n",
        "...\n",
        ">>> output = rocket_parts()\n",
        ">>> output\n",
        "'payload, propellant, structure'"
      ]
    },
    {
      "cell_type": "code",
      "execution_count": null,
      "id": "361b41f1",
      "metadata": {
        "id": "361b41f1"
      },
      "outputs": [],
      "source": [
        "def rocket_parts():\n",
        "        return \"payload, propellant, structure\""
      ]
    },
    {
      "cell_type": "code",
      "execution_count": null,
      "id": "28ed7455",
      "metadata": {
        "id": "28ed7455",
        "outputId": "c536b430-bcd9-4ce9-88b6-e10c86867fc7"
      },
      "outputs": [
        {
          "data": {
            "text/plain": [
              "'payload, propellant, structure'"
            ]
          },
          "execution_count": 28,
          "metadata": {},
          "output_type": "execute_result"
        }
      ],
      "source": [
        "output = rocket_parts()\n",
        "output\n",
        "'payload, propellant, structure'"
      ]
    },
    {
      "cell_type": "code",
      "execution_count": null,
      "id": "3663b47d",
      "metadata": {
        "id": "3663b47d",
        "outputId": "bfdf3111-4c67-4a82-c173-2d3bcb56ccf6"
      },
      "outputs": [
        {
          "data": {
            "text/plain": [
              "True"
            ]
          },
          "execution_count": 24,
          "metadata": {},
          "output_type": "execute_result"
        }
      ],
      "source": [
        " any([True, False, False])"
      ]
    },
    {
      "cell_type": "code",
      "execution_count": null,
      "id": "56883a82",
      "metadata": {
        "id": "56883a82",
        "outputId": "7e0e4d9c-5564-4f11-ce5e-ef259e2c5f8a"
      },
      "outputs": [
        {
          "data": {
            "text/plain": [
              "False"
            ]
          },
          "execution_count": 25,
          "metadata": {},
          "output_type": "execute_result"
        }
      ],
      "source": [
        "any([False, False, False])\n"
      ]
    },
    {
      "cell_type": "code",
      "execution_count": null,
      "id": "95dc2ead",
      "metadata": {
        "id": "95dc2ead"
      },
      "outputs": [],
      "source": [
        "an_apple = 27"
      ]
    },
    {
      "cell_type": "code",
      "execution_count": null,
      "id": "b8b9e6a2",
      "metadata": {
        "id": "b8b9e6a2"
      },
      "outputs": [],
      "source": [
        "an_example = 42"
      ]
    },
    {
      "cell_type": "code",
      "execution_count": null,
      "id": "1d359ac6",
      "metadata": {
        "id": "1d359ac6",
        "outputId": "ea3161f5-46a3-4d18-933e-cfdec0d7ec2f"
      },
      "outputs": [
        {
          "data": {
            "text/plain": [
              "[1, 2, 3]"
            ]
          },
          "execution_count": 14,
          "metadata": {},
          "output_type": "execute_result"
        }
      ],
      "source": [
        " b = [1, 2, 3]\n",
        " b"
      ]
    },
    {
      "cell_type": "code",
      "execution_count": null,
      "id": "90cc5f0c",
      "metadata": {
        "id": "90cc5f0c"
      },
      "outputs": [],
      "source": [
        " import datetime"
      ]
    },
    {
      "cell_type": "code",
      "execution_count": null,
      "id": "cd71fcd1",
      "metadata": {
        "id": "cd71fcd1",
        "outputId": "19fb2453-cd78-49d6-b23d-97d3938af87f"
      },
      "outputs": [
        {
          "name": "stdout",
          "output_type": "stream",
          "text": [
            "\u001b[1;31mType:\u001b[0m        list\n",
            "\u001b[1;31mString form:\u001b[0m [1, 2, 3]\n",
            "\u001b[1;31mLength:\u001b[0m      3\n",
            "\u001b[1;31mDocstring:\u001b[0m  \n",
            "Built-in mutable sequence.\n",
            "\n",
            "If no argument is given, the constructor creates a new empty list.\n",
            "The argument must be an iterable if specified.\n"
          ]
        }
      ],
      "source": [
        "b?"
      ]
    },
    {
      "cell_type": "code",
      "execution_count": null,
      "id": "9726e909",
      "metadata": {
        "id": "9726e909"
      },
      "outputs": [],
      "source": [
        "def add_numbers(a, b):\n",
        "    \"\"\"\n",
        "    Add two numbers together\n",
        "\n",
        "    Returns\n",
        "    -------\n",
        "    the_sum : type of arguments\n",
        "    \"\"\"\n",
        "    return a + b"
      ]
    },
    {
      "cell_type": "code",
      "execution_count": null,
      "id": "16a8d6ca",
      "metadata": {
        "id": "16a8d6ca",
        "outputId": "71f67b29-e235-4102-8d37-cd08ef7483fd"
      },
      "outputs": [
        {
          "name": "stdout",
          "output_type": "stream",
          "text": [
            "\u001b[1;31mSignature:\u001b[0m \u001b[0madd_numbers\u001b[0m\u001b[1;33m(\u001b[0m\u001b[0ma\u001b[0m\u001b[1;33m,\u001b[0m \u001b[0mb\u001b[0m\u001b[1;33m)\u001b[0m\u001b[1;33m\u001b[0m\u001b[1;33m\u001b[0m\u001b[0m\n",
            "\u001b[1;31mDocstring:\u001b[0m\n",
            "Add two numbers together\n",
            "\n",
            "Returns\n",
            "-------\n",
            "the_sum : type of arguments\n",
            "\u001b[1;31mFile:\u001b[0m      c:\\users\\lenovo\\appdata\\local\\temp\\ipykernel_24412\\1411870314.py\n",
            "\u001b[1;31mType:\u001b[0m      function\n"
          ]
        }
      ],
      "source": [
        " add_numbers?"
      ]
    },
    {
      "cell_type": "code",
      "execution_count": null,
      "id": "651a5766",
      "metadata": {
        "id": "651a5766",
        "outputId": "851faccc-ce02-410d-bf8e-c44ee04ee770"
      },
      "outputs": [
        {
          "data": {
            "text/plain": [
              "''"
            ]
          },
          "execution_count": 21,
          "metadata": {},
          "output_type": "execute_result"
        }
      ],
      "source": [
        "str()"
      ]
    },
    {
      "cell_type": "code",
      "execution_count": null,
      "id": "133c8f45",
      "metadata": {
        "id": "133c8f45",
        "outputId": "5178076f-ec9c-4ebb-b10c-21cc65e8f62f"
      },
      "outputs": [
        {
          "data": {
            "text/plain": [
              "'15'"
            ]
          },
          "execution_count": 22,
          "metadata": {},
          "output_type": "execute_result"
        }
      ],
      "source": [
        "str(15)"
      ]
    },
    {
      "cell_type": "code",
      "execution_count": null,
      "id": "ce28471d",
      "metadata": {
        "id": "ce28471d"
      },
      "outputs": [],
      "source": [
        "def distance_from_earth(destination):\n",
        "    if destination == \"Moon\":\n",
        "        return \"238,855\"\n",
        "    else:\n",
        "        return \"Unable to compute to that destination\""
      ]
    },
    {
      "cell_type": "code",
      "execution_count": null,
      "id": "86ad6847",
      "metadata": {
        "id": "86ad6847",
        "outputId": "17fc4e11-bd37-4dcf-9080-d4f81f48e1b8"
      },
      "outputs": [
        {
          "ename": "TypeError",
          "evalue": "distance_from_earth() missing 1 required positional argument: 'destination'",
          "output_type": "error",
          "traceback": [
            "\u001b[1;31m---------------------------------------------------------------------------\u001b[0m",
            "\u001b[1;31mTypeError\u001b[0m                                 Traceback (most recent call last)",
            "\u001b[1;32m~\\AppData\\Local\\Temp/ipykernel_5204/24775916.py\u001b[0m in \u001b[0;36m<module>\u001b[1;34m\u001b[0m\n\u001b[1;32m----> 1\u001b[1;33m \u001b[0mdistance_from_earth\u001b[0m\u001b[1;33m(\u001b[0m\u001b[1;33m)\u001b[0m\u001b[1;33m\u001b[0m\u001b[1;33m\u001b[0m\u001b[0m\n\u001b[0m",
            "\u001b[1;31mTypeError\u001b[0m: distance_from_earth() missing 1 required positional argument: 'destination'"
          ]
        }
      ],
      "source": [
        ">>> distance_from_earth()"
      ]
    },
    {
      "cell_type": "code",
      "execution_count": null,
      "id": "12905926",
      "metadata": {
        "id": "12905926",
        "outputId": "1d7a967c-1f94-4171-c88e-d708d8efb0ef"
      },
      "outputs": [
        {
          "data": {
            "text/plain": [
              "'238,855'"
            ]
          },
          "execution_count": 9,
          "metadata": {},
          "output_type": "execute_result"
        }
      ],
      "source": [
        ">>> distance_from_earth(\"Moon\")\n"
      ]
    },
    {
      "cell_type": "code",
      "execution_count": null,
      "id": "7e90d188",
      "metadata": {
        "id": "7e90d188",
        "outputId": "995f3287-aa55-4191-c123-b165b41bbbc5"
      },
      "outputs": [
        {
          "data": {
            "text/plain": [
              "'Unable to compute to that destination'"
            ]
          },
          "execution_count": 5,
          "metadata": {},
          "output_type": "execute_result"
        }
      ],
      "source": [
        ">>> distance_from_earth(\"Saturn\")\n",
        "'Unable to compute to that destination'"
      ]
    },
    {
      "cell_type": "code",
      "execution_count": null,
      "id": "ca9273ff",
      "metadata": {
        "id": "ca9273ff"
      },
      "outputs": [],
      "source": [
        "def days_to_complete(distance, speed):\n",
        "    hours = distance/speed\n",
        "    return hours/24"
      ]
    },
    {
      "cell_type": "code",
      "execution_count": null,
      "id": "4ef1f498",
      "metadata": {
        "id": "4ef1f498",
        "outputId": "351e536b-02ae-4e18-a551-368094d7be84"
      },
      "outputs": [
        {
          "data": {
            "text/plain": [
              "132.69722222222222"
            ]
          },
          "execution_count": 8,
          "metadata": {},
          "output_type": "execute_result"
        }
      ],
      "source": [
        ">>> days_to_complete(238855, 75)\n"
      ]
    },
    {
      "cell_type": "code",
      "execution_count": null,
      "id": "264f7dba",
      "metadata": {
        "id": "264f7dba",
        "outputId": "8fc98528-971a-4c45-873d-542f701ba583"
      },
      "outputs": [
        {
          "data": {
            "text/plain": [
              "133"
            ]
          },
          "execution_count": 12,
          "metadata": {},
          "output_type": "execute_result"
        }
      ],
      "source": [
        ">>> total_days = days_to_complete(238855, 75)\n",
        ">>> round(total_days)\n",
        "133"
      ]
    },
    {
      "cell_type": "code",
      "execution_count": null,
      "id": "cac3ba37",
      "metadata": {
        "id": "cac3ba37"
      },
      "outputs": [],
      "source": [
        ">>> def generate_report(main_tank, external_tank, hydrogen_tank):\n",
        "    output = f\"\"\"Fuel Report:\n",
        "    Main tank: {main_tank}\n",
        "    External tank: {external_tank}\n",
        "    Hydrogen tank: {hydrogen_tank} \n",
        "    \"\"\"\n",
        "    print(output)"
      ]
    },
    {
      "cell_type": "code",
      "execution_count": null,
      "id": "0bee8123",
      "metadata": {
        "id": "0bee8123",
        "outputId": "dedb6268-0d74-4df1-f675-08eb14eea101"
      },
      "outputs": [
        {
          "name": "stdout",
          "output_type": "stream",
          "text": [
            "Fuel Report:\n",
            "    Main tank: 80\n",
            "    External tank: 70\n",
            "    Hydrogen tank: 75 \n",
            "    \n"
          ]
        }
      ],
      "source": [
        "generate_report(80, 70, 75)"
      ]
    },
    {
      "cell_type": "code",
      "execution_count": null,
      "id": "8ac390e3",
      "metadata": {
        "id": "8ac390e3"
      },
      "outputs": [],
      "source": [
        "from datetime import timedelta, datetime\n",
        "\n",
        "def arrival_time(hours=51):\n",
        "    now = datetime.now()\n",
        "    arrival = now + timedelta(hours=hours)\n",
        "    return arrival.strftime(\"Arrival: %A %H:%M\")\n",
        "\n"
      ]
    },
    {
      "cell_type": "code",
      "execution_count": null,
      "id": "54bbe7b0",
      "metadata": {
        "id": "54bbe7b0",
        "outputId": "c73cdc3a-4033-4440-a197-bb63c44e2009"
      },
      "outputs": [
        {
          "data": {
            "text/plain": [
              "'Arrival: Friday 02:49'"
            ]
          },
          "execution_count": 3,
          "metadata": {},
          "output_type": "execute_result"
        }
      ],
      "source": [
        ">>> arrival_time()"
      ]
    },
    {
      "cell_type": "code",
      "execution_count": null,
      "id": "a53d45e1",
      "metadata": {
        "id": "a53d45e1",
        "outputId": "9cc199cd-dcb7-457b-a60c-62bf5b5a5ead"
      },
      "outputs": [
        {
          "data": {
            "text/plain": [
              "'Arrival: Tuesday 23:49'"
            ]
          },
          "execution_count": 4,
          "metadata": {},
          "output_type": "execute_result"
        }
      ],
      "source": [
        ">>> arrival_time(hours=0)\n"
      ]
    },
    {
      "cell_type": "code",
      "execution_count": null,
      "id": "0033e2c4",
      "metadata": {
        "id": "0033e2c4"
      },
      "outputs": [],
      "source": [
        "from datetime import timedelta, datetime\n",
        "\n",
        "def arrival_time(destination, hours=51):\n",
        "    now = datetime.now()\n",
        "    arrival = now + timedelta(hours=hours)\n",
        "    return arrival.strftime(f\"{destination} Arrival: %A %H:%M\")"
      ]
    },
    {
      "cell_type": "code",
      "execution_count": null,
      "id": "f71c0f3a",
      "metadata": {
        "id": "f71c0f3a",
        "outputId": "ec51caf2-135a-4e6a-d66f-35ed2b93b732"
      },
      "outputs": [
        {
          "ename": "SyntaxError",
          "evalue": "invalid syntax (Temp/ipykernel_7256/3062737992.py, line 2)",
          "output_type": "error",
          "traceback": [
            "\u001b[1;36m  File \u001b[1;32m\"C:\\Users\\LENOVO\\AppData\\Local\\Temp/ipykernel_7256/3062737992.py\"\u001b[1;36m, line \u001b[1;32m2\u001b[0m\n\u001b[1;33m    Traceback (most recent call last):\u001b[0m\n\u001b[1;37m                    ^\u001b[0m\n\u001b[1;31mSyntaxError\u001b[0m\u001b[1;31m:\u001b[0m invalid syntax\n"
          ]
        }
      ],
      "source": [
        ">>> arrival_time()\n",
        "Traceback (most recent call last):\n",
        "  File \"<stdin>\", line 1, in <module>\n",
        "TypeError: arrival_time() missing 1 required positional argument: 'destination'"
      ]
    },
    {
      "cell_type": "code",
      "execution_count": null,
      "id": "84cc2ffd",
      "metadata": {
        "id": "84cc2ffd",
        "outputId": "217e4fa4-ad83-44e1-b976-0bcb75e71601"
      },
      "outputs": [
        {
          "data": {
            "text/plain": [
              "'Moon Arrival: Saturday 02:51'"
            ]
          },
          "execution_count": 10,
          "metadata": {},
          "output_type": "execute_result"
        }
      ],
      "source": [
        ">>> arrival_time(\"Moon\")"
      ]
    },
    {
      "cell_type": "code",
      "execution_count": null,
      "id": "48c67dbe",
      "metadata": {
        "id": "48c67dbe",
        "outputId": "9f76c7f0-913e-4ca1-8b56-5e7ba6113b51"
      },
      "outputs": [
        {
          "data": {
            "text/plain": [
              "'Orbit Arrival: Wednesday 23:59'"
            ]
          },
          "execution_count": 11,
          "metadata": {},
          "output_type": "execute_result"
        }
      ],
      "source": [
        ">>> arrival_time(\"Orbit\", hours=0.13)"
      ]
    },
    {
      "cell_type": "code",
      "execution_count": null,
      "id": "deee0738",
      "metadata": {
        "id": "deee0738"
      },
      "outputs": [],
      "source": [
        "def variable_length(*args):\n",
        "    print(args)"
      ]
    },
    {
      "cell_type": "code",
      "execution_count": null,
      "id": "ced5ef4d",
      "metadata": {
        "id": "ced5ef4d",
        "outputId": "56c6398b-7a80-42cf-cb29-feddff62f9c4"
      },
      "outputs": [
        {
          "name": "stdout",
          "output_type": "stream",
          "text": [
            "()\n",
            "('one', 'two')\n",
            "(None,)\n"
          ]
        },
        {
          "data": {
            "text/plain": [
              "(None,)"
            ]
          },
          "execution_count": 13,
          "metadata": {},
          "output_type": "execute_result"
        }
      ],
      "source": [
        ">>> variable_length()\n",
        "()\n",
        ">>> variable_length(\"one\", \"two\")\n",
        "('one', 'two')\n",
        ">>> variable_length(None)\n",
        "(None,)"
      ]
    },
    {
      "cell_type": "code",
      "execution_count": null,
      "id": "eab4b7a6",
      "metadata": {
        "id": "eab4b7a6"
      },
      "outputs": [],
      "source": [
        ">>> #(a) - Function calling/ writing style for coprate ind"
      ]
    },
    {
      "cell_type": "code",
      "execution_count": null,
      "id": "f3fe9274",
      "metadata": {
        "id": "f3fe9274"
      },
      "outputs": [],
      "source": [
        "def sequence_time(*args):\n",
        "    total_minutes = sum(args)\n",
        "    if total_minutes < 60:\n",
        "        return f\"Total time to launch is {total_minutes} minutes\"\n",
        "    else:\n",
        "        return f\"Total time to launch is {total_minutes/60} hours\""
      ]
    },
    {
      "cell_type": "code",
      "execution_count": null,
      "id": "a5d9992e",
      "metadata": {
        "id": "a5d9992e",
        "outputId": "2b38d52a-b2d5-43fd-ab18-c57b64970640"
      },
      "outputs": [
        {
          "data": {
            "text/plain": [
              "'Total time to launch is 1.1 hours'"
            ]
          },
          "execution_count": 22,
          "metadata": {},
          "output_type": "execute_result"
        }
      ],
      "source": [
        ">>> sequence_time(4, 14, 18)\n",
        "'Total time to launch is 36 minutes' \n",
        ">>> sequence_time(4, 14, 48)\n",
        "'Total time to launch is 1.1 hours'"
      ]
    },
    {
      "cell_type": "code",
      "execution_count": null,
      "id": "e044b03a",
      "metadata": {
        "id": "e044b03a"
      },
      "outputs": [],
      "source": [
        "def variable_length(**kwargs):\n",
        "    print(kwargs)"
      ]
    },
    {
      "cell_type": "code",
      "execution_count": null,
      "id": "1d36f789",
      "metadata": {
        "id": "1d36f789",
        "outputId": "8f1cbc15-a3bd-4200-af29-43ea4cab8259"
      },
      "outputs": [
        {
          "name": "stdout",
          "output_type": "stream",
          "text": [
            "{'tanks': 1, 'day': 'Wednesday', 'pilots': 3}\n"
          ]
        },
        {
          "data": {
            "text/plain": [
              "{'tanks': 1, 'day': 'Wednesday', 'pilots': 3}"
            ]
          },
          "execution_count": 20,
          "metadata": {},
          "output_type": "execute_result"
        }
      ],
      "source": [
        ">>> variable_length(tanks=1, day=\"Wednesday\", pilots=3)\n",
        "{'tanks': 1, 'day': 'Wednesday', 'pilots': 3}"
      ]
    },
    {
      "cell_type": "code",
      "execution_count": null,
      "id": "9c4e4927",
      "metadata": {
        "id": "9c4e4927"
      },
      "outputs": [],
      "source": [
        ""
      ]
    }
  ],
  "metadata": {
    "kernelspec": {
      "display_name": "Python 3 (ipykernel)",
      "language": "python",
      "name": "python3"
    },
    "language_info": {
      "codemirror_mode": {
        "name": "ipython",
        "version": 3
      },
      "file_extension": ".py",
      "mimetype": "text/x-python",
      "name": "python",
      "nbconvert_exporter": "python",
      "pygments_lexer": "ipython3",
      "version": "3.9.7"
    },
    "colab": {
      "name": "py Functions.ipynb",
      "provenance": [],
      "include_colab_link": true
    }
  },
  "nbformat": 4,
  "nbformat_minor": 5
}