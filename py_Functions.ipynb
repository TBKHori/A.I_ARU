{
  "cells": [
    {
      "cell_type": "markdown",
      "metadata": {
        "id": "view-in-github",
        "colab_type": "text"
      },
      "source": [
        "<a href=\"https://colab.research.google.com/github/TBKHori/A.I_ARU/blob/main/py_Functions.ipynb\" target=\"_parent\"><img src=\"https://colab.research.google.com/assets/colab-badge.svg\" alt=\"Open In Colab\"/></a>"
      ]
    },
    {
      "cell_type": "code",
      "execution_count": null,
      "id": "d4cdf810",
      "metadata": {
        "id": "d4cdf810"
      },
      "outputs": [],
      "source": [
        "import numpy as np\n",
        "np.random.seed(12345)\n",
        "np.set_printoptions(precision=4, suppress=True)"
      ]
    },
    {
      "cell_type": "code",
      "execution_count": null,
      "id": "0d0b1583",
      "metadata": {
        "id": "0d0b1583",
        "outputId": "6dbe1b5b-f9c1-432e-937e-5fa9d27a5b00"
      },
      "outputs": [
        {
          "name": "stdout",
          "output_type": "stream",
          "text": [
            "Hello world\n"
          ]
        }
      ],
      "source": [
        "print('Hello world')"
      ]
    },
    {
      "cell_type": "code",
      "execution_count": null,
      "id": "079dc880",
      "metadata": {
        "id": "079dc880",
        "outputId": "b4cc66c8-e0eb-425b-cb22-8289d709ef9f"
      },
      "outputs": [
        {
          "data": {
            "text/plain": [
              "{0: -0.20470765948471295,\n",
              " 1: 0.47894333805754824,\n",
              " 2: -0.5194387150567381,\n",
              " 3: -0.55573030434749,\n",
              " 4: 1.9657805725027142,\n",
              " 5: 1.3934058329729904,\n",
              " 6: 0.09290787674371767}"
            ]
          },
          "execution_count": 4,
          "metadata": {},
          "output_type": "execute_result"
        }
      ],
      "source": [
        "import numpy as np\n",
        "data = {i : np.random.randn() for i in range(7)}\n",
        "data"
      ]
    },
    {
      "cell_type": "code",
      "execution_count": null,
      "id": "2b52753c",
      "metadata": {
        "id": "2b52753c"
      },
      "outputs": [],
      "source": [
        "def rocket_parts():\n",
        "    print(\"payload, propellant, structure\")"
      ]
    },
    {
      "cell_type": "code",
      "execution_count": null,
      "id": "fcbf44d0",
      "metadata": {
        "id": "fcbf44d0"
      },
      "outputs": [],
      "source": [
        ">>> rocket_parts()\n",
        "'payload, propellant, structure'"
      ]
    },
    {
      "cell_type": "code",
      "execution_count": null,
      "id": "a9089ddf",
      "metadata": {
        "id": "a9089ddf"
      },
      "outputs": [],
      "source": [
        "output = rocket_parts()\n",
        "payload, propellant, structure\n",
        ">>> output is None\n",
        "True"
      ]
    },
    {
      "cell_type": "code",
      "execution_count": null,
      "id": "491e6f9a",
      "metadata": {
        "id": "491e6f9a",
        "outputId": "b9738a36-0bcb-48af-a610-0a498acef5a1"
      },
      "outputs": [
        {
          "data": {
            "text/plain": [
              "'payload, propellant, structure'"
            ]
          },
          "execution_count": 1,
          "metadata": {},
          "output_type": "execute_result"
        }
      ],
      "source": [
        ">>> def rocket_parts():\n",
        "...     return \"payload, propellant, structure\"\n",
        "...\n",
        ">>> output = rocket_parts()\n",
        ">>> output\n",
        "'payload, propellant, structure'"
      ]
    },
    {
      "cell_type": "code",
      "execution_count": null,
      "id": "361b41f1",
      "metadata": {
        "id": "361b41f1"
      },
      "outputs": [],
      "source": [
        "def rocket_parts():\n",
        "        return \"payload, propellant, structure\""
      ]
    },
    {
      "cell_type": "code",
      "execution_count": null,
      "id": "28ed7455",
      "metadata": {
        "id": "28ed7455",
        "outputId": "eacce6f3-815f-4110-b005-731621d0ee61"
      },
      "outputs": [
        {
          "data": {
            "text/plain": [
              "'payload, propellant, structure'"
            ]
          },
          "execution_count": 28,
          "metadata": {},
          "output_type": "execute_result"
        }
      ],
      "source": [
        "output = rocket_parts()\n",
        "output\n",
        "'payload, propellant, structure'"
      ]
    },
    {
      "cell_type": "code",
      "execution_count": null,
      "id": "3663b47d",
      "metadata": {
        "id": "3663b47d",
        "outputId": "7004999f-575e-4939-e3ec-a956fd2b28dc"
      },
      "outputs": [
        {
          "data": {
            "text/plain": [
              "True"
            ]
          },
          "execution_count": 24,
          "metadata": {},
          "output_type": "execute_result"
        }
      ],
      "source": [
        " any([True, False, False])"
      ]
    },
    {
      "cell_type": "code",
      "execution_count": null,
      "id": "56883a82",
      "metadata": {
        "id": "56883a82",
        "outputId": "2c4dd6ca-6d2c-48b6-ffe4-01a84abce348"
      },
      "outputs": [
        {
          "data": {
            "text/plain": [
              "False"
            ]
          },
          "execution_count": 25,
          "metadata": {},
          "output_type": "execute_result"
        }
      ],
      "source": [
        "any([False, False, False])\n"
      ]
    },
    {
      "cell_type": "code",
      "execution_count": null,
      "id": "95dc2ead",
      "metadata": {
        "id": "95dc2ead"
      },
      "outputs": [],
      "source": [
        "an_apple = 27"
      ]
    },
    {
      "cell_type": "code",
      "execution_count": null,
      "id": "b8b9e6a2",
      "metadata": {
        "id": "b8b9e6a2"
      },
      "outputs": [],
      "source": [
        "an_example = 42"
      ]
    },
    {
      "cell_type": "code",
      "execution_count": null,
      "id": "1d359ac6",
      "metadata": {
        "id": "1d359ac6",
        "outputId": "21e52cfb-0b80-4557-fbe9-bca7d036f901"
      },
      "outputs": [
        {
          "data": {
            "text/plain": [
              "[1, 2, 3]"
            ]
          },
          "execution_count": 14,
          "metadata": {},
          "output_type": "execute_result"
        }
      ],
      "source": [
        " b = [1, 2, 3]\n",
        " b"
      ]
    },
    {
      "cell_type": "code",
      "execution_count": null,
      "id": "90cc5f0c",
      "metadata": {
        "id": "90cc5f0c"
      },
      "outputs": [],
      "source": [
        " import datetime"
      ]
    },
    {
      "cell_type": "code",
      "execution_count": null,
      "id": "cd71fcd1",
      "metadata": {
        "id": "cd71fcd1",
        "outputId": "b730dc1e-14a9-4bba-853c-47e483ac8579"
      },
      "outputs": [
        {
          "name": "stdout",
          "output_type": "stream",
          "text": [
            "\u001b[1;31mType:\u001b[0m        list\n",
            "\u001b[1;31mString form:\u001b[0m [1, 2, 3]\n",
            "\u001b[1;31mLength:\u001b[0m      3\n",
            "\u001b[1;31mDocstring:\u001b[0m  \n",
            "Built-in mutable sequence.\n",
            "\n",
            "If no argument is given, the constructor creates a new empty list.\n",
            "The argument must be an iterable if specified.\n"
          ]
        }
      ],
      "source": [
        "b?"
      ]
    },
    {
      "cell_type": "code",
      "execution_count": null,
      "id": "9726e909",
      "metadata": {
        "id": "9726e909"
      },
      "outputs": [],
      "source": [
        "def add_numbers(a, b):\n",
        "    \"\"\"\n",
        "    Add two numbers together\n",
        "\n",
        "    Returns\n",
        "    -------\n",
        "    the_sum : type of arguments\n",
        "    \"\"\"\n",
        "    return a + b"
      ]
    },
    {
      "cell_type": "code",
      "execution_count": null,
      "id": "16a8d6ca",
      "metadata": {
        "id": "16a8d6ca",
        "outputId": "96c7807a-fe36-4472-b98b-822914b9bc02"
      },
      "outputs": [
        {
          "name": "stdout",
          "output_type": "stream",
          "text": [
            "\u001b[1;31mSignature:\u001b[0m \u001b[0madd_numbers\u001b[0m\u001b[1;33m(\u001b[0m\u001b[0ma\u001b[0m\u001b[1;33m,\u001b[0m \u001b[0mb\u001b[0m\u001b[1;33m)\u001b[0m\u001b[1;33m\u001b[0m\u001b[1;33m\u001b[0m\u001b[0m\n",
            "\u001b[1;31mDocstring:\u001b[0m\n",
            "Add two numbers together\n",
            "\n",
            "Returns\n",
            "-------\n",
            "the_sum : type of arguments\n",
            "\u001b[1;31mFile:\u001b[0m      c:\\users\\lenovo\\appdata\\local\\temp\\ipykernel_24412\\1411870314.py\n",
            "\u001b[1;31mType:\u001b[0m      function\n"
          ]
        }
      ],
      "source": [
        " add_numbers?"
      ]
    },
    {
      "cell_type": "code",
      "execution_count": null,
      "id": "651a5766",
      "metadata": {
        "id": "651a5766",
        "outputId": "74b6f1b4-d7a8-49e0-cf14-055d49289e5f"
      },
      "outputs": [
        {
          "data": {
            "text/plain": [
              "''"
            ]
          },
          "execution_count": 21,
          "metadata": {},
          "output_type": "execute_result"
        }
      ],
      "source": [
        "str()"
      ]
    },
    {
      "cell_type": "code",
      "execution_count": null,
      "id": "133c8f45",
      "metadata": {
        "id": "133c8f45",
        "outputId": "47c5fc1b-c747-4c62-db0e-32f7e84a23b4"
      },
      "outputs": [
        {
          "data": {
            "text/plain": [
              "'15'"
            ]
          },
          "execution_count": 22,
          "metadata": {},
          "output_type": "execute_result"
        }
      ],
      "source": [
        "str(15)"
      ]
    },
    {
      "cell_type": "code",
      "execution_count": null,
      "id": "ce28471d",
      "metadata": {
        "id": "ce28471d"
      },
      "outputs": [],
      "source": [
        ""
      ]
    }
  ],
  "metadata": {
    "kernelspec": {
      "display_name": "Python 3 (ipykernel)",
      "language": "python",
      "name": "python3"
    },
    "language_info": {
      "codemirror_mode": {
        "name": "ipython",
        "version": 3
      },
      "file_extension": ".py",
      "mimetype": "text/x-python",
      "name": "python",
      "nbconvert_exporter": "python",
      "pygments_lexer": "ipython3",
      "version": "3.9.7"
    },
    "colab": {
      "name": "py Functions.ipynb",
      "provenance": [],
      "include_colab_link": true
    }
  },
  "nbformat": 4,
  "nbformat_minor": 5
}