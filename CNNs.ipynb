{
  "cells": [
    {
      "cell_type": "markdown",
      "metadata": {
        "id": "view-in-github",
        "colab_type": "text"
      },
      "source": [
        "<a href=\"https://colab.research.google.com/github/TBKHori/A.I_ARU/blob/main/CNNs.ipynb\" target=\"_parent\"><img src=\"https://colab.research.google.com/assets/colab-badge.svg\" alt=\"Open In Colab\"/></a>"
      ]
    },
    {
      "cell_type": "markdown",
      "metadata": {
        "id": "y_9R4Eh9HDRG"
      },
      "source": [
        "# Develop a Convolutional Neural Network From Scratch for MNIST Handwritten Digit Classification"
      ]
    },
    {
      "cell_type": "markdown",
      "metadata": {
        "id": "dfbgm8HpHDRN"
      },
      "source": [
        "The MNIST handwritten digit classification problem is a standard dataset used in computer vision and deep learning.\n",
        "\n",
        "Although the dataset is effectively solved, it can be used as the basis for learning and practicing how to develop, evaluate, and use convolutional deep learning neural networks for image classification from scratch. This includes how to develop a robust test harness for estimating the performance of the model, how to explore improvements to the model, and how to save the model and later load it to make predictions on new data.\n",
        "\n",
        "The MNIST dataset is an acronym that stands for the Modified National Institute of Standards and Technology dataset.\n",
        "It is a dataset of 60,000 small square 28×28 pixel grayscale images of handwritten single digits between 0 and 9.\n",
        "The task is to classify a given image of a handwritten digit into one of 10 classes representing integer values from 0 to 9, inclusively."
      ]
    },
    {
      "cell_type": "code",
      "execution_count": 1,
      "metadata": {
        "colab": {
          "base_uri": "https://localhost:8080/",
          "height": 17
        },
        "id": "Kp5PuijZHDRP",
        "outputId": "c3dee395-4542-4f75-f65b-b7d2fc616b2b"
      },
      "outputs": [
        {
          "output_type": "execute_result",
          "data": {
            "text/html": [
              "<img src=\"1.png\"/>"
            ],
            "text/plain": [
              "<IPython.core.display.Image object>"
            ]
          },
          "metadata": {},
          "execution_count": 1
        }
      ],
      "source": [
        "from IPython.display import Image\n",
        "Image(url= \"1.png\")"
      ]
    },
    {
      "cell_type": "markdown",
      "metadata": {
        "id": "RoU5Dh9pHDRS"
      },
      "source": [
        "Install the following required Python Libraries. this might take a while. "
      ]
    },
    {
      "cell_type": "code",
      "execution_count": 2,
      "metadata": {
        "colab": {
          "base_uri": "https://localhost:8080/",
          "height": 130
        },
        "id": "YYPXBCXAHDRT",
        "outputId": "cc405d66-fac4-4a17-9797-11971bd0deb8"
      },
      "outputs": [
        {
          "output_type": "error",
          "ename": "SyntaxError",
          "evalue": "ignored",
          "traceback": [
            "\u001b[0;36m  File \u001b[0;32m\"<ipython-input-2-bf5a42c1f43b>\"\u001b[0;36m, line \u001b[0;32m1\u001b[0m\n\u001b[0;31m    conda install pip\u001b[0m\n\u001b[0m                ^\u001b[0m\n\u001b[0;31mSyntaxError\u001b[0m\u001b[0;31m:\u001b[0m invalid syntax\n"
          ]
        }
      ],
      "source": [
        "conda install pip"
      ]
    },
    {
      "cell_type": "code",
      "execution_count": 3,
      "metadata": {
        "colab": {
          "base_uri": "https://localhost:8080/",
          "height": 130
        },
        "id": "vW65qLwOHDRT",
        "outputId": "98b59ebc-9876-44b0-e3a5-0135f9617520"
      },
      "outputs": [
        {
          "output_type": "error",
          "ename": "SyntaxError",
          "evalue": "ignored",
          "traceback": [
            "\u001b[0;36m  File \u001b[0;32m\"<ipython-input-3-21df3187b477>\"\u001b[0;36m, line \u001b[0;32m1\u001b[0m\n\u001b[0;31m    pip install --upgrade tensorflow\u001b[0m\n\u001b[0m              ^\u001b[0m\n\u001b[0;31mSyntaxError\u001b[0m\u001b[0;31m:\u001b[0m invalid syntax\n"
          ]
        }
      ],
      "source": [
        "pip install --upgrade tensorflow\n",
        "pip install Keras"
      ]
    },
    {
      "cell_type": "markdown",
      "metadata": {
        "id": "6biy_OiLHDRU"
      },
      "source": [
        "Import the following Python Libraries.\n",
        "\n",
        "pyplot library allows you create plots.\n",
        "\n",
        "mnist library allows you download and manage mnist dataset.\n",
        "\n",
        "tf tensorflow is the backend of your ANN neural network model.\n",
        "\n"
      ]
    },
    {
      "cell_type": "code",
      "execution_count": null,
      "metadata": {
        "id": "ZUoGX-eVHDRV"
      },
      "outputs": [],
      "source": [
        ""
      ]
    },
    {
      "cell_type": "code",
      "execution_count": 4,
      "metadata": {
        "id": "pKFW8qw-HDRV"
      },
      "outputs": [],
      "source": [
        "from keras.datasets import mnist\n",
        "import tensorflow as tf\n",
        "import matplotlib.pyplot as plt\n",
        "from matplotlib import pyplot\n",
        "import matplotlib.image as img \n",
        "import numpy as np\n",
        "from skimage.transform import rescale, resize"
      ]
    },
    {
      "cell_type": "markdown",
      "metadata": {
        "id": "CAL7_IanHDRW"
      },
      "source": [
        "# Downloading the MNIST Dataset."
      ]
    },
    {
      "cell_type": "markdown",
      "metadata": {
        "id": "mrrWN_YuHDRX"
      },
      "source": [
        "\n",
        "The MNIST dataset is one of the most common datasets used for image classification and accessible from many different sources. In fact, even Tensorflow and Keras allow us to import and download the MNIST dataset directly from their API. Therefore, I will start with the following two lines to import TensorFlow and MNIST dataset under the Keras API.\n",
        "\n",
        "Create your training and testing sample x_train and x_test and their corresponding labels y_train and y_test\n"
      ]
    },
    {
      "cell_type": "code",
      "execution_count": 5,
      "metadata": {
        "colab": {
          "base_uri": "https://localhost:8080/"
        },
        "id": "dCHDkQdoHDRX",
        "outputId": "46ba7433-f2eb-4b57-f9a4-31cad1775ed7"
      },
      "outputs": [
        {
          "output_type": "stream",
          "name": "stdout",
          "text": [
            "Downloading data from https://storage.googleapis.com/tensorflow/tf-keras-datasets/mnist.npz\n",
            "11493376/11490434 [==============================] - 0s 0us/step\n",
            "11501568/11490434 [==============================] - 0s 0us/step\n"
          ]
        }
      ],
      "source": [
        "(x_train, y_train), (x_test, y_test) = tf.keras.datasets.mnist.load_data()"
      ]
    },
    {
      "cell_type": "markdown",
      "metadata": {
        "id": "hl7tAqJlHDRY"
      },
      "source": [
        "Let's Have a look at our data shape and quantity "
      ]
    },
    {
      "cell_type": "code",
      "execution_count": 6,
      "metadata": {
        "colab": {
          "base_uri": "https://localhost:8080/"
        },
        "id": "FhITSs7AHDRY",
        "outputId": "7cdb6546-9373-41de-b0cb-fef1cee47b19"
      },
      "outputs": [
        {
          "output_type": "stream",
          "name": "stdout",
          "text": [
            "Train: X=(60000, 28, 28), y=(60000,)\n",
            "Test: X=(10000, 28, 28), y=(10000,)\n"
          ]
        }
      ],
      "source": [
        "print('Train: X=%s, y=%s' % (x_train.shape, y_train.shape))\n",
        "print('Test: X=%s, y=%s' % (x_test.shape, y_test.shape))"
      ]
    },
    {
      "cell_type": "markdown",
      "metadata": {
        "id": "2Xfx41YSHDRZ"
      },
      "source": [
        "Let's iterate through of our dataset samples and check them out. "
      ]
    },
    {
      "cell_type": "code",
      "execution_count": 7,
      "metadata": {
        "colab": {
          "base_uri": "https://localhost:8080/",
          "height": 268
        },
        "id": "qX_8nxwNHDRZ",
        "outputId": "17c1bca5-8f33-4392-ef4b-7a8335108d05"
      },
      "outputs": [
        {
          "output_type": "display_data",
          "data": {
            "image/png": "[encoded data removed]",
            "text/plain": [
              "<Figure size 432x288 with 9 Axes>"
            ]
          },
          "metadata": {
            "needs_background": "light"
          }
        }
      ],
      "source": [
        "for i in range(9):\n",
        "    pyplot.subplot(330 + 1 + i)\n",
        "    pyplot.imshow(x_train[i], cmap=pyplot.get_cmap('gray'))\n",
        "pyplot.show()"
      ]
    },
    {
      "cell_type": "markdown",
      "metadata": {
        "id": "XTN20EdfHDRa"
      },
      "source": [
        "# Reshaping and Normalizing the Images"
      ]
    },
    {
      "cell_type": "markdown",
      "metadata": {
        "id": "b2vbFPRkHDRa"
      },
      "source": [
        "\n",
        "To be able to use the dataset in Keras API, we need 4-dims NumPy arrays. However, as we see above, our array is 3-dims. In addition, we must normalize our data as it is always required in neural network models. We can achieve this by dividing the RGB codes to 255 (which is the maximum RGB code minus the minimum RGB code). This can be done with the following code:"
      ]
    },
    {
      "cell_type": "markdown",
      "metadata": {
        "id": "S1TUiimKHDRb"
      },
      "source": [
        "Adding an extra dimension to our data. The extra dimension takes care of the image batch size."
      ]
    },
    {
      "cell_type": "code",
      "execution_count": 8,
      "metadata": {
        "id": "AN8jed8rHDRb"
      },
      "outputs": [],
      "source": [
        "x_train = x_train.reshape(x_train.shape[0], 28, 28, 1)\n",
        "x_test = x_test.reshape(x_test.shape[0], 28, 28, 1)\n",
        "input_shape = (28, 28, 1)"
      ]
    },
    {
      "cell_type": "markdown",
      "metadata": {
        "id": "A4CFemOyHDRc"
      },
      "source": [
        "Let’s convert our images to NumPy array. This allows simple application of arithmetic operation. "
      ]
    },
    {
      "cell_type": "code",
      "execution_count": 9,
      "metadata": {
        "id": "6VCHUegOHDRc"
      },
      "outputs": [],
      "source": [
        "x_train = x_train.astype('float32')\n",
        "x_test = x_test.astype('float32')"
      ]
    },
    {
      "cell_type": "markdown",
      "metadata": {
        "id": "GE1Cd4PyHDRd"
      },
      "source": [
        "we must normalize our data as it is always required in neural network models. We can achieve this by dividing the RGB codes to 255 (which is the maximum RGB code minus the minimum RGB code)"
      ]
    },
    {
      "cell_type": "code",
      "execution_count": 10,
      "metadata": {
        "colab": {
          "base_uri": "https://localhost:8080/"
        },
        "id": "UYTTZ-GdHDRd",
        "outputId": "30287502-fa8b-4bb9-fc54-922b3e74b7de"
      },
      "outputs": [
        {
          "output_type": "stream",
          "name": "stdout",
          "text": [
            "x_train shape: (60000, 28, 28, 1)\n",
            "Number of images in x_train 60000\n",
            "Number of images in x_test 10000\n"
          ]
        }
      ],
      "source": [
        "x_train /= 255\n",
        "x_test /= 255\n",
        "print('x_train shape:', x_train.shape)\n",
        "print('Number of images in x_train', x_train.shape[0])\n",
        "print('Number of images in x_test', x_test.shape[0])"
      ]
    },
    {
      "cell_type": "markdown",
      "metadata": {
        "id": "ZOqKkO16HDRe"
      },
      "source": [
        "Let’s import Keras libraries that allow us to build our very first neural network model. "
      ]
    },
    {
      "cell_type": "code",
      "execution_count": 11,
      "metadata": {
        "id": "-1R1hW_ZHDRe"
      },
      "outputs": [],
      "source": [
        "from tensorflow.keras.models import Sequential\n",
        "from tensorflow.keras.layers import Dense, Conv2D, Dropout, Flatten, MaxPooling2D"
      ]
    },
    {
      "cell_type": "markdown",
      "metadata": {
        "id": "NYuNFp7SHDRe"
      },
      "source": [
        "This is how we create CNNs models in Keras. this particular example shows a very simple Sequential model which includes a Convolutional layer, Maxpooling layer, A fully connected flattening layer, a normal fully connected (dense) layer and at the end a softmax layer which converts the logits to probabilities for prediction.  "
      ]
    },
    {
      "cell_type": "code",
      "execution_count": 12,
      "metadata": {
        "colab": {
          "base_uri": "https://localhost:8080/"
        },
        "id": "LKFBNHSVHDRe",
        "outputId": "449f5064-74dc-47cc-a815-9c66071c1e40"
      },
      "outputs": [
        {
          "output_type": "stream",
          "name": "stdout",
          "text": [
            "Model: \"sequential\"\n",
            "_________________________________________________________________\n",
            " Layer (type)                Output Shape              Param #   \n",
            "=================================================================\n",
            " conv2d (Conv2D)             (None, 26, 26, 28)        280       \n",
            "                                                                 \n",
            " max_pooling2d (MaxPooling2D  (None, 13, 13, 28)       0         \n",
            " )                                                               \n",
            "                                                                 \n",
            " flatten (Flatten)           (None, 4732)              0         \n",
            "                                                                 \n",
            " dense (Dense)               (None, 128)               605824    \n",
            "                                                                 \n",
            " dropout (Dropout)           (None, 128)               0         \n",
            "                                                                 \n",
            " dense_1 (Dense)             (None, 10)                1290      \n",
            "                                                                 \n",
            "=================================================================\n",
            "Total params: 607,394\n",
            "Trainable params: 607,394\n",
            "Non-trainable params: 0\n",
            "_________________________________________________________________\n",
            "None\n"
          ]
        }
      ],
      "source": [
        "model = Sequential()\n",
        "model.add(Conv2D(28, kernel_size=(3,3), input_shape=input_shape))\n",
        "model.add(MaxPooling2D(pool_size=(2, 2)))\n",
        "model.add(Flatten()) # Flattening the 2D arrays for fully connected layers\n",
        "model.add(Dense(128, activation=tf.nn.relu))\n",
        "model.add(Dropout(0.2))\n",
        "model.add(Dense(10,activation=tf.nn.softmax))\n",
        "print(model.summary())"
      ]
    },
    {
      "cell_type": "markdown",
      "metadata": {
        "id": "RVdwbNgmHDRf"
      },
      "source": [
        "Let's compile our model. Assigning the optimizer [Stochastic Gradian Descend], loss function and our desired evaluation metrics. "
      ]
    },
    {
      "cell_type": "code",
      "execution_count": 13,
      "metadata": {
        "id": "5opxB0wJHDRf"
      },
      "outputs": [],
      "source": [
        "model.compile(optimizer='sgd', loss='sparse_categorical_crossentropy', metrics=['accuracy'])\n"
      ]
    },
    {
      "cell_type": "markdown",
      "metadata": {
        "id": "MCn_l4AzHDRg"
      },
      "source": [
        "Let's start trainig our model for 5 epochs (5 rounds of feedforward and backpropagation over the entire dataset). This is gonna take a while. "
      ]
    },
    {
      "cell_type": "code",
      "execution_count": 14,
      "metadata": {
        "colab": {
          "base_uri": "https://localhost:8080/"
        },
        "id": "5XmgxkopHDRg",
        "outputId": "884c8e21-a562-4553-c973-77eb0481efa6"
      },
      "outputs": [
        {
          "output_type": "stream",
          "name": "stdout",
          "text": [
            "Epoch 1/5\n",
            "1875/1875 [==============================] - 21s 11ms/step - loss: 0.5227 - accuracy: 0.8534\n",
            "Epoch 2/5\n",
            "1875/1875 [==============================] - 20s 11ms/step - loss: 0.2325 - accuracy: 0.9312\n",
            "Epoch 3/5\n",
            "1875/1875 [==============================] - 20s 11ms/step - loss: 0.1803 - accuracy: 0.9470\n",
            "Epoch 4/5\n",
            "1875/1875 [==============================] - 20s 11ms/step - loss: 0.1519 - accuracy: 0.9549\n",
            "Epoch 5/5\n",
            "1875/1875 [==============================] - 20s 11ms/step - loss: 0.1329 - accuracy: 0.9607\n"
          ]
        },
        {
          "output_type": "execute_result",
          "data": {
            "text/plain": [
              "<keras.callbacks.History at 0x7fbdc77aac90>"
            ]
          },
          "metadata": {},
          "execution_count": 14
        }
      ],
      "source": [
        "model.fit(x=x_train,y=y_train, epochs=5)"
      ]
    },
    {
      "cell_type": "markdown",
      "metadata": {
        "id": "HMj1B_ZuHDRg"
      },
      "source": [
        "Let's put out trained model into a real test by evaluating its performance against unseen data from the testing set. "
      ]
    },
    {
      "cell_type": "code",
      "execution_count": 15,
      "metadata": {
        "colab": {
          "base_uri": "https://localhost:8080/"
        },
        "id": "ymbcp5hHHDRg",
        "outputId": "ee87821d-0f92-43f5-a4d6-371da471950f"
      },
      "outputs": [
        {
          "output_type": "stream",
          "name": "stdout",
          "text": [
            "313/313 [==============================] - 1s 4ms/step - loss: 0.1017 - accuracy: 0.9701\n"
          ]
        },
        {
          "output_type": "execute_result",
          "data": {
            "text/plain": [
              "[0.10170059651136398, 0.9700999855995178]"
            ]
          },
          "metadata": {},
          "execution_count": 15
        }
      ],
      "source": [
        "model.evaluate(x_test, y_test)"
      ]
    },
    {
      "cell_type": "markdown",
      "metadata": {
        "id": "7aCE2eZ7HDRh"
      },
      "source": [
        "The results are pretty good for 5 epochs and for such a simple model. We have achieved over 96% accuracy with such a basic model at such a short time. "
      ]
    },
    {
      "cell_type": "markdown",
      "metadata": {
        "id": "BCEhZD5IHDRh"
      },
      "source": [
        "Let's make individual predictions using our own hand writing. Open MS paint, create a small square-ish work space and draw your desired number using black colour."
      ]
    },
    {
      "cell_type": "code",
      "execution_count": 16,
      "metadata": {
        "colab": {
          "base_uri": "https://localhost:8080/",
          "height": 17
        },
        "id": "x8pKkWkKHDRh",
        "outputId": "830f7ba8-b68e-4110-e286-8a6aceeed02f"
      },
      "outputs": [
        {
          "output_type": "execute_result",
          "data": {
            "text/html": [
              "<img src=\"paint.png\"/>"
            ],
            "text/plain": [
              "<IPython.core.display.Image object>"
            ]
          },
          "metadata": {},
          "execution_count": 16
        }
      ],
      "source": [
        "Image(url= \"paint.png\")"
      ]
    },
    {
      "cell_type": "markdown",
      "metadata": {
        "id": "2i6H5iUwHDRi"
      },
      "source": [
        "Store your masterpiece as a \"sample.png\" file and upload it to your jupyter Notebook work space, in the same directory as this file."
      ]
    },
    {
      "cell_type": "code",
      "execution_count": 17,
      "metadata": {
        "colab": {
          "base_uri": "https://localhost:8080/",
          "height": 17
        },
        "id": "EvS5KMmiHDRi",
        "outputId": "cc289643-7fca-409e-e921-05c13bf2b533"
      },
      "outputs": [
        {
          "output_type": "execute_result",
          "data": {
            "text/html": [
              "<img src=\"3.png\"/>"
            ],
            "text/plain": [
              "<IPython.core.display.Image object>"
            ]
          },
          "metadata": {},
          "execution_count": 17
        }
      ],
      "source": [
        "Image(url= \"3.png\")"
      ]
    },
    {
      "cell_type": "code",
      "execution_count": 18,
      "metadata": {
        "id": "71JLW5ujHDRj"
      },
      "outputs": [],
      "source": [
        "my_img = img.imread('sample2.png')"
      ]
    },
    {
      "cell_type": "code",
      "execution_count": 19,
      "metadata": {
        "id": "Vvb9w59tHDRj"
      },
      "outputs": [],
      "source": [
        "r, g, b = my_img[:,:,0], my_img[:,:,1], my_img[:,:,2]\n",
        "gray_img = 0.2989 * r + 0.5870 * g + 0.1140 * b"
      ]
    },
    {
      "cell_type": "code",
      "execution_count": 20,
      "metadata": {
        "colab": {
          "base_uri": "https://localhost:8080/",
          "height": 282
        },
        "id": "_ROeC009HDRj",
        "outputId": "f6e92f7f-c900-4e0e-d262-0235de72582c"
      },
      "outputs": [
        {
          "output_type": "execute_result",
          "data": {
            "text/plain": [
              "<matplotlib.image.AxesImage at 0x7fbdc5db7b90>"
            ]
          },
          "metadata": {},
          "execution_count": 20
        },
        {
          "output_type": "display_data",
          "data": {
            "image/png": "[encoded data removed]",
            "text/plain": [
              "<Figure size 432x288 with 1 Axes>"
            ]
          },
          "metadata": {
            "needs_background": "light"
          }
        }
      ],
      "source": [
        "image_resized_gray = resize(gray_img,(28,28))\n",
        "plt.imshow(image_resized_gray, cmap='gray')"
      ]
    },
    {
      "cell_type": "markdown",
      "metadata": {
        "id": "3NbEXpyLHDRj"
      },
      "source": [
        "Checkout the prediction of our nifty model"
      ]
    },
    {
      "cell_type": "code",
      "execution_count": 21,
      "metadata": {
        "colab": {
          "base_uri": "https://localhost:8080/"
        },
        "id": "quxDVdBVHDRk",
        "outputId": "ab16000e-366f-46a3-a62a-14f0246ff2da"
      },
      "outputs": [
        {
          "output_type": "stream",
          "name": "stdout",
          "text": [
            "It seems to be  2\n"
          ]
        }
      ],
      "source": [
        "pred = model.predict(image_resized_gray.reshape(1, 28, 28, 1))\n",
        "print(\"It seems to be \", pred.argmax())"
      ]
    },
    {
      "cell_type": "code",
      "execution_count": null,
      "metadata": {
        "id": "YYqyHZy9HDRk"
      },
      "outputs": [],
      "source": [
        ""
      ]
    }
  ],
  "metadata": {
    "kernelspec": {
      "display_name": "Python 3",
      "language": "python",
      "name": "python3"
    },
    "language_info": {
      "codemirror_mode": {
        "name": "ipython",
        "version": 3
      },
      "file_extension": ".py",
      "mimetype": "text/x-python",
      "name": "python",
      "nbconvert_exporter": "python",
      "pygments_lexer": "ipython3",
      "version": "3.8.3"
    },
    "colab": {
      "name": "CNNs.ipynb",
      "provenance": [],
      "include_colab_link": true
    }
  },
  "nbformat": 4,
  "nbformat_minor": 0
}