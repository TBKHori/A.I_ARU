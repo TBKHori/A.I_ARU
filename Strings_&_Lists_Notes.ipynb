{
  "cells": [
    {
      "cell_type": "markdown",
      "metadata": {
        "id": "view-in-github",
        "colab_type": "text"
      },
      "source": [
        "<a href=\"https://colab.research.google.com/github/TBKHori/A.I_ARU/blob/main/Strings_%26_Lists_Notes.ipynb\" target=\"_parent\"><img src=\"https://colab.research.google.com/assets/colab-badge.svg\" alt=\"Open In Colab\"/></a>"
      ]
    },
    {
      "cell_type": "code",
      "execution_count": null,
      "id": "35d44153",
      "metadata": {
        "id": "35d44153",
        "outputId": "6c3cad0f-a54f-4429-b559-7ae01b3a4189"
      },
      "outputs": [
        {
          "data": {
            "text/plain": [
              "[100, 200, 300]"
            ]
          },
          "execution_count": 1,
          "metadata": {},
          "output_type": "execute_result"
        }
      ],
      "source": [
        "# simple numeric list\n",
        "[100,200,300]"
      ]
    },
    {
      "cell_type": "code",
      "execution_count": null,
      "id": "9822c2bf",
      "metadata": {
        "id": "9822c2bf",
        "outputId": "6ba798ab-9bf9-4e39-bae3-808916c0be58"
      },
      "outputs": [
        {
          "data": {
            "text/plain": [
              "['test', 100, [1, 2]]"
            ]
          },
          "execution_count": 2,
          "metadata": {},
          "output_type": "execute_result"
        }
      ],
      "source": [
        "# A mixed list\n",
        "['test',100,[1,2]]"
      ]
    },
    {
      "cell_type": "code",
      "execution_count": null,
      "id": "94a4b436",
      "metadata": {
        "id": "94a4b436",
        "outputId": "2a6182e1-cd46-4bda-cd6f-9ff4f0a89e93"
      },
      "outputs": [
        {
          "data": {
            "text/plain": [
              "['abc', 'def', 'ghi']"
            ]
          },
          "execution_count": 3,
          "metadata": {},
          "output_type": "execute_result"
        }
      ],
      "source": [
        "# A list variable\n",
        "my_list = ['abc','def','ghi']\n",
        "my_list"
      ]
    },
    {
      "cell_type": "code",
      "execution_count": null,
      "id": "7ca316ce",
      "metadata": {
        "id": "7ca316ce"
      },
      "outputs": [],
      "source": [
        "# Add new data to list using append() method\n",
        "my_list.append('test')"
      ]
    },
    {
      "cell_type": "code",
      "execution_count": null,
      "id": "2ba36105",
      "metadata": {
        "id": "2ba36105",
        "outputId": "e035966c-a86f-4b93-c250-699fbe278b80"
      },
      "outputs": [
        {
          "data": {
            "text/plain": [
              "['abc', 'def', 'ghi', 'test']"
            ]
          },
          "execution_count": 5,
          "metadata": {},
          "output_type": "execute_result"
        }
      ],
      "source": [
        "# Show the complete list\n",
        "my_list"
      ]
    },
    {
      "cell_type": "code",
      "execution_count": null,
      "id": "88261969",
      "metadata": {
        "id": "88261969",
        "outputId": "e1c4f371-ea06-4dc9-8ec3-4143f056acc7"
      },
      "outputs": [
        {
          "data": {
            "text/plain": [
              "'abc'"
            ]
          },
          "execution_count": 6,
          "metadata": {},
          "output_type": "execute_result"
        }
      ],
      "source": [
        "# Print the first element of the list\n",
        "my_list[0]"
      ]
    },
    {
      "cell_type": "code",
      "execution_count": null,
      "id": "3ed6cad7",
      "metadata": {
        "id": "3ed6cad7",
        "outputId": "66faf1d6-5833-4bf7-d2c1-0e1fb99349f9"
      },
      "outputs": [
        {
          "data": {
            "text/plain": [
              "'def'"
            ]
          },
          "execution_count": 7,
          "metadata": {},
          "output_type": "execute_result"
        }
      ],
      "source": [
        "# Print the second element of the list.\n",
        "my_list[1]"
      ]
    },
    {
      "cell_type": "code",
      "execution_count": null,
      "id": "0dea3a91",
      "metadata": {
        "id": "0dea3a91",
        "outputId": "23ba921e-f12b-438a-d539-3926ea56014c"
      },
      "outputs": [
        {
          "data": {
            "text/plain": [
              "['def', 'ghi', 'test']"
            ]
          },
          "execution_count": 8,
          "metadata": {},
          "output_type": "execute_result"
        }
      ],
      "source": [
        "# Select a portion of the list starting from second element\n",
        "my_list[1:]"
      ]
    },
    {
      "cell_type": "code",
      "execution_count": null,
      "id": "3d08e309",
      "metadata": {
        "id": "3d08e309",
        "outputId": "2478f4fb-c61d-4feb-b4d5-3463d1791969"
      },
      "outputs": [
        {
          "data": {
            "text/plain": [
              "['abc', 'def']"
            ]
          },
          "execution_count": 9,
          "metadata": {},
          "output_type": "execute_result"
        }
      ],
      "source": [
        "# Select a portion of the list from beginning to third element of the list.\n",
        "my_list[:2]"
      ]
    },
    {
      "cell_type": "code",
      "execution_count": null,
      "id": "25854970",
      "metadata": {
        "id": "25854970"
      },
      "outputs": [],
      "source": [
        "# Change the first element of the list.\n",
        "my_list[0] = 'NEW'"
      ]
    },
    {
      "cell_type": "code",
      "execution_count": null,
      "id": "1b83495d",
      "metadata": {
        "id": "1b83495d",
        "outputId": "20076fa5-21f1-45c2-97ed-d63d7a514e4b"
      },
      "outputs": [
        {
          "data": {
            "text/plain": [
              "['NEW', 'def', 'ghi', 'test']"
            ]
          },
          "execution_count": 12,
          "metadata": {},
          "output_type": "execute_result"
        }
      ],
      "source": [
        "my_list"
      ]
    },
    {
      "cell_type": "code",
      "execution_count": null,
      "id": "7638897b",
      "metadata": {
        "id": "7638897b",
        "outputId": "9d7df845-e38d-423b-be52-65d2df8b44b6"
      },
      "outputs": [
        {
          "data": {
            "text/plain": [
              "[1, 2, 3, [4, 5, ['test']]]"
            ]
          },
          "execution_count": 13,
          "metadata": {},
          "output_type": "execute_result"
        }
      ],
      "source": [
        "# A nested list\n",
        "nested_list = [1,2,3,[4,5,['test']]]\n",
        "nested_list"
      ]
    },
    {
      "cell_type": "code",
      "execution_count": null,
      "id": "3a7b2c47",
      "metadata": {
        "id": "3a7b2c47",
        "outputId": "38161d33-8bda-4af8-be91-2f6d942704c4"
      },
      "outputs": [
        {
          "data": {
            "text/plain": [
              "[4, 5, ['test']]"
            ]
          },
          "execution_count": 14,
          "metadata": {},
          "output_type": "execute_result"
        }
      ],
      "source": [
        "# Select fourth element of a nested list.\n",
        "nested_list[3]"
      ]
    },
    {
      "cell_type": "code",
      "execution_count": null,
      "id": "4d94bebc",
      "metadata": {
        "id": "4d94bebc",
        "outputId": "75ac5a5d-bcf5-4faa-de8a-ee4b5e5cd27f"
      },
      "outputs": [
        {
          "data": {
            "text/plain": [
              "['test']"
            ]
          },
          "execution_count": 15,
          "metadata": {},
          "output_type": "execute_result"
        }
      ],
      "source": [
        "# Select the third element of the fourth element of the nested list.\n",
        "nested_list[3][2]"
      ]
    },
    {
      "cell_type": "code",
      "execution_count": null,
      "id": "a3bef165",
      "metadata": {
        "id": "a3bef165",
        "outputId": "786330b7-cf1c-4921-87c1-8f35c78e5866"
      },
      "outputs": [
        {
          "data": {
            "text/plain": [
              "'test'"
            ]
          },
          "execution_count": 16,
          "metadata": {},
          "output_type": "execute_result"
        }
      ],
      "source": [
        "# Show only the content of the element above instead of as a list.\n",
        "nested_list[3][2][0]"
      ]
    },
    {
      "cell_type": "code",
      "execution_count": null,
      "id": "e0fc0e98",
      "metadata": {
        "id": "e0fc0e98",
        "outputId": "84d3a3d9-6edf-45f5-dc8d-678c684c908a"
      },
      "outputs": [
        {
          "name": "stdout",
          "output_type": "stream",
          "text": [
            "[[25, 25, 25, 25, 25], [25, 25, 25, 25, 25], [25, 25, 25, 25, 25], [25, 25, 25, 25, 25], [25, 25, 25, 25, 25]]\n"
          ]
        }
      ],
      "source": [
        "\"\"\" Try Out: Create a 5X5 matrix using numbers 1 to 25 with nested lists. Access the middle\n",
        "elements in the matrix. Try all the methods learned till now to manipulate this list\"\"\"\n",
        "\n",
        "n = 5\n",
        "m = 5\n",
        "# Missing logic\n",
        "\n",
        "val = [0] * n\n",
        "for x in range (n):\n",
        "    val[x] = [25] * m\n",
        "print(val)"
      ]
    },
    {
      "cell_type": "code",
      "execution_count": null,
      "id": "75f47490",
      "metadata": {
        "id": "75f47490",
        "outputId": "7342cc8f-720d-4416-97f0-56c1b10c2330"
      },
      "outputs": [
        {
          "data": {
            "text/plain": [
              "[[1,\n",
              "  2,\n",
              "  3,\n",
              "  ['tricky', ['oh', 'man', 'inception', ['target', [1, 2, 3, 'hello']]]]]]"
            ]
          },
          "execution_count": 28,
          "metadata": {},
          "output_type": "execute_result"
        }
      ],
      "source": [
        "\"\"\" Try Out: Given this nested list grab the word “hello”. Be prepared, this will be annoying/tricky. \"\"\"\n",
        "d = ['k1',[1,2,3,['tricky',['oh','man','inception',['target',[1,2,3,'hello']]]]]]\n",
        "d[5:-6:-5]"
      ]
    },
    {
      "cell_type": "code",
      "execution_count": null,
      "id": "af112ddf",
      "metadata": {
        "id": "af112ddf",
        "outputId": "88517ab2-f3e4-4f33-eae7-5d6e85d548c6"
      },
      "outputs": [
        {
          "data": {
            "text/plain": [
              "'s'"
            ]
          },
          "execution_count": 43,
          "metadata": {},
          "output_type": "execute_result"
        }
      ],
      "source": [
        "mystr = \"This is a python string\"\n",
        "# Get a value at index 3\n",
        "mystr[3]"
      ]
    },
    {
      "cell_type": "code",
      "execution_count": null,
      "id": "363e83af",
      "metadata": {
        "id": "363e83af",
        "outputId": "a803853f-7408-46a2-966e-6eb83774d197"
      },
      "outputs": [
        {
          "data": {
            "text/plain": [
              "'python'"
            ]
          },
          "execution_count": 44,
          "metadata": {},
          "output_type": "execute_result"
        }
      ],
      "source": [
        "#Get a slice of the string with \"python\"\n",
        "mystr[10:16]"
      ]
    },
    {
      "cell_type": "code",
      "execution_count": null,
      "id": "c87bd682",
      "metadata": {
        "id": "c87bd682",
        "outputId": "226ed7f5-21a5-4a3c-f681-c720b217b590"
      },
      "outputs": [
        {
          "data": {
            "text/plain": [
              "'Ti sapto tig'"
            ]
          },
          "execution_count": 45,
          "metadata": {},
          "output_type": "execute_result"
        }
      ],
      "source": [
        "#Get a slice of the string with \"python\"\n",
        "mystr[0::2]"
      ]
    },
    {
      "cell_type": "code",
      "execution_count": null,
      "id": "39cd62f7",
      "metadata": {
        "id": "39cd62f7",
        "outputId": "8d319acc-50e0-4374-f96c-419d5f4eda4d"
      },
      "outputs": [
        {
          "data": {
            "text/plain": [
              "'g'"
            ]
          },
          "execution_count": 46,
          "metadata": {},
          "output_type": "execute_result"
        }
      ],
      "source": [
        "#Get the last letter of the string\n",
        "mystr[-1]"
      ]
    },
    {
      "cell_type": "code",
      "execution_count": null,
      "id": "983cef0d",
      "metadata": {
        "id": "983cef0d",
        "outputId": "2e204d31-85cb-4f31-8c99-5036478fe21a"
      },
      "outputs": [
        {
          "data": {
            "text/plain": [
              "'gnirts nohtyp a si sihT'"
            ]
          },
          "execution_count": 47,
          "metadata": {},
          "output_type": "execute_result"
        }
      ],
      "source": [
        "#Reverse the string\n",
        "mystr[::-1]"
      ]
    },
    {
      "cell_type": "code",
      "execution_count": null,
      "id": "621249fe",
      "metadata": {
        "id": "621249fe",
        "outputId": "dd9cf553-78ea-4560-e30a-e658353e6f9c"
      },
      "outputs": [
        {
          "data": {
            "text/plain": [
              "'gnirts'"
            ]
          },
          "execution_count": 76,
          "metadata": {},
          "output_type": "execute_result"
        }
      ],
      "source": [
        "#Reverse the string\n",
        "mystr[-1:-7:-1]"
      ]
    },
    {
      "cell_type": "code",
      "execution_count": null,
      "id": "d5e568ba",
      "metadata": {
        "id": "d5e568ba",
        "outputId": "137322e2-641f-4ceb-9fba-56f7af84fcdf"
      },
      "outputs": [
        {
          "data": {
            "text/plain": [
              "'Tss tntn'"
            ]
          },
          "execution_count": 49,
          "metadata": {},
          "output_type": "execute_result"
        }
      ],
      "source": [
        "#Try Out: Print every third character in the string.\n",
        "mystr[::3]   "
      ]
    },
    {
      "cell_type": "code",
      "execution_count": null,
      "id": "63282923",
      "metadata": {
        "id": "63282923",
        "outputId": "981ba26d-2cf0-43aa-dbd0-e693e5ef9638"
      },
      "outputs": [
        {
          "data": {
            "text/plain": [
              "'nohtyp'"
            ]
          },
          "execution_count": 83,
          "metadata": {},
          "output_type": "execute_result"
        }
      ],
      "source": [
        "#Try Out: Reverse only the word python in the string.\n",
        "mystr[-8:-14:-1]"
      ]
    },
    {
      "cell_type": "code",
      "execution_count": null,
      "id": "0176b9bc",
      "metadata": {
        "id": "0176b9bc",
        "outputId": "c2f074dd-404d-4601-ff24-6f510ad7de08"
      },
      "outputs": [
        {
          "data": {
            "text/plain": [
              "'gnirts nohtyp a si sihT'"
            ]
          },
          "execution_count": 48,
          "metadata": {},
          "output_type": "execute_result"
        }
      ],
      "source": [
        "#Try Out: Reverse every word in the string.\n",
        "mystr[::-1]"
      ]
    },
    {
      "cell_type": "code",
      "execution_count": null,
      "id": "eef843b6",
      "metadata": {
        "id": "eef843b6",
        "outputId": "bdd9dec1-10f0-44b5-e5af-d021b8e9dadb"
      },
      "outputs": [
        {
          "name": "stdout",
          "output_type": "stream",
          "text": [
            "1\n",
            "4\n",
            "7\n"
          ]
        }
      ],
      "source": [
        "num = 1\n",
        "while num<10:\n",
        "    print(num)\n",
        "    num = num + 3"
      ]
    },
    {
      "cell_type": "code",
      "execution_count": null,
      "id": "ffb0a549",
      "metadata": {
        "id": "ffb0a549",
        "outputId": "366c8c6b-1d44-4f65-b596-7c8f8e54e9de"
      },
      "outputs": [
        {
          "name": "stdout",
          "output_type": "stream",
          "text": [
            "1   5\n",
            "1   6\n",
            "1   7\n"
          ]
        }
      ],
      "source": [
        "i = 1\n",
        "j = 5\n",
        "while i < 4:\n",
        "    while j < 8:\n",
        "        print(i,'','',j)\n",
        "        j = j + 1\n",
        "    i = i + 1"
      ]
    },
    {
      "cell_type": "code",
      "execution_count": null,
      "id": "8d197056",
      "metadata": {
        "id": "8d197056",
        "outputId": "cf124c9f-3945-43d4-eca4-248270d87a32"
      },
      "outputs": [
        {
          "data": {
            "text/plain": [
              "range(0, 3)"
            ]
          },
          "execution_count": 55,
          "metadata": {},
          "output_type": "execute_result"
        }
      ],
      "source": [
        "range(3)"
      ]
    },
    {
      "cell_type": "code",
      "execution_count": null,
      "id": "924ab700",
      "metadata": {
        "id": "924ab700"
      },
      "outputs": [],
      "source": [
        ""
      ]
    },
    {
      "cell_type": "code",
      "execution_count": null,
      "id": "30ee0292",
      "metadata": {
        "id": "30ee0292"
      },
      "outputs": [],
      "source": [
        ""
      ]
    },
    {
      "cell_type": "code",
      "execution_count": null,
      "id": "f594ef04",
      "metadata": {
        "id": "f594ef04"
      },
      "outputs": [],
      "source": [
        ""
      ]
    },
    {
      "cell_type": "code",
      "execution_count": null,
      "id": "f9c2d528",
      "metadata": {
        "id": "f9c2d528"
      },
      "outputs": [],
      "source": [
        ""
      ]
    },
    {
      "cell_type": "code",
      "execution_count": null,
      "id": "1f019011",
      "metadata": {
        "id": "1f019011"
      },
      "outputs": [],
      "source": [
        ""
      ]
    }
  ],
  "metadata": {
    "kernelspec": {
      "display_name": "Python 3 (ipykernel)",
      "language": "python",
      "name": "python3"
    },
    "language_info": {
      "codemirror_mode": {
        "name": "ipython",
        "version": 3
      },
      "file_extension": ".py",
      "mimetype": "text/x-python",
      "name": "python",
      "nbconvert_exporter": "python",
      "pygments_lexer": "ipython3",
      "version": "3.9.7"
    },
    "colab": {
      "name": "Strings & Lists Notes.ipynb",
      "provenance": [],
      "include_colab_link": true
    }
  },
  "nbformat": 4,
  "nbformat_minor": 5
}