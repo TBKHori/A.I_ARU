{
  "cells": [
    {
      "cell_type": "markdown",
      "metadata": {
        "id": "view-in-github",
        "colab_type": "text"
      },
      "source": [
        "<a href=\"https://colab.research.google.com/github/TBKHori/A.I_ARU/blob/main/Strings_%26_Lists_Notes.ipynb\" target=\"_parent\"><img src=\"https://colab.research.google.com/assets/colab-badge.svg\" alt=\"Open In Colab\"/></a>"
      ]
    },
    {
      "cell_type": "code",
      "execution_count": null,
      "id": "35d44153",
      "metadata": {
        "id": "35d44153",
        "outputId": "b8a413b2-5775-41c6-d9d5-bcafbb71bfac"
      },
      "outputs": [
        {
          "data": {
            "text/plain": [
              "[100, 200, 300]"
            ]
          },
          "execution_count": 1,
          "metadata": {},
          "output_type": "execute_result"
        }
      ],
      "source": [
        "# simple numeric list\n",
        "[100,200,300]"
      ]
    },
    {
      "cell_type": "code",
      "execution_count": null,
      "id": "9822c2bf",
      "metadata": {
        "id": "9822c2bf",
        "outputId": "b5b006c0-5341-4092-f6d0-fce8582c0741"
      },
      "outputs": [
        {
          "data": {
            "text/plain": [
              "['test', 100, [1, 2]]"
            ]
          },
          "execution_count": 2,
          "metadata": {},
          "output_type": "execute_result"
        }
      ],
      "source": [
        "# A mixed list\n",
        "['test',100,[1,2]]"
      ]
    },
    {
      "cell_type": "code",
      "execution_count": null,
      "id": "94a4b436",
      "metadata": {
        "id": "94a4b436",
        "outputId": "6884614b-b255-471b-d602-ae863e7b1641"
      },
      "outputs": [
        {
          "data": {
            "text/plain": [
              "['abc', 'def', 'ghi']"
            ]
          },
          "execution_count": 3,
          "metadata": {},
          "output_type": "execute_result"
        }
      ],
      "source": [
        "# A list variable\n",
        "my_list = ['abc','def','ghi']\n",
        "my_list"
      ]
    },
    {
      "cell_type": "code",
      "execution_count": null,
      "id": "7ca316ce",
      "metadata": {
        "id": "7ca316ce"
      },
      "outputs": [],
      "source": [
        "# Add new data to list using append() method\n",
        "my_list.append('test')"
      ]
    },
    {
      "cell_type": "code",
      "execution_count": null,
      "id": "2ba36105",
      "metadata": {
        "id": "2ba36105",
        "outputId": "6a237d2f-4791-4692-e6bf-e3153f775ce0"
      },
      "outputs": [
        {
          "data": {
            "text/plain": [
              "['abc', 'def', 'ghi', 'test']"
            ]
          },
          "execution_count": 5,
          "metadata": {},
          "output_type": "execute_result"
        }
      ],
      "source": [
        "# Show the complete list\n",
        "my_list"
      ]
    },
    {
      "cell_type": "code",
      "execution_count": null,
      "id": "88261969",
      "metadata": {
        "id": "88261969",
        "outputId": "19e1f7f3-5c12-4e73-b022-2665bc573a03"
      },
      "outputs": [
        {
          "data": {
            "text/plain": [
              "'abc'"
            ]
          },
          "execution_count": 6,
          "metadata": {},
          "output_type": "execute_result"
        }
      ],
      "source": [
        "# Print the first element of the list\n",
        "my_list[0]"
      ]
    },
    {
      "cell_type": "code",
      "execution_count": null,
      "id": "3ed6cad7",
      "metadata": {
        "id": "3ed6cad7",
        "outputId": "412abf21-36ec-4f3b-cfef-b438269f0159"
      },
      "outputs": [
        {
          "data": {
            "text/plain": [
              "'def'"
            ]
          },
          "execution_count": 7,
          "metadata": {},
          "output_type": "execute_result"
        }
      ],
      "source": [
        "# Print the second element of the list.\n",
        "my_list[1]"
      ]
    },
    {
      "cell_type": "code",
      "execution_count": null,
      "id": "0dea3a91",
      "metadata": {
        "id": "0dea3a91",
        "outputId": "226c07aa-5ce0-4acd-adf9-44aebf4002c4"
      },
      "outputs": [
        {
          "data": {
            "text/plain": [
              "['def', 'ghi', 'test']"
            ]
          },
          "execution_count": 8,
          "metadata": {},
          "output_type": "execute_result"
        }
      ],
      "source": [
        "# Select a portion of the list starting from second element\n",
        "my_list[1:]"
      ]
    },
    {
      "cell_type": "code",
      "execution_count": null,
      "id": "3d08e309",
      "metadata": {
        "id": "3d08e309",
        "outputId": "6ccf980a-8f46-4b8b-8d64-1591576cca53"
      },
      "outputs": [
        {
          "data": {
            "text/plain": [
              "['abc', 'def']"
            ]
          },
          "execution_count": 9,
          "metadata": {},
          "output_type": "execute_result"
        }
      ],
      "source": [
        "# Select a portion of the list from beginning to third element of the list.\n",
        "my_list[:2]"
      ]
    },
    {
      "cell_type": "code",
      "execution_count": null,
      "id": "25854970",
      "metadata": {
        "id": "25854970"
      },
      "outputs": [],
      "source": [
        "# Change the first element of the list.\n",
        "my_list[0] = 'NEW'"
      ]
    },
    {
      "cell_type": "code",
      "execution_count": null,
      "id": "1b83495d",
      "metadata": {
        "id": "1b83495d",
        "outputId": "d40168fc-d03e-4839-95c4-2d1207868666"
      },
      "outputs": [
        {
          "data": {
            "text/plain": [
              "['NEW', 'def', 'ghi', 'test']"
            ]
          },
          "execution_count": 12,
          "metadata": {},
          "output_type": "execute_result"
        }
      ],
      "source": [
        "my_list"
      ]
    },
    {
      "cell_type": "code",
      "execution_count": null,
      "id": "7638897b",
      "metadata": {
        "id": "7638897b",
        "outputId": "132e582b-61cc-4b20-88a1-821f63651c96"
      },
      "outputs": [
        {
          "data": {
            "text/plain": [
              "[1, 2, 3, [4, 5, ['test']]]"
            ]
          },
          "execution_count": 13,
          "metadata": {},
          "output_type": "execute_result"
        }
      ],
      "source": [
        "# A nested list\n",
        "nested_list = [1,2,3,[4,5,['test']]]\n",
        "nested_list"
      ]
    },
    {
      "cell_type": "code",
      "execution_count": null,
      "id": "3a7b2c47",
      "metadata": {
        "id": "3a7b2c47",
        "outputId": "057630b4-e288-4306-fdb6-214ee6ea3554"
      },
      "outputs": [
        {
          "data": {
            "text/plain": [
              "[4, 5, ['test']]"
            ]
          },
          "execution_count": 14,
          "metadata": {},
          "output_type": "execute_result"
        }
      ],
      "source": [
        "# Select fourth element of a nested list.\n",
        "nested_list[3]"
      ]
    },
    {
      "cell_type": "code",
      "execution_count": null,
      "id": "4d94bebc",
      "metadata": {
        "id": "4d94bebc",
        "outputId": "09567e12-5f8a-4568-9999-81bbaf587832"
      },
      "outputs": [
        {
          "data": {
            "text/plain": [
              "['test']"
            ]
          },
          "execution_count": 15,
          "metadata": {},
          "output_type": "execute_result"
        }
      ],
      "source": [
        "# Select the third element of the fourth element of the nested list.\n",
        "nested_list[3][2]"
      ]
    },
    {
      "cell_type": "code",
      "execution_count": null,
      "id": "a3bef165",
      "metadata": {
        "id": "a3bef165",
        "outputId": "119421ef-58cd-4552-e3ef-9e95dd64891a"
      },
      "outputs": [
        {
          "data": {
            "text/plain": [
              "'test'"
            ]
          },
          "execution_count": 16,
          "metadata": {},
          "output_type": "execute_result"
        }
      ],
      "source": [
        "# Show only the content of the element above instead of as a list.\n",
        "nested_list[3][2][0]"
      ]
    },
    {
      "cell_type": "code",
      "execution_count": null,
      "id": "e0fc0e98",
      "metadata": {
        "id": "e0fc0e98",
        "outputId": "16aa2571-6629-4fb4-f339-dd77babbc6a5"
      },
      "outputs": [
        {
          "name": "stdout",
          "output_type": "stream",
          "text": [
            "[[25, 25, 25, 25, 25], [25, 25, 25, 25, 25], [25, 25, 25, 25, 25], [25, 25, 25, 25, 25], [25, 25, 25, 25, 25]]\n"
          ]
        }
      ],
      "source": [
        "\"\"\" Try Out: Create a 5X5 matrix using numbers 1 to 25 with nested lists. Access the middle\n",
        "elements in the matrix. Try all the methods learned till now to manipulate this list\"\"\"\n",
        "n = 5\n",
        "m = 5\n",
        "val = [0] * n\n",
        "for x in range (n):\n",
        "    val[x] = [25] * m\n",
        "print(val)"
      ]
    },
    {
      "cell_type": "code",
      "execution_count": null,
      "id": "75f47490",
      "metadata": {
        "id": "75f47490",
        "outputId": "9ad09385-793c-4a15-f741-5102e2777070"
      },
      "outputs": [
        {
          "data": {
            "text/plain": [
              "[[1,\n",
              "  2,\n",
              "  3,\n",
              "  ['tricky', ['oh', 'man', 'inception', ['target', [1, 2, 3, 'hello']]]]]]"
            ]
          },
          "execution_count": 42,
          "metadata": {},
          "output_type": "execute_result"
        }
      ],
      "source": [
        "\"\"\" Try Out: Given this nested list grab the word “hello”. Be prepared, this will be annoying/tricky. \"\"\"\n",
        "d = ['k1',[1,2,3,['tricky',['oh','man','inception',['target',[1,2,3,'hello']]]]]]\n",
        "d[13:-8:-9]"
      ]
    },
    {
      "cell_type": "code",
      "execution_count": null,
      "id": "af112ddf",
      "metadata": {
        "id": "af112ddf",
        "outputId": "25d8f223-b85f-403d-8929-75e1b8df8cfe"
      },
      "outputs": [
        {
          "data": {
            "text/plain": [
              "'s'"
            ]
          },
          "execution_count": 43,
          "metadata": {},
          "output_type": "execute_result"
        }
      ],
      "source": [
        "mystr = \"This is a python string\"\n",
        "# Get a value at index 3\n",
        "mystr[3]"
      ]
    },
    {
      "cell_type": "code",
      "execution_count": null,
      "id": "363e83af",
      "metadata": {
        "id": "363e83af",
        "outputId": "12a69513-84f1-4f2c-81ef-4e3f78276143"
      },
      "outputs": [
        {
          "data": {
            "text/plain": [
              "'python'"
            ]
          },
          "execution_count": 44,
          "metadata": {},
          "output_type": "execute_result"
        }
      ],
      "source": [
        "#Get a slice of the string with \"python\"\n",
        "mystr[10:16]"
      ]
    },
    {
      "cell_type": "code",
      "execution_count": null,
      "id": "c87bd682",
      "metadata": {
        "id": "c87bd682",
        "outputId": "2539566b-720c-4232-fb21-44d6307a19bd"
      },
      "outputs": [
        {
          "data": {
            "text/plain": [
              "'Ti sapto tig'"
            ]
          },
          "execution_count": 45,
          "metadata": {},
          "output_type": "execute_result"
        }
      ],
      "source": [
        "#Get a slice of the string with \"python\"\n",
        "mystr[0::2]"
      ]
    },
    {
      "cell_type": "code",
      "execution_count": null,
      "id": "39cd62f7",
      "metadata": {
        "id": "39cd62f7",
        "outputId": "37493ab3-70ee-4097-fcb2-94879bb29a0d"
      },
      "outputs": [
        {
          "data": {
            "text/plain": [
              "'g'"
            ]
          },
          "execution_count": 46,
          "metadata": {},
          "output_type": "execute_result"
        }
      ],
      "source": [
        "#Get the last letter of the string\n",
        "mystr[-1]"
      ]
    },
    {
      "cell_type": "code",
      "execution_count": null,
      "id": "983cef0d",
      "metadata": {
        "id": "983cef0d",
        "outputId": "49be5945-f9c3-49f7-d7c4-c1b8accd4401"
      },
      "outputs": [
        {
          "data": {
            "text/plain": [
              "'gnirts nohtyp a si sihT'"
            ]
          },
          "execution_count": 47,
          "metadata": {},
          "output_type": "execute_result"
        }
      ],
      "source": [
        "#Reverse the string\n",
        "mystr[::-1]"
      ]
    },
    {
      "cell_type": "code",
      "execution_count": null,
      "id": "621249fe",
      "metadata": {
        "id": "621249fe",
        "outputId": "aedc4ec7-cf1f-4646-b255-61d23c051a4f"
      },
      "outputs": [
        {
          "data": {
            "text/plain": [
              "'gnirts'"
            ]
          },
          "execution_count": 76,
          "metadata": {},
          "output_type": "execute_result"
        }
      ],
      "source": [
        "#Reverse the string\n",
        "mystr[-1:-7:-1]"
      ]
    },
    {
      "cell_type": "code",
      "execution_count": null,
      "id": "d5e568ba",
      "metadata": {
        "id": "d5e568ba",
        "outputId": "7c41f228-5028-4181-c538-9f65821c2d1d"
      },
      "outputs": [
        {
          "data": {
            "text/plain": [
              "'Tss tntn'"
            ]
          },
          "execution_count": 49,
          "metadata": {},
          "output_type": "execute_result"
        }
      ],
      "source": [
        "#Try Out: Print every third character in the string.\n",
        "mystr[::3]   "
      ]
    },
    {
      "cell_type": "code",
      "execution_count": null,
      "id": "63282923",
      "metadata": {
        "id": "63282923",
        "outputId": "ebaae7e7-faa6-4573-edb9-56814a4796b2"
      },
      "outputs": [
        {
          "data": {
            "text/plain": [
              "'nohtyp'"
            ]
          },
          "execution_count": 83,
          "metadata": {},
          "output_type": "execute_result"
        }
      ],
      "source": [
        "#Try Out: Reverse only the word python in the string.\n",
        "mystr[-8:-14:-1]"
      ]
    },
    {
      "cell_type": "code",
      "execution_count": null,
      "id": "0176b9bc",
      "metadata": {
        "id": "0176b9bc",
        "outputId": "a5f6f3ce-24ea-4d28-ca3c-42fee7d6b95a"
      },
      "outputs": [
        {
          "data": {
            "text/plain": [
              "'gnirts nohtyp a si sihT'"
            ]
          },
          "execution_count": 48,
          "metadata": {},
          "output_type": "execute_result"
        }
      ],
      "source": [
        "#Try Out: Reverse every word in the string.\n",
        "mystr[::-1]"
      ]
    },
    {
      "cell_type": "code",
      "execution_count": null,
      "id": "eef843b6",
      "metadata": {
        "id": "eef843b6",
        "outputId": "d68f7639-9ea4-40e1-9343-84d89db51780"
      },
      "outputs": [
        {
          "name": "stdout",
          "output_type": "stream",
          "text": [
            "1\n",
            "4\n",
            "7\n"
          ]
        }
      ],
      "source": [
        "num = 1\n",
        "while num<10:\n",
        "    print(num)\n",
        "    num = num + 3"
      ]
    },
    {
      "cell_type": "code",
      "execution_count": null,
      "id": "ffb0a549",
      "metadata": {
        "id": "ffb0a549",
        "outputId": "b8b0a2d1-17d3-4bae-87be-fef27851b308"
      },
      "outputs": [
        {
          "name": "stdout",
          "output_type": "stream",
          "text": [
            "1   5\n",
            "1   6\n",
            "1   7\n"
          ]
        }
      ],
      "source": [
        "i = 1\n",
        "j = 5\n",
        "while i < 4:\n",
        "    while j < 8:\n",
        "        print(i,'','',j)\n",
        "        j = j + 1\n",
        "    i = i + 1"
      ]
    },
    {
      "cell_type": "code",
      "execution_count": null,
      "id": "8d197056",
      "metadata": {
        "id": "8d197056",
        "outputId": "41dbda46-968c-4b6e-e03a-f75bb2319cab"
      },
      "outputs": [
        {
          "data": {
            "text/plain": [
              "range(0, 3)"
            ]
          },
          "execution_count": 55,
          "metadata": {},
          "output_type": "execute_result"
        }
      ],
      "source": [
        "range(3)"
      ]
    },
    {
      "cell_type": "code",
      "execution_count": null,
      "id": "924ab700",
      "metadata": {
        "id": "924ab700"
      },
      "outputs": [],
      "source": [
        ""
      ]
    },
    {
      "cell_type": "code",
      "execution_count": null,
      "id": "30ee0292",
      "metadata": {
        "id": "30ee0292"
      },
      "outputs": [],
      "source": [
        ""
      ]
    },
    {
      "cell_type": "code",
      "execution_count": null,
      "id": "f594ef04",
      "metadata": {
        "id": "f594ef04"
      },
      "outputs": [],
      "source": [
        ""
      ]
    },
    {
      "cell_type": "code",
      "execution_count": null,
      "id": "f9c2d528",
      "metadata": {
        "id": "f9c2d528"
      },
      "outputs": [],
      "source": [
        ""
      ]
    },
    {
      "cell_type": "code",
      "execution_count": null,
      "id": "1f019011",
      "metadata": {
        "id": "1f019011"
      },
      "outputs": [],
      "source": [
        ""
      ]
    }
  ],
  "metadata": {
    "kernelspec": {
      "display_name": "Python 3 (ipykernel)",
      "language": "python",
      "name": "python3"
    },
    "language_info": {
      "codemirror_mode": {
        "name": "ipython",
        "version": 3
      },
      "file_extension": ".py",
      "mimetype": "text/x-python",
      "name": "python",
      "nbconvert_exporter": "python",
      "pygments_lexer": "ipython3",
      "version": "3.9.7"
    },
    "colab": {
      "name": "Strings & Lists Notes.ipynb",
      "provenance": [],
      "include_colab_link": true
    }
  },
  "nbformat": 4,
  "nbformat_minor": 5
}