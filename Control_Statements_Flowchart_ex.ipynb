{
  "cells": [
    {
      "cell_type": "markdown",
      "metadata": {
        "id": "view-in-github",
        "colab_type": "text"
      },
      "source": [
        "<a href=\"https://colab.research.google.com/github/TBKHori/A.I_ARU/blob/main/Control_Statements_Flowchart_ex.ipynb\" target=\"_parent\"><img src=\"https://colab.research.google.com/assets/colab-badge.svg\" alt=\"Open In Colab\"/></a>"
      ]
    },
    {
      "cell_type": "markdown",
      "id": "f4870485",
      "metadata": {
        "id": "f4870485"
      },
      "source": [
        "1.1 Burger Joint code"
      ]
    },
    {
      "cell_type": "code",
      "execution_count": null,
      "id": "deaa09d1",
      "metadata": {
        "id": "deaa09d1"
      },
      "outputs": [],
      "source": [
        "fries = False\n",
        "drink = False\n",
        "\n",
        "x = int(input(\"Do you want fries? answer 1 for yes\"))\n",
        "if x == 1:\n",
        "    fries = True\n",
        "x = int(input(\"Do you want a drink? answer 1 for yes\"))\n",
        "if x == 1:\n",
        "    drink = True"
      ]
    },
    {
      "cell_type": "markdown",
      "id": "13a5a399",
      "metadata": {
        "id": "13a5a399"
      },
      "source": [
        "Do you want fries? answer 1 for Yes 1 &  0 for No.\n",
        "Do you want a drink? answer 1 for Yes & 0 for No."
      ]
    },
    {
      "cell_type": "markdown",
      "id": "4b95c11f",
      "metadata": {
        "id": "4b95c11f"
      },
      "source": [
        "1.3 Population Density code"
      ]
    },
    {
      "cell_type": "code",
      "execution_count": null,
      "id": "54183978",
      "metadata": {
        "id": "54183978",
        "outputId": "9aa6eb66-4b95-4549-dfee-2a15fb07588b"
      },
      "outputs": [
        {
          "name": "stdout",
          "output_type": "stream",
          "text": [
            "dense\n"
          ]
        }
      ],
      "source": [
        "x = int(input(\"What is the population\"))\n",
        "y = int(input(\"What is the square miles\"))\n",
        "z = x/y\n",
        "\n",
        "if z < 10:\n",
        "    print(\"sparse\")\n",
        "    \n",
        "if z >= 10 and z < 100:\n",
        "    print(\"low\")\n",
        "    \n",
        "if z >= 100 and z < 300:\n",
        "    print(\"medium\")\n",
        "    \n",
        "if z >= 300 and z < 1000:\n",
        "    print(\"high\")\n",
        "    \n",
        "else:\n",
        "    print(\"dense\")"
      ]
    },
    {
      "cell_type": "markdown",
      "id": "566c3e09",
      "metadata": {
        "id": "566c3e09"
      },
      "source": [
        "What is the population 3500.\n",
        "What is the square miles 3.\n",
        "dense."
      ]
    },
    {
      "cell_type": "markdown",
      "id": "133d7954",
      "metadata": {
        "id": "133d7954"
      },
      "source": [
        "1.4 Find your pet code"
      ]
    },
    {
      "cell_type": "code",
      "execution_count": null,
      "id": "89c87e60",
      "metadata": {
        "id": "89c87e60",
        "outputId": "759fd580-b740-4c4a-ae2a-25110c3cc105"
      },
      "outputs": [
        {
          "name": "stdout",
          "output_type": "stream",
          "text": [
            "Get a snake\n"
          ]
        }
      ],
      "source": [
        "x = int(input(\"Are you looking for a life-long companion? answer 1 for yes\"))\n",
        "if x == 1:\n",
        "    print(\"Get a dog\")\n",
        "else: \n",
        "    x = int(input(\"Do you mind having to clean up shedded fur? answer 1 for yes\"))\n",
        "    if x == 1:\n",
        "        x = int(input(\"how many legs can you handle?\"))\n",
        "        if x == 0:\n",
        "            x = int(input(\"Do you want to buy dead mice? answer 1 for yes\"))\n",
        "            if x == 1:\n",
        "                print(\"Get a snake\")\n",
        "            else:\n",
        "                print(\"Get a fish\")\n",
        "        if x == 2:\n",
        "            print(\"Get a bird\")\n",
        "            \n",
        "        if x == 4:\n",
        "            x = int(input(\"Do you want a hot-blooded pet? answer 1 for yes\"))\n",
        "            if x == 1:\n",
        "                x = int(input(\"Are you looking for a pet with a tail? answer 1 for yes\"))\n",
        "                if x == 1:\n",
        "                    x = int(input(\"A long and fuzzy tail? answer 1 for yes\"))\n",
        "                    if x == 1:\n",
        "                        print(\"get a gerbil\")\n",
        "                    else:\n",
        "                        print(\"get a rat\")\n",
        "                else:\n",
        "                    x = int(input(\"Do you want it to have spikes? answer 1 for yes\"))\n",
        "                    if x == 1:\n",
        "                        print(\"get a hedgehog\")\n",
        "                    else:\n",
        "                        print(\"get a hamster\")\n",
        "                        \n",
        "    else: #If you don't mind cleaning up shedded fur\n",
        "        x = int(input(\"Are you happy with a stinky pet? answer 1 for yes\"))\n",
        "        if x == 1:\n",
        "            print(\"get a ferret\")\n",
        "        else:\n",
        "            x = int(input(\"Would you rather be scratched or bitten? answer 1 for scratched\"))\n",
        "            if x == 1:\n",
        "                print(\"Get a cat\")\n",
        "\n",
        "            else:\n",
        "                print(\"get a rabbit\")\n",
        "                            "
      ]
    }
  ],
  "metadata": {
    "kernelspec": {
      "display_name": "Python 3 (ipykernel)",
      "language": "python",
      "name": "python3"
    },
    "language_info": {
      "codemirror_mode": {
        "name": "ipython",
        "version": 3
      },
      "file_extension": ".py",
      "mimetype": "text/x-python",
      "name": "python",
      "nbconvert_exporter": "python",
      "pygments_lexer": "ipython3",
      "version": "3.9.7"
    },
    "colab": {
      "name": "Control Statements Flowchart ex.ipynb",
      "provenance": [],
      "include_colab_link": true
    }
  },
  "nbformat": 4,
  "nbformat_minor": 5
}