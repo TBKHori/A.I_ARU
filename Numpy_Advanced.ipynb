{
  "cells": [
    {
      "cell_type": "markdown",
      "metadata": {
        "id": "view-in-github",
        "colab_type": "text"
      },
      "source": [
        "<a href=\"https://colab.research.google.com/github/TBKHori/A.I_ARU/blob/main/Numpy_Advanced.ipynb\" target=\"_parent\"><img src=\"https://colab.research.google.com/assets/colab-badge.svg\" alt=\"Open In Colab\"/></a>"
      ]
    },
    {
      "cell_type": "code",
      "execution_count": null,
      "id": "773ad6d4",
      "metadata": {
        "id": "773ad6d4"
      },
      "outputs": [],
      "source": [
        "import numpy as np\n",
        "import pandas as pd\n",
        "np.random.seed(12345)\n",
        "import matplotlib.pyplot as plt\n",
        "plt.rc('figure', figsize=(10, 6))\n",
        "PREVIOUS_MAX_ROWS = pd.options.display.max_rows\n",
        "pd.options.display.max_rows = 20\n",
        "np.set_printoptions(precision=4, suppress=True)"
      ]
    },
    {
      "cell_type": "markdown",
      "id": "02775ec0",
      "metadata": {
        "id": "02775ec0"
      },
      "source": [
        "ndarray Object Internals"
      ]
    },
    {
      "cell_type": "code",
      "execution_count": null,
      "id": "a1339f35",
      "metadata": {
        "id": "a1339f35",
        "outputId": "edef3f59-b95e-4fed-f1b1-981fbcbdeb3a"
      },
      "outputs": [
        {
          "data": {
            "text/plain": [
              "(10, 5)"
            ]
          },
          "execution_count": 3,
          "metadata": {},
          "output_type": "execute_result"
        }
      ],
      "source": [
        "np.ones((10, 5)).shape"
      ]
    },
    {
      "cell_type": "markdown",
      "id": "ce70597c",
      "metadata": {
        "id": "ce70597c"
      },
      "source": [
        "NumPy dtype Hierarchy"
      ]
    },
    {
      "cell_type": "code",
      "execution_count": null,
      "id": "9f575661",
      "metadata": {
        "id": "9f575661",
        "outputId": "33fb01f7-7a9b-4790-c66d-8f4a514778ce"
      },
      "outputs": [
        {
          "data": {
            "text/plain": [
              "(160, 40, 8)"
            ]
          },
          "execution_count": 4,
          "metadata": {},
          "output_type": "execute_result"
        }
      ],
      "source": [
        "np.ones((3, 4, 5), dtype=np.float64).strides"
      ]
    },
    {
      "cell_type": "code",
      "execution_count": null,
      "id": "ec52ac0a",
      "metadata": {
        "id": "ec52ac0a",
        "outputId": "cc4bee4f-789f-4ac0-d3c0-a0946f72f0aa"
      },
      "outputs": [
        {
          "data": {
            "text/plain": [
              "True"
            ]
          },
          "execution_count": 5,
          "metadata": {},
          "output_type": "execute_result"
        }
      ],
      "source": [
        "ints = np.ones(10, dtype=np.uint16)\n",
        "floats = np.ones(10, dtype=np.float32)\n",
        "np.issubdtype(ints.dtype, np.integer)\n",
        "np.issubdtype(floats.dtype, np.floating)"
      ]
    },
    {
      "cell_type": "code",
      "execution_count": null,
      "id": "fe7b8436",
      "metadata": {
        "id": "fe7b8436",
        "outputId": "777f0d53-e6a8-4cc2-9af0-a3eb01780f2d"
      },
      "outputs": [
        {
          "data": {
            "text/plain": [
              "[numpy.float64,\n",
              " numpy.floating,\n",
              " numpy.inexact,\n",
              " numpy.number,\n",
              " numpy.generic,\n",
              " float,\n",
              " object]"
            ]
          },
          "execution_count": 6,
          "metadata": {},
          "output_type": "execute_result"
        }
      ],
      "source": [
        "np.float64.mro()"
      ]
    },
    {
      "cell_type": "code",
      "execution_count": null,
      "id": "78a1eec2",
      "metadata": {
        "id": "78a1eec2",
        "outputId": "752988b0-499c-4739-a47e-95ba090f8ed0"
      },
      "outputs": [
        {
          "data": {
            "text/plain": [
              "True"
            ]
          },
          "execution_count": 7,
          "metadata": {},
          "output_type": "execute_result"
        }
      ],
      "source": [
        "np.issubdtype(ints.dtype, np.number)"
      ]
    },
    {
      "cell_type": "markdown",
      "id": "edc62dc5",
      "metadata": {
        "id": "edc62dc5"
      },
      "source": [
        "Advanced Array Manipulation\n",
        "\n",
        "Reshaping Arrays"
      ]
    },
    {
      "cell_type": "code",
      "execution_count": null,
      "id": "dd25d3b5",
      "metadata": {
        "id": "dd25d3b5",
        "outputId": "c716cc09-2bb7-444e-f893-a7635c1c230f"
      },
      "outputs": [
        {
          "data": {
            "text/plain": [
              "array([[0, 1],\n",
              "       [2, 3],\n",
              "       [4, 5],\n",
              "       [6, 7]])"
            ]
          },
          "execution_count": 8,
          "metadata": {},
          "output_type": "execute_result"
        }
      ],
      "source": [
        "arr = np.arange(8)\n",
        "arr\n",
        "arr.reshape((4, 2))"
      ]
    },
    {
      "cell_type": "code",
      "execution_count": null,
      "id": "fd1286ab",
      "metadata": {
        "id": "fd1286ab",
        "outputId": "233ff20e-2e92-4df8-a659-f164607c2736"
      },
      "outputs": [
        {
          "data": {
            "text/plain": [
              "array([[0, 1, 2, 3],\n",
              "       [4, 5, 6, 7]])"
            ]
          },
          "execution_count": 9,
          "metadata": {},
          "output_type": "execute_result"
        }
      ],
      "source": [
        "arr.reshape((4, 2)).reshape((2, 4))"
      ]
    },
    {
      "cell_type": "code",
      "execution_count": null,
      "id": "1be5b408",
      "metadata": {
        "id": "1be5b408",
        "outputId": "6b409b5a-140c-4a75-cc2d-bcda67a11667"
      },
      "outputs": [
        {
          "data": {
            "text/plain": [
              "array([[ 0,  1,  2],\n",
              "       [ 3,  4,  5],\n",
              "       [ 6,  7,  8],\n",
              "       [ 9, 10, 11],\n",
              "       [12, 13, 14]])"
            ]
          },
          "execution_count": 10,
          "metadata": {},
          "output_type": "execute_result"
        }
      ],
      "source": [
        "arr = np.arange(15)\n",
        "arr.reshape((5, -1))"
      ]
    },
    {
      "cell_type": "code",
      "execution_count": null,
      "id": "656dad24",
      "metadata": {
        "id": "656dad24",
        "outputId": "d6bbfaba-10b1-4b73-8c82-02642ec8549e"
      },
      "outputs": [
        {
          "data": {
            "text/plain": [
              "array([[ 0,  1,  2,  3,  4],\n",
              "       [ 5,  6,  7,  8,  9],\n",
              "       [10, 11, 12, 13, 14]])"
            ]
          },
          "execution_count": 11,
          "metadata": {},
          "output_type": "execute_result"
        }
      ],
      "source": [
        "other_arr = np.ones((3, 5))\n",
        "other_arr.shape\n",
        "arr.reshape(other_arr.shape)"
      ]
    },
    {
      "cell_type": "code",
      "execution_count": null,
      "id": "42eb9667",
      "metadata": {
        "id": "42eb9667",
        "outputId": "0bf20c6e-d2cd-4995-bc17-2f2f0e59656e"
      },
      "outputs": [
        {
          "data": {
            "text/plain": [
              "array([ 0,  1,  2,  3,  4,  5,  6,  7,  8,  9, 10, 11, 12, 13, 14])"
            ]
          },
          "execution_count": 12,
          "metadata": {},
          "output_type": "execute_result"
        }
      ],
      "source": [
        "arr = np.arange(15).reshape((5, 3))\n",
        "arr\n",
        "arr.ravel()"
      ]
    },
    {
      "cell_type": "code",
      "execution_count": null,
      "id": "b2b6510f",
      "metadata": {
        "id": "b2b6510f",
        "outputId": "32efe3fe-0b30-4562-b8d0-e5ff57f6f9e1"
      },
      "outputs": [
        {
          "data": {
            "text/plain": [
              "array([ 0,  1,  2,  3,  4,  5,  6,  7,  8,  9, 10, 11, 12, 13, 14])"
            ]
          },
          "execution_count": 13,
          "metadata": {},
          "output_type": "execute_result"
        }
      ],
      "source": [
        "arr.flatten()"
      ]
    },
    {
      "cell_type": "markdown",
      "id": "27ddac4f",
      "metadata": {
        "id": "27ddac4f"
      },
      "source": [
        "Concatenating and Splitting Arrays"
      ]
    },
    {
      "cell_type": "code",
      "execution_count": null,
      "id": "d1aced35",
      "metadata": {
        "id": "d1aced35",
        "outputId": "bc33ff07-07ef-4efc-8e56-052dba01e419"
      },
      "outputs": [
        {
          "data": {
            "text/plain": [
              "array([ 0,  4,  8,  1,  5,  9,  2,  6, 10,  3,  7, 11])"
            ]
          },
          "execution_count": 15,
          "metadata": {},
          "output_type": "execute_result"
        }
      ],
      "source": [
        "arr = np.arange(12).reshape((3, 4))\n",
        "arr\n",
        "arr.ravel()\n",
        "arr.ravel('F')"
      ]
    },
    {
      "cell_type": "markdown",
      "id": "df52c7f3",
      "metadata": {
        "id": "df52c7f3"
      },
      "source": [
        "Concatenating and Splitting Arrays"
      ]
    },
    {
      "cell_type": "code",
      "execution_count": null,
      "id": "b8618e51",
      "metadata": {
        "id": "b8618e51",
        "outputId": "442528a7-85c5-4662-f49a-d86f6a9a13f1"
      },
      "outputs": [
        {
          "data": {
            "text/plain": [
              "array([[ 1,  2,  3,  7,  8,  9],\n",
              "       [ 4,  5,  6, 10, 11, 12]])"
            ]
          },
          "execution_count": 16,
          "metadata": {},
          "output_type": "execute_result"
        }
      ],
      "source": [
        "arr1 = np.array([[1, 2, 3], [4, 5, 6]])\n",
        "arr2 = np.array([[7, 8, 9], [10, 11, 12]])\n",
        "np.concatenate([arr1, arr2], axis=0)\n",
        "np.concatenate([arr1, arr2], axis=1)"
      ]
    },
    {
      "cell_type": "code",
      "execution_count": null,
      "id": "99c95caf",
      "metadata": {
        "id": "99c95caf"
      },
      "outputs": [],
      "source": [
        ""
      ]
    }
  ],
  "metadata": {
    "kernelspec": {
      "display_name": "Python 3 (ipykernel)",
      "language": "python",
      "name": "python3"
    },
    "language_info": {
      "codemirror_mode": {
        "name": "ipython",
        "version": 3
      },
      "file_extension": ".py",
      "mimetype": "text/x-python",
      "name": "python",
      "nbconvert_exporter": "python",
      "pygments_lexer": "ipython3",
      "version": "3.9.7"
    },
    "colab": {
      "name": "Numpy-Advanced.ipynb",
      "provenance": [],
      "include_colab_link": true
    }
  },
  "nbformat": 4,
  "nbformat_minor": 5
}